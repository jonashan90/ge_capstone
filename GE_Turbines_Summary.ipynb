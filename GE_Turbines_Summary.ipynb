{
 "cells": [
  {
   "cell_type": "code",
   "execution_count": 22,
   "metadata": {},
   "outputs": [],
   "source": [
    "import pandas as pd"
   ]
  },
  {
   "cell_type": "code",
   "execution_count": 23,
   "metadata": {},
   "outputs": [],
   "source": [
    "usgs_data = pd.read_csv('./uswtdbCSV/uswtdb_v1_1_20180710.csv')"
   ]
  },
  {
   "cell_type": "code",
   "execution_count": 24,
   "metadata": {},
   "outputs": [],
   "source": [
    "usgs_ge_data = usgs_data[usgs_data[\"t_manu\"] == \"GE Wind\"]"
   ]
  },
  {
   "cell_type": "code",
   "execution_count": 25,
   "metadata": {},
   "outputs": [
    {
     "data": {
      "text/html": [
       "<div>\n",
       "<style scoped>\n",
       "    .dataframe tbody tr th:only-of-type {\n",
       "        vertical-align: middle;\n",
       "    }\n",
       "\n",
       "    .dataframe tbody tr th {\n",
       "        vertical-align: top;\n",
       "    }\n",
       "\n",
       "    .dataframe thead th {\n",
       "        text-align: right;\n",
       "    }\n",
       "</style>\n",
       "<table border=\"1\" class=\"dataframe\">\n",
       "  <thead>\n",
       "    <tr style=\"text-align: right;\">\n",
       "      <th></th>\n",
       "      <th>p_name</th>\n",
       "      <th>center_long</th>\n",
       "      <th>center_lat</th>\n",
       "    </tr>\n",
       "  </thead>\n",
       "  <tbody>\n",
       "    <tr>\n",
       "      <th>0</th>\n",
       "      <td>6th Space Warning Squadron</td>\n",
       "      <td>-70.543552</td>\n",
       "      <td>41.753341</td>\n",
       "    </tr>\n",
       "    <tr>\n",
       "      <th>1</th>\n",
       "      <td>AFCEE MMR Turbines</td>\n",
       "      <td>-70.546550</td>\n",
       "      <td>41.758590</td>\n",
       "    </tr>\n",
       "    <tr>\n",
       "      <th>2</th>\n",
       "      <td>AG Land 1</td>\n",
       "      <td>-93.325691</td>\n",
       "      <td>42.206390</td>\n",
       "    </tr>\n",
       "    <tr>\n",
       "      <th>3</th>\n",
       "      <td>AG Land 2</td>\n",
       "      <td>-93.428093</td>\n",
       "      <td>42.146091</td>\n",
       "    </tr>\n",
       "    <tr>\n",
       "      <th>4</th>\n",
       "      <td>AG Land 3</td>\n",
       "      <td>-93.431992</td>\n",
       "      <td>42.145592</td>\n",
       "    </tr>\n",
       "  </tbody>\n",
       "</table>\n",
       "</div>"
      ],
      "text/plain": [
       "                       p_name  center_long  center_lat\n",
       "0  6th Space Warning Squadron   -70.543552   41.753341\n",
       "1          AFCEE MMR Turbines   -70.546550   41.758590\n",
       "2                   AG Land 1   -93.325691   42.206390\n",
       "3                   AG Land 2   -93.428093   42.146091\n",
       "4                   AG Land 3   -93.431992   42.145592"
      ]
     },
     "execution_count": 25,
     "metadata": {},
     "output_type": "execute_result"
    }
   ],
   "source": [
    "ge_projects_df = pd.pivot_table(usgs_ge_data, values=[\"xlong\", \"ylat\"], columns=\"p_name\", aggfunc=\"mean\").transpose()\n",
    "ge_projects_df = ge_projects_df.reset_index()\n",
    "ge_projects_df.columns = ['p_name', 'center_long', 'center_lat']\n",
    "ge_projects_df.head()"
   ]
  },
  {
   "cell_type": "code",
   "execution_count": null,
   "metadata": {},
   "outputs": [],
   "source": []
  }
 ],
 "metadata": {
  "kernelspec": {
   "display_name": "Python 3",
   "language": "python",
   "name": "python3"
  },
  "language_info": {
   "codemirror_mode": {
    "name": "ipython",
    "version": 3
   },
   "file_extension": ".py",
   "mimetype": "text/x-python",
   "name": "python",
   "nbconvert_exporter": "python",
   "pygments_lexer": "ipython3",
   "version": "3.6.4"
  }
 },
 "nbformat": 4,
 "nbformat_minor": 2
}
