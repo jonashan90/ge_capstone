{
 "cells": [
  {
   "cell_type": "code",
   "execution_count": 1,
   "metadata": {},
   "outputs": [
    {
     "data": {
      "text/html": [
       "<script type=\"text/javascript\">window.PlotlyConfig = {MathJaxConfig: 'local'};</script><script type=\"text/javascript\">if (window.MathJax) {MathJax.Hub.Config({SVG: {font: \"STIX-Web\"}});}</script><script>requirejs.config({paths: { 'plotly': ['https://cdn.plot.ly/plotly-latest.min']},});if(!window._Plotly) {require(['plotly'],function(plotly) {window._Plotly=plotly;});}</script>"
      ],
      "text/vnd.plotly.v1+html": [
       "<script type=\"text/javascript\">window.PlotlyConfig = {MathJaxConfig: 'local'};</script><script type=\"text/javascript\">if (window.MathJax) {MathJax.Hub.Config({SVG: {font: \"STIX-Web\"}});}</script><script>requirejs.config({paths: { 'plotly': ['https://cdn.plot.ly/plotly-latest.min']},});if(!window._Plotly) {require(['plotly'],function(plotly) {window._Plotly=plotly;});}</script>"
      ]
     },
     "metadata": {},
     "output_type": "display_data"
    }
   ],
   "source": [
    "import pandas as pd\n",
    "import numpy as np\n",
    "import os\n",
    "import matplotlib.pyplot as plt\n",
    "%matplotlib inline\n",
    "from datetime import date, datetime, timedelta\n",
    "import pickle\n",
    "import plotly.offline as py\n",
    "import plotly.graph_objs as go\n",
    "from plotly import __version__\n",
    "from plotly.offline import download_plotlyjs, init_notebook_mode, plot, iplot\n",
    "init_notebook_mode(connected=True)\n",
    "#import cufflinks as cf\n",
    "import seaborn as sns"
   ]
  },
  {
   "cell_type": "code",
   "execution_count": 110,
   "metadata": {
    "collapsed": true
   },
   "outputs": [],
   "source": [
    "turbine_data = pickle.load(open(\"turbine_readings_5mins.pickle\",\"rb\")) \n",
    "weather_data = pd.read_csv(\"hourly_weather_data.csv\")"
   ]
  },
  {
   "cell_type": "code",
   "execution_count": 111,
   "metadata": {},
   "outputs": [
    {
     "data": {
      "text/plain": [
       "(2600, 87)"
      ]
     },
     "execution_count": 111,
     "metadata": {},
     "output_type": "execute_result"
    }
   ],
   "source": [
    "turbine_data.shape"
   ]
  },
  {
   "cell_type": "code",
   "execution_count": 112,
   "metadata": {},
   "outputs": [
    {
     "data": {
      "text/plain": [
       "Index(['kW_Turbine1', 'kW_Turbine2', 'kW_Turbine3', 'kW_Turbine4',\n",
       "       'kW_Turbine5', 'kW_Turbine6', 'kW_Turbine7', 'kW_Turbine8',\n",
       "       'kW_Turbine9', 'kW_Turbine10', 'kW_Turbine11', 'kW_Turbine12',\n",
       "       'kW_Turbine13', 'kW_Turbine14', 'kW_Turbine15', 'kW_Turbine16',\n",
       "       'kW_Turbine17', 'kW_Turbine18', 'kW_Turbine19', 'kW_Turbine20',\n",
       "       'kW_Turbine21', 'kW_Turbine22', 'kW_Turbine23', 'kW_Turbine24',\n",
       "       'kW_Turbine25', 'kW_Turbine26', 'kW_Turbine27', 'kW_Turbine28',\n",
       "       'kW_Turbine29', 'kW_Turbine30', 'kW_Turbine31', 'kW_Turbine32',\n",
       "       'kW_Turbine33', 'kW_Turbine34', 'kW_Turbine35', 'kW_Turbine36',\n",
       "       'kW_Turbine37', 'kW_Turbine38', 'kW_Turbine39', 'kW_Turbine40',\n",
       "       'kW_Turbine41', 'kW_Turbine42', 'kW_Turbine43', 'kW_Turbine44',\n",
       "       'kW_Turbine45', 'kW_Turbine46', 'kW_Turbine47', 'kW_Turbine48',\n",
       "       'kW_Turbine49', 'kW_Turbine50', 'kW_Turbine51', 'kW_Turbine52',\n",
       "       'kW_Turbine53', 'kW_Turbine54', 'kW_Turbine55', 'kW_Turbine56',\n",
       "       'kW_Turbine57', 'kW_Turbine58', 'kW_Turbine59', 'kW_Turbine60',\n",
       "       'kW_Turbine61', 'kW_Turbine62', 'kW_Turbine63', 'kW_Turbine64',\n",
       "       'kW_Turbine65', 'kW_Turbine66', 'kW_Turbine67', 'kW_Turbine68',\n",
       "       'kW_Turbine69', 'kW_Turbine70', 'kW_Turbine71', 'kW_Turbine72',\n",
       "       'kW_Turbine73', 'kW_Turbine74', 'kW_Turbine75', 'kW_Turbine76',\n",
       "       'kW_Turbine77', 'kW_Turbine78', 'kW_Turbine79', 'kW_Turbine80',\n",
       "       'kW_Turbine81', 'kW_Turbine82', 'kW_Turbine83', 'kW_Turbine84',\n",
       "       'kW_Turbine85', 'kW_Turbine86', 'timestamp'],\n",
       "      dtype='object')"
      ]
     },
     "execution_count": 112,
     "metadata": {},
     "output_type": "execute_result"
    }
   ],
   "source": [
    "turbine_data.columns"
   ]
  },
  {
   "cell_type": "code",
   "execution_count": 113,
   "metadata": {},
   "outputs": [
    {
     "data": {
      "text/plain": [
       "(9019, 45)"
      ]
     },
     "execution_count": 113,
     "metadata": {},
     "output_type": "execute_result"
    }
   ],
   "source": [
    "weather_data.shape"
   ]
  },
  {
   "cell_type": "code",
   "execution_count": 114,
   "metadata": {},
   "outputs": [
    {
     "data": {
      "text/plain": [
       "Index(['blunt_phrase', 'class', 'clds', 'day_ind', 'dewPt', 'expire_time_gmt',\n",
       "       'feels_like', 'gust', 'heat_index', 'icon_extd', 'key', 'max_temp',\n",
       "       'min_temp', 'obs_id', 'obs_name', 'precip_hrly', 'precip_total',\n",
       "       'pressure', 'pressure_desc', 'pressure_tend', 'primary_swell_direction',\n",
       "       'primary_swell_height', 'primary_swell_period', 'primary_wave_height',\n",
       "       'primary_wave_period', 'qualifier', 'qualifier_svrty', 'rh',\n",
       "       'secondary_swell_direction', 'secondary_swell_height',\n",
       "       'secondary_swell_period', 'snow_hrly', 'temp', 'terse_phrase',\n",
       "       'uv_desc', 'uv_index', 'valid_time_gmt', 'vis', 'water_temp', 'wc',\n",
       "       'wdir', 'wdir_cardinal', 'wspd', 'wx_icon', 'wx_phrase'],\n",
       "      dtype='object')"
      ]
     },
     "execution_count": 114,
     "metadata": {},
     "output_type": "execute_result"
    }
   ],
   "source": [
    "weather_data.columns"
   ]
  },
  {
   "cell_type": "code",
   "execution_count": 122,
   "metadata": {
    "collapsed": true
   },
   "outputs": [],
   "source": [
    "feature_dict = {\"wspd\" : \"Average Windspeed (mph)\",\n",
    "                \"wdir\" : \"Wind Direction\",\n",
    "                \"temp\" : \"Temperature (Farenheit)\",\n",
    "                \"feels_like\" : \"Feels Like Temperature (Farenheit)\",\n",
    "                \"pressure\" : \"pressure\"}"
   ]
  },
  {
   "cell_type": "code",
   "execution_count": 116,
   "metadata": {},
   "outputs": [
    {
     "data": {
      "text/html": [
       "<div>\n",
       "<style>\n",
       "    .dataframe thead tr:only-child th {\n",
       "        text-align: right;\n",
       "    }\n",
       "\n",
       "    .dataframe thead th {\n",
       "        text-align: left;\n",
       "    }\n",
       "\n",
       "    .dataframe tbody tr th {\n",
       "        vertical-align: top;\n",
       "    }\n",
       "</style>\n",
       "<table border=\"1\" class=\"dataframe\">\n",
       "  <thead>\n",
       "    <tr style=\"text-align: right;\">\n",
       "      <th></th>\n",
       "      <th>blunt_phrase</th>\n",
       "      <th>class</th>\n",
       "      <th>clds</th>\n",
       "      <th>day_ind</th>\n",
       "      <th>dewPt</th>\n",
       "      <th>expire_time_gmt</th>\n",
       "      <th>feels_like</th>\n",
       "      <th>gust</th>\n",
       "      <th>heat_index</th>\n",
       "      <th>icon_extd</th>\n",
       "      <th>...</th>\n",
       "      <th>uv_index</th>\n",
       "      <th>valid_time_gmt</th>\n",
       "      <th>vis</th>\n",
       "      <th>water_temp</th>\n",
       "      <th>wc</th>\n",
       "      <th>wdir</th>\n",
       "      <th>wdir_cardinal</th>\n",
       "      <th>wspd</th>\n",
       "      <th>wx_icon</th>\n",
       "      <th>wx_phrase</th>\n",
       "    </tr>\n",
       "  </thead>\n",
       "  <tbody>\n",
       "    <tr>\n",
       "      <th>0</th>\n",
       "      <td>NaN</td>\n",
       "      <td>observation</td>\n",
       "      <td>CLR</td>\n",
       "      <td>N</td>\n",
       "      <td>5.0</td>\n",
       "      <td>1451642400</td>\n",
       "      <td>20.0</td>\n",
       "      <td>NaN</td>\n",
       "      <td>28.0</td>\n",
       "      <td>3300.0</td>\n",
       "      <td>...</td>\n",
       "      <td>0</td>\n",
       "      <td>1451635200</td>\n",
       "      <td>10.0</td>\n",
       "      <td>NaN</td>\n",
       "      <td>20.0</td>\n",
       "      <td>10.0</td>\n",
       "      <td>N</td>\n",
       "      <td>8.0</td>\n",
       "      <td>33.0</td>\n",
       "      <td>Fair</td>\n",
       "    </tr>\n",
       "    <tr>\n",
       "      <th>1</th>\n",
       "      <td>NaN</td>\n",
       "      <td>observation</td>\n",
       "      <td>CLR</td>\n",
       "      <td>N</td>\n",
       "      <td>5.0</td>\n",
       "      <td>1451643600</td>\n",
       "      <td>21.0</td>\n",
       "      <td>NaN</td>\n",
       "      <td>28.0</td>\n",
       "      <td>3300.0</td>\n",
       "      <td>...</td>\n",
       "      <td>0</td>\n",
       "      <td>1451636400</td>\n",
       "      <td>10.0</td>\n",
       "      <td>NaN</td>\n",
       "      <td>21.0</td>\n",
       "      <td>20.0</td>\n",
       "      <td>NNE</td>\n",
       "      <td>7.0</td>\n",
       "      <td>33.0</td>\n",
       "      <td>Fair</td>\n",
       "    </tr>\n",
       "    <tr>\n",
       "      <th>2</th>\n",
       "      <td>NaN</td>\n",
       "      <td>observation</td>\n",
       "      <td>CLR</td>\n",
       "      <td>N</td>\n",
       "      <td>5.0</td>\n",
       "      <td>1451644800</td>\n",
       "      <td>22.0</td>\n",
       "      <td>NaN</td>\n",
       "      <td>28.0</td>\n",
       "      <td>3300.0</td>\n",
       "      <td>...</td>\n",
       "      <td>0</td>\n",
       "      <td>1451637600</td>\n",
       "      <td>10.0</td>\n",
       "      <td>NaN</td>\n",
       "      <td>22.0</td>\n",
       "      <td>20.0</td>\n",
       "      <td>NNE</td>\n",
       "      <td>6.0</td>\n",
       "      <td>33.0</td>\n",
       "      <td>Fair</td>\n",
       "    </tr>\n",
       "    <tr>\n",
       "      <th>3</th>\n",
       "      <td>NaN</td>\n",
       "      <td>observation</td>\n",
       "      <td>CLR</td>\n",
       "      <td>N</td>\n",
       "      <td>5.0</td>\n",
       "      <td>1451646000</td>\n",
       "      <td>30.0</td>\n",
       "      <td>NaN</td>\n",
       "      <td>30.0</td>\n",
       "      <td>3300.0</td>\n",
       "      <td>...</td>\n",
       "      <td>0</td>\n",
       "      <td>1451638800</td>\n",
       "      <td>10.0</td>\n",
       "      <td>NaN</td>\n",
       "      <td>30.0</td>\n",
       "      <td>NaN</td>\n",
       "      <td>CALM</td>\n",
       "      <td>0.0</td>\n",
       "      <td>33.0</td>\n",
       "      <td>Fair</td>\n",
       "    </tr>\n",
       "    <tr>\n",
       "      <th>4</th>\n",
       "      <td>NaN</td>\n",
       "      <td>observation</td>\n",
       "      <td>CLR</td>\n",
       "      <td>N</td>\n",
       "      <td>5.0</td>\n",
       "      <td>1451647200</td>\n",
       "      <td>28.0</td>\n",
       "      <td>NaN</td>\n",
       "      <td>28.0</td>\n",
       "      <td>3300.0</td>\n",
       "      <td>...</td>\n",
       "      <td>0</td>\n",
       "      <td>1451640000</td>\n",
       "      <td>10.0</td>\n",
       "      <td>NaN</td>\n",
       "      <td>28.0</td>\n",
       "      <td>NaN</td>\n",
       "      <td>CALM</td>\n",
       "      <td>0.0</td>\n",
       "      <td>33.0</td>\n",
       "      <td>Fair</td>\n",
       "    </tr>\n",
       "  </tbody>\n",
       "</table>\n",
       "<p>5 rows × 45 columns</p>\n",
       "</div>"
      ],
      "text/plain": [
       "   blunt_phrase        class clds day_ind  dewPt  expire_time_gmt  feels_like  \\\n",
       "0           NaN  observation  CLR       N    5.0       1451642400        20.0   \n",
       "1           NaN  observation  CLR       N    5.0       1451643600        21.0   \n",
       "2           NaN  observation  CLR       N    5.0       1451644800        22.0   \n",
       "3           NaN  observation  CLR       N    5.0       1451646000        30.0   \n",
       "4           NaN  observation  CLR       N    5.0       1451647200        28.0   \n",
       "\n",
       "   gust  heat_index  icon_extd    ...     uv_index  valid_time_gmt   vis  \\\n",
       "0   NaN        28.0     3300.0    ...            0      1451635200  10.0   \n",
       "1   NaN        28.0     3300.0    ...            0      1451636400  10.0   \n",
       "2   NaN        28.0     3300.0    ...            0      1451637600  10.0   \n",
       "3   NaN        30.0     3300.0    ...            0      1451638800  10.0   \n",
       "4   NaN        28.0     3300.0    ...            0      1451640000  10.0   \n",
       "\n",
       "  water_temp    wc  wdir  wdir_cardinal  wspd  wx_icon  wx_phrase  \n",
       "0        NaN  20.0  10.0              N   8.0     33.0       Fair  \n",
       "1        NaN  21.0  20.0            NNE   7.0     33.0       Fair  \n",
       "2        NaN  22.0  20.0            NNE   6.0     33.0       Fair  \n",
       "3        NaN  30.0   NaN           CALM   0.0     33.0       Fair  \n",
       "4        NaN  28.0   NaN           CALM   0.0     33.0       Fair  \n",
       "\n",
       "[5 rows x 45 columns]"
      ]
     },
     "execution_count": 116,
     "metadata": {},
     "output_type": "execute_result"
    }
   ],
   "source": [
    "weather_data.head()"
   ]
  },
  {
   "cell_type": "code",
   "execution_count": 117,
   "metadata": {
    "collapsed": true
   },
   "outputs": [],
   "source": [
    "weather_data = weather_data.dropna(axis=1, how=\"all\")\n",
    "weather_data[\"timestamp\"] = pd.to_datetime(weather_data[\"valid_time_gmt\"], unit=\"s\") - pd.Timedelta(\"08:00:00\")\n",
    "weather_data[\"weather_date\"] = weather_data[\"timestamp\"].dt.date\n",
    "weather_data[\"weather_time\"] = weather_data[\"timestamp\"].dt.time\n",
    "weather_data[\"weather_month\"] = weather_data[\"timestamp\"].dt.month\n",
    "weather_data[\"weather_day_of_month\"] = weather_data[\"timestamp\"].dt.day\n",
    "weather_data[\"weather_day_of_week\"] = weather_data[\"timestamp\"].dt.dayofweek\n",
    "weather_data[\"weather_hour_of_day\"] = weather_data[\"timestamp\"].dt.hour"
   ]
  },
  {
   "cell_type": "code",
   "execution_count": 118,
   "metadata": {
    "collapsed": true
   },
   "outputs": [],
   "source": [
    "turbine_data[\"turbine_date\"] = turbine_data[\"timestamp\"].dt.date\n",
    "turbine_data[\"turbine_time\"] = turbine_data[\"timestamp\"].dt.time\n",
    "turbine_data[\"turbine_month\"] = turbine_data[\"timestamp\"].dt.month\n",
    "turbine_data[\"turbine_day_of_month\"] = turbine_data[\"timestamp\"].dt.day\n",
    "turbine_data[\"turbine_day_of_week\"] = turbine_data[\"timestamp\"].dt.dayofweek\n",
    "turbine_data[\"turbine_hour_of_day\"] = turbine_data[\"timestamp\"].dt.hour\n",
    "\n",
    "turbine_names = list(turbine_data.columns.values)\n",
    "#turbine_names.remove(\"timestamp\")\n",
    "turbine_names.remove(\"kW_Turbine86\")\n",
    "turbine_data[\"avg_kW_reading\"] = turbine_data[turbine_names].sum(axis=1)/len(turbine_names)"
   ]
  },
  {
   "cell_type": "code",
   "execution_count": 168,
   "metadata": {
    "collapsed": true
   },
   "outputs": [],
   "source": [
    "hour_bins = [-1, 4, 11, 15, 21, 23]\n",
    "bin_names = ['Late Night', 'Morning', 'Afternoon', 'Evening', 'Night']\n",
    "\n",
    "weather_data['weather_time_of_day_bin'] = pd.cut(weather_data['weather_hour_of_day'], \n",
    "                            bins=hour_bins, labels=bin_names)\n",
    "\n",
    "turbine_data['turbine_time_of_day_bin'] = pd.cut(turbine_data['turbine_hour_of_day'], \n",
    "                            bins=hour_bins, labels=bin_names)"
   ]
  },
  {
   "cell_type": "code",
   "execution_count": 169,
   "metadata": {
    "collapsed": true
   },
   "outputs": [],
   "source": [
    "l = [0,1,2,3,4,5,6,7,8,9,10,11,12,13,14,15,16,17,18,19,20,21,22,23]\n",
    "l = pd.Series(l)\n",
    "a = pd.cut(l,bins=hour_bins, labels=bin_names)"
   ]
  },
  {
   "cell_type": "code",
   "execution_count": 170,
   "metadata": {},
   "outputs": [
    {
     "data": {
      "text/plain": [
       "0     Late Night\n",
       "1     Late Night\n",
       "2     Late Night\n",
       "3     Late Night\n",
       "4     Late Night\n",
       "5        Morning\n",
       "6        Morning\n",
       "7        Morning\n",
       "8        Morning\n",
       "9        Morning\n",
       "10       Morning\n",
       "11       Morning\n",
       "12     Afternoon\n",
       "13     Afternoon\n",
       "14     Afternoon\n",
       "15     Afternoon\n",
       "16       Evening\n",
       "17       Evening\n",
       "18       Evening\n",
       "19       Evening\n",
       "20       Evening\n",
       "21       Evening\n",
       "22         Night\n",
       "23         Night\n",
       "dtype: category\n",
       "Categories (5, object): [Late Night < Morning < Afternoon < Evening < Night]"
      ]
     },
     "execution_count": 170,
     "metadata": {},
     "output_type": "execute_result"
    }
   ],
   "source": [
    "a"
   ]
  },
  {
   "cell_type": "code",
   "execution_count": 171,
   "metadata": {},
   "outputs": [
    {
     "data": {
      "text/html": [
       "<div>\n",
       "<style>\n",
       "    .dataframe thead tr:only-child th {\n",
       "        text-align: right;\n",
       "    }\n",
       "\n",
       "    .dataframe thead th {\n",
       "        text-align: left;\n",
       "    }\n",
       "\n",
       "    .dataframe tbody tr th {\n",
       "        vertical-align: top;\n",
       "    }\n",
       "</style>\n",
       "<table border=\"1\" class=\"dataframe\">\n",
       "  <thead>\n",
       "    <tr style=\"text-align: right;\">\n",
       "      <th></th>\n",
       "      <th>class</th>\n",
       "      <th>clds</th>\n",
       "      <th>day_ind</th>\n",
       "      <th>dewPt</th>\n",
       "      <th>expire_time_gmt</th>\n",
       "      <th>feels_like</th>\n",
       "      <th>gust</th>\n",
       "      <th>heat_index</th>\n",
       "      <th>icon_extd</th>\n",
       "      <th>key</th>\n",
       "      <th>...</th>\n",
       "      <th>wx_icon</th>\n",
       "      <th>wx_phrase</th>\n",
       "      <th>timestamp</th>\n",
       "      <th>weather_date</th>\n",
       "      <th>weather_time</th>\n",
       "      <th>weather_month</th>\n",
       "      <th>weather_day_of_month</th>\n",
       "      <th>weather_day_of_week</th>\n",
       "      <th>weather_hour_of_day</th>\n",
       "      <th>weather_time_of_day_bin</th>\n",
       "    </tr>\n",
       "  </thead>\n",
       "  <tbody>\n",
       "    <tr>\n",
       "      <th>0</th>\n",
       "      <td>observation</td>\n",
       "      <td>CLR</td>\n",
       "      <td>N</td>\n",
       "      <td>5.0</td>\n",
       "      <td>1451642400</td>\n",
       "      <td>20.0</td>\n",
       "      <td>NaN</td>\n",
       "      <td>28.0</td>\n",
       "      <td>3300.0</td>\n",
       "      <td>KMHV</td>\n",
       "      <td>...</td>\n",
       "      <td>33.0</td>\n",
       "      <td>Fair</td>\n",
       "      <td>2016-01-01 00:00:00</td>\n",
       "      <td>2016-01-01</td>\n",
       "      <td>00:00:00</td>\n",
       "      <td>1</td>\n",
       "      <td>1</td>\n",
       "      <td>4</td>\n",
       "      <td>0</td>\n",
       "      <td>Late Night</td>\n",
       "    </tr>\n",
       "    <tr>\n",
       "      <th>1</th>\n",
       "      <td>observation</td>\n",
       "      <td>CLR</td>\n",
       "      <td>N</td>\n",
       "      <td>5.0</td>\n",
       "      <td>1451643600</td>\n",
       "      <td>21.0</td>\n",
       "      <td>NaN</td>\n",
       "      <td>28.0</td>\n",
       "      <td>3300.0</td>\n",
       "      <td>KMHV</td>\n",
       "      <td>...</td>\n",
       "      <td>33.0</td>\n",
       "      <td>Fair</td>\n",
       "      <td>2016-01-01 00:20:00</td>\n",
       "      <td>2016-01-01</td>\n",
       "      <td>00:20:00</td>\n",
       "      <td>1</td>\n",
       "      <td>1</td>\n",
       "      <td>4</td>\n",
       "      <td>0</td>\n",
       "      <td>Late Night</td>\n",
       "    </tr>\n",
       "    <tr>\n",
       "      <th>2</th>\n",
       "      <td>observation</td>\n",
       "      <td>CLR</td>\n",
       "      <td>N</td>\n",
       "      <td>5.0</td>\n",
       "      <td>1451644800</td>\n",
       "      <td>22.0</td>\n",
       "      <td>NaN</td>\n",
       "      <td>28.0</td>\n",
       "      <td>3300.0</td>\n",
       "      <td>KMHV</td>\n",
       "      <td>...</td>\n",
       "      <td>33.0</td>\n",
       "      <td>Fair</td>\n",
       "      <td>2016-01-01 00:40:00</td>\n",
       "      <td>2016-01-01</td>\n",
       "      <td>00:40:00</td>\n",
       "      <td>1</td>\n",
       "      <td>1</td>\n",
       "      <td>4</td>\n",
       "      <td>0</td>\n",
       "      <td>Late Night</td>\n",
       "    </tr>\n",
       "    <tr>\n",
       "      <th>3</th>\n",
       "      <td>observation</td>\n",
       "      <td>CLR</td>\n",
       "      <td>N</td>\n",
       "      <td>5.0</td>\n",
       "      <td>1451646000</td>\n",
       "      <td>30.0</td>\n",
       "      <td>NaN</td>\n",
       "      <td>30.0</td>\n",
       "      <td>3300.0</td>\n",
       "      <td>KMHV</td>\n",
       "      <td>...</td>\n",
       "      <td>33.0</td>\n",
       "      <td>Fair</td>\n",
       "      <td>2016-01-01 01:00:00</td>\n",
       "      <td>2016-01-01</td>\n",
       "      <td>01:00:00</td>\n",
       "      <td>1</td>\n",
       "      <td>1</td>\n",
       "      <td>4</td>\n",
       "      <td>1</td>\n",
       "      <td>Late Night</td>\n",
       "    </tr>\n",
       "    <tr>\n",
       "      <th>4</th>\n",
       "      <td>observation</td>\n",
       "      <td>CLR</td>\n",
       "      <td>N</td>\n",
       "      <td>5.0</td>\n",
       "      <td>1451647200</td>\n",
       "      <td>28.0</td>\n",
       "      <td>NaN</td>\n",
       "      <td>28.0</td>\n",
       "      <td>3300.0</td>\n",
       "      <td>KMHV</td>\n",
       "      <td>...</td>\n",
       "      <td>33.0</td>\n",
       "      <td>Fair</td>\n",
       "      <td>2016-01-01 01:20:00</td>\n",
       "      <td>2016-01-01</td>\n",
       "      <td>01:20:00</td>\n",
       "      <td>1</td>\n",
       "      <td>1</td>\n",
       "      <td>4</td>\n",
       "      <td>1</td>\n",
       "      <td>Late Night</td>\n",
       "    </tr>\n",
       "  </tbody>\n",
       "</table>\n",
       "<p>5 rows × 34 columns</p>\n",
       "</div>"
      ],
      "text/plain": [
       "         class clds day_ind  dewPt  expire_time_gmt  feels_like  gust  \\\n",
       "0  observation  CLR       N    5.0       1451642400        20.0   NaN   \n",
       "1  observation  CLR       N    5.0       1451643600        21.0   NaN   \n",
       "2  observation  CLR       N    5.0       1451644800        22.0   NaN   \n",
       "3  observation  CLR       N    5.0       1451646000        30.0   NaN   \n",
       "4  observation  CLR       N    5.0       1451647200        28.0   NaN   \n",
       "\n",
       "   heat_index  icon_extd   key           ...            wx_icon wx_phrase  \\\n",
       "0        28.0     3300.0  KMHV           ...               33.0      Fair   \n",
       "1        28.0     3300.0  KMHV           ...               33.0      Fair   \n",
       "2        28.0     3300.0  KMHV           ...               33.0      Fair   \n",
       "3        30.0     3300.0  KMHV           ...               33.0      Fair   \n",
       "4        28.0     3300.0  KMHV           ...               33.0      Fair   \n",
       "\n",
       "            timestamp  weather_date  weather_time  weather_month  \\\n",
       "0 2016-01-01 00:00:00    2016-01-01      00:00:00              1   \n",
       "1 2016-01-01 00:20:00    2016-01-01      00:20:00              1   \n",
       "2 2016-01-01 00:40:00    2016-01-01      00:40:00              1   \n",
       "3 2016-01-01 01:00:00    2016-01-01      01:00:00              1   \n",
       "4 2016-01-01 01:20:00    2016-01-01      01:20:00              1   \n",
       "\n",
       "  weather_day_of_month  weather_day_of_week  weather_hour_of_day  \\\n",
       "0                    1                    4                    0   \n",
       "1                    1                    4                    0   \n",
       "2                    1                    4                    0   \n",
       "3                    1                    4                    1   \n",
       "4                    1                    4                    1   \n",
       "\n",
       "   weather_time_of_day_bin  \n",
       "0               Late Night  \n",
       "1               Late Night  \n",
       "2               Late Night  \n",
       "3               Late Night  \n",
       "4               Late Night  \n",
       "\n",
       "[5 rows x 34 columns]"
      ]
     },
     "execution_count": 171,
     "metadata": {},
     "output_type": "execute_result"
    }
   ],
   "source": [
    "weather_data.head()"
   ]
  },
  {
   "cell_type": "code",
   "execution_count": 172,
   "metadata": {},
   "outputs": [
    {
     "data": {
      "text/html": [
       "<div>\n",
       "<style>\n",
       "    .dataframe thead tr:only-child th {\n",
       "        text-align: right;\n",
       "    }\n",
       "\n",
       "    .dataframe thead th {\n",
       "        text-align: left;\n",
       "    }\n",
       "\n",
       "    .dataframe tbody tr th {\n",
       "        vertical-align: top;\n",
       "    }\n",
       "</style>\n",
       "<table border=\"1\" class=\"dataframe\">\n",
       "  <thead>\n",
       "    <tr style=\"text-align: right;\">\n",
       "      <th></th>\n",
       "      <th>kW_Turbine1</th>\n",
       "      <th>kW_Turbine2</th>\n",
       "      <th>kW_Turbine3</th>\n",
       "      <th>kW_Turbine4</th>\n",
       "      <th>kW_Turbine5</th>\n",
       "      <th>kW_Turbine6</th>\n",
       "      <th>kW_Turbine7</th>\n",
       "      <th>kW_Turbine8</th>\n",
       "      <th>kW_Turbine9</th>\n",
       "      <th>kW_Turbine10</th>\n",
       "      <th>...</th>\n",
       "      <th>kW_Turbine86</th>\n",
       "      <th>timestamp</th>\n",
       "      <th>turbine_date</th>\n",
       "      <th>turbine_time</th>\n",
       "      <th>turbine_month</th>\n",
       "      <th>turbine_day_of_month</th>\n",
       "      <th>turbine_day_of_week</th>\n",
       "      <th>turbine_hour_of_day</th>\n",
       "      <th>avg_kW_reading</th>\n",
       "      <th>turbine_time_of_day_bin</th>\n",
       "    </tr>\n",
       "  </thead>\n",
       "  <tbody>\n",
       "    <tr>\n",
       "      <th>0</th>\n",
       "      <td>316.71</td>\n",
       "      <td>372.81</td>\n",
       "      <td>437.38</td>\n",
       "      <td>254.07</td>\n",
       "      <td>406.53</td>\n",
       "      <td>353.69</td>\n",
       "      <td>352.14</td>\n",
       "      <td>603.43</td>\n",
       "      <td>293.47</td>\n",
       "      <td>285.37</td>\n",
       "      <td>...</td>\n",
       "      <td>0.0</td>\n",
       "      <td>2016-01-01 00:00:00</td>\n",
       "      <td>2016-01-01</td>\n",
       "      <td>00:00:00</td>\n",
       "      <td>1</td>\n",
       "      <td>1</td>\n",
       "      <td>4</td>\n",
       "      <td>0</td>\n",
       "      <td>370.359457</td>\n",
       "      <td>Late Night</td>\n",
       "    </tr>\n",
       "    <tr>\n",
       "      <th>1</th>\n",
       "      <td>282.87</td>\n",
       "      <td>306.45</td>\n",
       "      <td>440.01</td>\n",
       "      <td>264.08</td>\n",
       "      <td>344.24</td>\n",
       "      <td>346.44</td>\n",
       "      <td>366.67</td>\n",
       "      <td>476.47</td>\n",
       "      <td>456.23</td>\n",
       "      <td>252.07</td>\n",
       "      <td>...</td>\n",
       "      <td>0.0</td>\n",
       "      <td>2016-01-01 00:05:00</td>\n",
       "      <td>2016-01-01</td>\n",
       "      <td>00:05:00</td>\n",
       "      <td>1</td>\n",
       "      <td>1</td>\n",
       "      <td>4</td>\n",
       "      <td>0</td>\n",
       "      <td>317.367500</td>\n",
       "      <td>Late Night</td>\n",
       "    </tr>\n",
       "    <tr>\n",
       "      <th>2</th>\n",
       "      <td>275.02</td>\n",
       "      <td>305.94</td>\n",
       "      <td>353.28</td>\n",
       "      <td>295.04</td>\n",
       "      <td>419.65</td>\n",
       "      <td>309.61</td>\n",
       "      <td>274.60</td>\n",
       "      <td>349.51</td>\n",
       "      <td>324.56</td>\n",
       "      <td>239.22</td>\n",
       "      <td>...</td>\n",
       "      <td>0.0</td>\n",
       "      <td>2016-01-01 00:10:00</td>\n",
       "      <td>2016-01-01</td>\n",
       "      <td>00:10:00</td>\n",
       "      <td>1</td>\n",
       "      <td>1</td>\n",
       "      <td>4</td>\n",
       "      <td>0</td>\n",
       "      <td>343.368261</td>\n",
       "      <td>Late Night</td>\n",
       "    </tr>\n",
       "    <tr>\n",
       "      <th>3</th>\n",
       "      <td>360.92</td>\n",
       "      <td>363.80</td>\n",
       "      <td>322.83</td>\n",
       "      <td>300.20</td>\n",
       "      <td>305.57</td>\n",
       "      <td>297.13</td>\n",
       "      <td>344.75</td>\n",
       "      <td>301.70</td>\n",
       "      <td>297.07</td>\n",
       "      <td>290.15</td>\n",
       "      <td>...</td>\n",
       "      <td>0.0</td>\n",
       "      <td>2016-01-01 00:15:00</td>\n",
       "      <td>2016-01-01</td>\n",
       "      <td>00:15:00</td>\n",
       "      <td>1</td>\n",
       "      <td>1</td>\n",
       "      <td>4</td>\n",
       "      <td>0</td>\n",
       "      <td>295.558043</td>\n",
       "      <td>Late Night</td>\n",
       "    </tr>\n",
       "    <tr>\n",
       "      <th>4</th>\n",
       "      <td>386.46</td>\n",
       "      <td>374.62</td>\n",
       "      <td>368.97</td>\n",
       "      <td>354.57</td>\n",
       "      <td>342.71</td>\n",
       "      <td>376.19</td>\n",
       "      <td>350.91</td>\n",
       "      <td>299.64</td>\n",
       "      <td>292.27</td>\n",
       "      <td>284.82</td>\n",
       "      <td>...</td>\n",
       "      <td>0.0</td>\n",
       "      <td>2016-01-01 00:20:00</td>\n",
       "      <td>2016-01-01</td>\n",
       "      <td>00:20:00</td>\n",
       "      <td>1</td>\n",
       "      <td>1</td>\n",
       "      <td>4</td>\n",
       "      <td>0</td>\n",
       "      <td>313.955109</td>\n",
       "      <td>Late Night</td>\n",
       "    </tr>\n",
       "  </tbody>\n",
       "</table>\n",
       "<p>5 rows × 95 columns</p>\n",
       "</div>"
      ],
      "text/plain": [
       "   kW_Turbine1  kW_Turbine2  kW_Turbine3  kW_Turbine4  kW_Turbine5  \\\n",
       "0       316.71       372.81       437.38       254.07       406.53   \n",
       "1       282.87       306.45       440.01       264.08       344.24   \n",
       "2       275.02       305.94       353.28       295.04       419.65   \n",
       "3       360.92       363.80       322.83       300.20       305.57   \n",
       "4       386.46       374.62       368.97       354.57       342.71   \n",
       "\n",
       "   kW_Turbine6  kW_Turbine7  kW_Turbine8  kW_Turbine9  kW_Turbine10  \\\n",
       "0       353.69       352.14       603.43       293.47        285.37   \n",
       "1       346.44       366.67       476.47       456.23        252.07   \n",
       "2       309.61       274.60       349.51       324.56        239.22   \n",
       "3       297.13       344.75       301.70       297.07        290.15   \n",
       "4       376.19       350.91       299.64       292.27        284.82   \n",
       "\n",
       "            ...             kW_Turbine86           timestamp  turbine_date  \\\n",
       "0           ...                      0.0 2016-01-01 00:00:00    2016-01-01   \n",
       "1           ...                      0.0 2016-01-01 00:05:00    2016-01-01   \n",
       "2           ...                      0.0 2016-01-01 00:10:00    2016-01-01   \n",
       "3           ...                      0.0 2016-01-01 00:15:00    2016-01-01   \n",
       "4           ...                      0.0 2016-01-01 00:20:00    2016-01-01   \n",
       "\n",
       "   turbine_time  turbine_month  turbine_day_of_month  turbine_day_of_week  \\\n",
       "0      00:00:00              1                     1                    4   \n",
       "1      00:05:00              1                     1                    4   \n",
       "2      00:10:00              1                     1                    4   \n",
       "3      00:15:00              1                     1                    4   \n",
       "4      00:20:00              1                     1                    4   \n",
       "\n",
       "   turbine_hour_of_day  avg_kW_reading  turbine_time_of_day_bin  \n",
       "0                    0      370.359457               Late Night  \n",
       "1                    0      317.367500               Late Night  \n",
       "2                    0      343.368261               Late Night  \n",
       "3                    0      295.558043               Late Night  \n",
       "4                    0      313.955109               Late Night  \n",
       "\n",
       "[5 rows x 95 columns]"
      ]
     },
     "execution_count": 172,
     "metadata": {},
     "output_type": "execute_result"
    }
   ],
   "source": [
    "turbine_data.head()"
   ]
  },
  {
   "cell_type": "markdown",
   "metadata": {},
   "source": [
    "## Weather Plots"
   ]
  },
  {
   "cell_type": "code",
   "execution_count": 173,
   "metadata": {
    "collapsed": true
   },
   "outputs": [],
   "source": [
    "cols = list(feature_dict.keys())"
   ]
  },
  {
   "cell_type": "code",
   "execution_count": 174,
   "metadata": {},
   "outputs": [
    {
     "data": {
      "text/plain": [
       "['wspd', 'wdir', 'temp', 'feels_like', 'pressure']"
      ]
     },
     "execution_count": 174,
     "metadata": {},
     "output_type": "execute_result"
    }
   ],
   "source": [
    "cols"
   ]
  },
  {
   "cell_type": "code",
   "execution_count": 175,
   "metadata": {},
   "outputs": [
    {
     "data": {
      "text/html": [
       "<div>\n",
       "<style>\n",
       "    .dataframe thead tr:only-child th {\n",
       "        text-align: right;\n",
       "    }\n",
       "\n",
       "    .dataframe thead th {\n",
       "        text-align: left;\n",
       "    }\n",
       "\n",
       "    .dataframe tbody tr th {\n",
       "        vertical-align: top;\n",
       "    }\n",
       "</style>\n",
       "<table border=\"1\" class=\"dataframe\">\n",
       "  <thead>\n",
       "    <tr style=\"text-align: right;\">\n",
       "      <th></th>\n",
       "      <th>weather_hour_of_day</th>\n",
       "      <th>wspd</th>\n",
       "      <th>wdir</th>\n",
       "      <th>temp</th>\n",
       "      <th>feels_like</th>\n",
       "      <th>pressure</th>\n",
       "    </tr>\n",
       "  </thead>\n",
       "  <tbody>\n",
       "    <tr>\n",
       "      <th>0</th>\n",
       "      <td>0</td>\n",
       "      <td>13.820163</td>\n",
       "      <td>274.158730</td>\n",
       "      <td>56.108992</td>\n",
       "      <td>54.190736</td>\n",
       "      <td>27.118338</td>\n",
       "    </tr>\n",
       "    <tr>\n",
       "      <th>1</th>\n",
       "      <td>1</td>\n",
       "      <td>12.994609</td>\n",
       "      <td>272.215190</td>\n",
       "      <td>55.381720</td>\n",
       "      <td>53.510753</td>\n",
       "      <td>27.115349</td>\n",
       "    </tr>\n",
       "    <tr>\n",
       "      <th>2</th>\n",
       "      <td>2</td>\n",
       "      <td>11.794595</td>\n",
       "      <td>272.950820</td>\n",
       "      <td>54.570270</td>\n",
       "      <td>52.743243</td>\n",
       "      <td>27.113514</td>\n",
       "    </tr>\n",
       "    <tr>\n",
       "      <th>3</th>\n",
       "      <td>3</td>\n",
       "      <td>11.131507</td>\n",
       "      <td>275.283688</td>\n",
       "      <td>54.184783</td>\n",
       "      <td>52.418033</td>\n",
       "      <td>27.111087</td>\n",
       "    </tr>\n",
       "    <tr>\n",
       "      <th>4</th>\n",
       "      <td>4</td>\n",
       "      <td>10.191375</td>\n",
       "      <td>262.922535</td>\n",
       "      <td>53.272237</td>\n",
       "      <td>51.404313</td>\n",
       "      <td>27.115418</td>\n",
       "    </tr>\n",
       "    <tr>\n",
       "      <th>5</th>\n",
       "      <td>5</td>\n",
       "      <td>9.027174</td>\n",
       "      <td>261.150794</td>\n",
       "      <td>52.926630</td>\n",
       "      <td>51.334239</td>\n",
       "      <td>27.123668</td>\n",
       "    </tr>\n",
       "    <tr>\n",
       "      <th>6</th>\n",
       "      <td>6</td>\n",
       "      <td>8.592896</td>\n",
       "      <td>248.849558</td>\n",
       "      <td>53.819672</td>\n",
       "      <td>52.554645</td>\n",
       "      <td>27.136858</td>\n",
       "    </tr>\n",
       "    <tr>\n",
       "      <th>7</th>\n",
       "      <td>7</td>\n",
       "      <td>8.904891</td>\n",
       "      <td>235.787234</td>\n",
       "      <td>57.032609</td>\n",
       "      <td>55.671196</td>\n",
       "      <td>27.147520</td>\n",
       "    </tr>\n",
       "    <tr>\n",
       "      <th>8</th>\n",
       "      <td>8</td>\n",
       "      <td>9.336022</td>\n",
       "      <td>201.742739</td>\n",
       "      <td>61.309140</td>\n",
       "      <td>59.967742</td>\n",
       "      <td>27.152715</td>\n",
       "    </tr>\n",
       "    <tr>\n",
       "      <th>9</th>\n",
       "      <td>9</td>\n",
       "      <td>10.276139</td>\n",
       "      <td>191.875000</td>\n",
       "      <td>64.018717</td>\n",
       "      <td>62.577540</td>\n",
       "      <td>27.156604</td>\n",
       "    </tr>\n",
       "    <tr>\n",
       "      <th>10</th>\n",
       "      <td>10</td>\n",
       "      <td>11.507937</td>\n",
       "      <td>188.939929</td>\n",
       "      <td>66.752632</td>\n",
       "      <td>65.384211</td>\n",
       "      <td>27.154763</td>\n",
       "    </tr>\n",
       "    <tr>\n",
       "      <th>11</th>\n",
       "      <td>11</td>\n",
       "      <td>11.934383</td>\n",
       "      <td>192.932862</td>\n",
       "      <td>68.440945</td>\n",
       "      <td>67.057743</td>\n",
       "      <td>27.145433</td>\n",
       "    </tr>\n",
       "    <tr>\n",
       "      <th>12</th>\n",
       "      <td>12</td>\n",
       "      <td>12.597368</td>\n",
       "      <td>195.231788</td>\n",
       "      <td>69.826772</td>\n",
       "      <td>68.419948</td>\n",
       "      <td>27.127297</td>\n",
       "    </tr>\n",
       "    <tr>\n",
       "      <th>13</th>\n",
       "      <td>13</td>\n",
       "      <td>13.419948</td>\n",
       "      <td>211.694352</td>\n",
       "      <td>70.855263</td>\n",
       "      <td>69.389474</td>\n",
       "      <td>27.110840</td>\n",
       "    </tr>\n",
       "    <tr>\n",
       "      <th>14</th>\n",
       "      <td>14</td>\n",
       "      <td>14.736842</td>\n",
       "      <td>221.940789</td>\n",
       "      <td>71.128947</td>\n",
       "      <td>69.597368</td>\n",
       "      <td>27.098079</td>\n",
       "    </tr>\n",
       "    <tr>\n",
       "      <th>15</th>\n",
       "      <td>15</td>\n",
       "      <td>15.693931</td>\n",
       "      <td>225.356037</td>\n",
       "      <td>70.484211</td>\n",
       "      <td>68.994737</td>\n",
       "      <td>27.089447</td>\n",
       "    </tr>\n",
       "    <tr>\n",
       "      <th>16</th>\n",
       "      <td>16</td>\n",
       "      <td>16.131926</td>\n",
       "      <td>237.080745</td>\n",
       "      <td>69.363158</td>\n",
       "      <td>67.870712</td>\n",
       "      <td>27.086763</td>\n",
       "    </tr>\n",
       "    <tr>\n",
       "      <th>17</th>\n",
       "      <td>17</td>\n",
       "      <td>15.827225</td>\n",
       "      <td>248.742138</td>\n",
       "      <td>67.156658</td>\n",
       "      <td>65.712794</td>\n",
       "      <td>27.089321</td>\n",
       "    </tr>\n",
       "    <tr>\n",
       "      <th>18</th>\n",
       "      <td>18</td>\n",
       "      <td>15.927083</td>\n",
       "      <td>253.324022</td>\n",
       "      <td>63.729870</td>\n",
       "      <td>62.109091</td>\n",
       "      <td>27.096286</td>\n",
       "    </tr>\n",
       "    <tr>\n",
       "      <th>19</th>\n",
       "      <td>19</td>\n",
       "      <td>15.443864</td>\n",
       "      <td>251.270718</td>\n",
       "      <td>61.462141</td>\n",
       "      <td>59.830287</td>\n",
       "      <td>27.103786</td>\n",
       "    </tr>\n",
       "    <tr>\n",
       "      <th>20</th>\n",
       "      <td>20</td>\n",
       "      <td>14.847368</td>\n",
       "      <td>258.121387</td>\n",
       "      <td>60.173684</td>\n",
       "      <td>58.478947</td>\n",
       "      <td>27.113737</td>\n",
       "    </tr>\n",
       "    <tr>\n",
       "      <th>21</th>\n",
       "      <td>21</td>\n",
       "      <td>14.652632</td>\n",
       "      <td>259.508671</td>\n",
       "      <td>59.486842</td>\n",
       "      <td>57.707895</td>\n",
       "      <td>27.119974</td>\n",
       "    </tr>\n",
       "    <tr>\n",
       "      <th>22</th>\n",
       "      <td>22</td>\n",
       "      <td>14.846966</td>\n",
       "      <td>266.867816</td>\n",
       "      <td>58.713158</td>\n",
       "      <td>56.941953</td>\n",
       "      <td>27.122316</td>\n",
       "    </tr>\n",
       "    <tr>\n",
       "      <th>23</th>\n",
       "      <td>23</td>\n",
       "      <td>14.783198</td>\n",
       "      <td>271.804281</td>\n",
       "      <td>57.243902</td>\n",
       "      <td>55.466125</td>\n",
       "      <td>27.120352</td>\n",
       "    </tr>\n",
       "  </tbody>\n",
       "</table>\n",
       "</div>"
      ],
      "text/plain": [
       "    weather_hour_of_day       wspd        wdir       temp  feels_like  \\\n",
       "0                     0  13.820163  274.158730  56.108992   54.190736   \n",
       "1                     1  12.994609  272.215190  55.381720   53.510753   \n",
       "2                     2  11.794595  272.950820  54.570270   52.743243   \n",
       "3                     3  11.131507  275.283688  54.184783   52.418033   \n",
       "4                     4  10.191375  262.922535  53.272237   51.404313   \n",
       "5                     5   9.027174  261.150794  52.926630   51.334239   \n",
       "6                     6   8.592896  248.849558  53.819672   52.554645   \n",
       "7                     7   8.904891  235.787234  57.032609   55.671196   \n",
       "8                     8   9.336022  201.742739  61.309140   59.967742   \n",
       "9                     9  10.276139  191.875000  64.018717   62.577540   \n",
       "10                   10  11.507937  188.939929  66.752632   65.384211   \n",
       "11                   11  11.934383  192.932862  68.440945   67.057743   \n",
       "12                   12  12.597368  195.231788  69.826772   68.419948   \n",
       "13                   13  13.419948  211.694352  70.855263   69.389474   \n",
       "14                   14  14.736842  221.940789  71.128947   69.597368   \n",
       "15                   15  15.693931  225.356037  70.484211   68.994737   \n",
       "16                   16  16.131926  237.080745  69.363158   67.870712   \n",
       "17                   17  15.827225  248.742138  67.156658   65.712794   \n",
       "18                   18  15.927083  253.324022  63.729870   62.109091   \n",
       "19                   19  15.443864  251.270718  61.462141   59.830287   \n",
       "20                   20  14.847368  258.121387  60.173684   58.478947   \n",
       "21                   21  14.652632  259.508671  59.486842   57.707895   \n",
       "22                   22  14.846966  266.867816  58.713158   56.941953   \n",
       "23                   23  14.783198  271.804281  57.243902   55.466125   \n",
       "\n",
       "     pressure  \n",
       "0   27.118338  \n",
       "1   27.115349  \n",
       "2   27.113514  \n",
       "3   27.111087  \n",
       "4   27.115418  \n",
       "5   27.123668  \n",
       "6   27.136858  \n",
       "7   27.147520  \n",
       "8   27.152715  \n",
       "9   27.156604  \n",
       "10  27.154763  \n",
       "11  27.145433  \n",
       "12  27.127297  \n",
       "13  27.110840  \n",
       "14  27.098079  \n",
       "15  27.089447  \n",
       "16  27.086763  \n",
       "17  27.089321  \n",
       "18  27.096286  \n",
       "19  27.103786  \n",
       "20  27.113737  \n",
       "21  27.119974  \n",
       "22  27.122316  \n",
       "23  27.120352  "
      ]
     },
     "execution_count": 175,
     "metadata": {},
     "output_type": "execute_result"
    }
   ],
   "source": [
    "# hour_of_the_day\n",
    "\n",
    "weather_grouped_hour = weather_data.groupby(['weather_hour_of_day'],as_index=False)[cols].mean()\n",
    "weather_grouped_hour"
   ]
  },
  {
   "cell_type": "code",
   "execution_count": 176,
   "metadata": {},
   "outputs": [
    {
     "data": {
      "image/png": "[encoded data removed]",
      "text/plain": [
       "<Figure size 900x360 with 1 Axes>"
      ]
     },
     "metadata": {},
     "output_type": "display_data"
    }
   ],
   "source": [
    "fig = sns.catplot(x=\"weather_hour_of_day\" ,y=\"wspd\", data=weather_data, kind='bar', aspect=2.5, ci=95, n_boot=1000)\n",
    "fig.savefig(\"wspd_hour.png\")"
   ]
  },
  {
   "cell_type": "code",
   "execution_count": 177,
   "metadata": {},
   "outputs": [
    {
     "data": {
      "image/png": "[encoded data removed]",
      "text/plain": [
       "<Figure size 900x360 with 1 Axes>"
      ]
     },
     "metadata": {},
     "output_type": "display_data"
    }
   ],
   "source": [
    "fig = sns.catplot(x=\"weather_hour_of_day\" ,y=\"temp\", data=weather_data, kind='bar', aspect=2.5, ci=95, n_boot=1000)\n",
    "fig.savefig(\"temp_hour.png\")"
   ]
  },
  {
   "cell_type": "code",
   "execution_count": 178,
   "metadata": {},
   "outputs": [
    {
     "data": {
      "image/png": "[encoded data removed]",
      "text/plain": [
       "<Figure size 900x360 with 1 Axes>"
      ]
     },
     "metadata": {},
     "output_type": "display_data"
    }
   ],
   "source": [
    "fig = sns.catplot(x=\"weather_hour_of_day\" ,y=\"pressure\", data=weather_data, kind='bar', aspect=2.5, ci=95, n_boot=1000)"
   ]
  },
  {
   "cell_type": "code",
   "execution_count": 179,
   "metadata": {},
   "outputs": [
    {
     "data": {
      "text/html": [
       "<div>\n",
       "<style>\n",
       "    .dataframe thead tr:only-child th {\n",
       "        text-align: right;\n",
       "    }\n",
       "\n",
       "    .dataframe thead th {\n",
       "        text-align: left;\n",
       "    }\n",
       "\n",
       "    .dataframe tbody tr th {\n",
       "        vertical-align: top;\n",
       "    }\n",
       "</style>\n",
       "<table border=\"1\" class=\"dataframe\">\n",
       "  <thead>\n",
       "    <tr style=\"text-align: right;\">\n",
       "      <th></th>\n",
       "      <th>weather_time_of_day_bin</th>\n",
       "      <th>wspd</th>\n",
       "      <th>wdir</th>\n",
       "      <th>temp</th>\n",
       "      <th>feels_like</th>\n",
       "      <th>pressure</th>\n",
       "    </tr>\n",
       "  </thead>\n",
       "  <tbody>\n",
       "    <tr>\n",
       "      <th>0</th>\n",
       "      <td>Late Night</td>\n",
       "      <td>11.985358</td>\n",
       "      <td>271.591212</td>\n",
       "      <td>54.701840</td>\n",
       "      <td>52.852113</td>\n",
       "      <td>27.114740</td>\n",
       "    </tr>\n",
       "    <tr>\n",
       "      <th>1</th>\n",
       "      <td>Morning</td>\n",
       "      <td>9.956639</td>\n",
       "      <td>215.805180</td>\n",
       "      <td>60.695669</td>\n",
       "      <td>59.302415</td>\n",
       "      <td>27.145452</td>\n",
       "    </tr>\n",
       "    <tr>\n",
       "      <th>2</th>\n",
       "      <td>Afternoon</td>\n",
       "      <td>14.110526</td>\n",
       "      <td>213.772358</td>\n",
       "      <td>70.573307</td>\n",
       "      <td>69.099934</td>\n",
       "      <td>27.106432</td>\n",
       "    </tr>\n",
       "    <tr>\n",
       "      <th>3</th>\n",
       "      <td>Evening</td>\n",
       "      <td>15.472465</td>\n",
       "      <td>251.554581</td>\n",
       "      <td>63.564382</td>\n",
       "      <td>61.951528</td>\n",
       "      <td>27.101619</td>\n",
       "    </tr>\n",
       "    <tr>\n",
       "      <th>4</th>\n",
       "      <td>Night</td>\n",
       "      <td>14.815508</td>\n",
       "      <td>269.259259</td>\n",
       "      <td>57.989319</td>\n",
       "      <td>56.213904</td>\n",
       "      <td>27.121348</td>\n",
       "    </tr>\n",
       "  </tbody>\n",
       "</table>\n",
       "</div>"
      ],
      "text/plain": [
       "  weather_time_of_day_bin       wspd        wdir       temp  feels_like  \\\n",
       "0              Late Night  11.985358  271.591212  54.701840   52.852113   \n",
       "1                 Morning   9.956639  215.805180  60.695669   59.302415   \n",
       "2               Afternoon  14.110526  213.772358  70.573307   69.099934   \n",
       "3                 Evening  15.472465  251.554581  63.564382   61.951528   \n",
       "4                   Night  14.815508  269.259259  57.989319   56.213904   \n",
       "\n",
       "    pressure  \n",
       "0  27.114740  \n",
       "1  27.145452  \n",
       "2  27.106432  \n",
       "3  27.101619  \n",
       "4  27.121348  "
      ]
     },
     "execution_count": 179,
     "metadata": {},
     "output_type": "execute_result"
    }
   ],
   "source": [
    "# time_of_day\n",
    "\n",
    "weather_grouped_bins = weather_data.groupby(['weather_time_of_day_bin'],as_index=False)[cols].mean()\n",
    "weather_grouped_bins"
   ]
  },
  {
   "cell_type": "code",
   "execution_count": 180,
   "metadata": {},
   "outputs": [
    {
     "data": {
      "image/png": "[encoded data removed]",
      "text/plain": [
       "<Figure size 900x360 with 1 Axes>"
      ]
     },
     "metadata": {},
     "output_type": "display_data"
    }
   ],
   "source": [
    "fig = sns.catplot(x=\"weather_time_of_day_bin\" ,y=\"wspd\", data=weather_data, kind='bar', aspect=2.5, ci=95, n_boot=1000)\n",
    "fig.savefig(\"wspd_bin.png\")"
   ]
  },
  {
   "cell_type": "code",
   "execution_count": 181,
   "metadata": {},
   "outputs": [
    {
     "data": {
      "image/png": "[encoded data removed]",
      "text/plain": [
       "<Figure size 900x360 with 1 Axes>"
      ]
     },
     "metadata": {},
     "output_type": "display_data"
    }
   ],
   "source": [
    "fig = sns.catplot(x=\"weather_time_of_day_bin\" ,y=\"temp\", data=weather_data, kind='bar', aspect=2.5, ci=95, n_boot=1000)\n",
    "fig.savefig(\"temp_bin.png\")"
   ]
  },
  {
   "cell_type": "code",
   "execution_count": 182,
   "metadata": {},
   "outputs": [
    {
     "data": {
      "image/png": "[encoded data removed]",
      "text/plain": [
       "<Figure size 900x360 with 1 Axes>"
      ]
     },
     "metadata": {},
     "output_type": "display_data"
    }
   ],
   "source": [
    "fig = sns.catplot(x=\"weather_time_of_day_bin\" ,y=\"pressure\", data=weather_data, kind='bar', aspect=2.5, ci=95, n_boot=1000)"
   ]
  },
  {
   "cell_type": "markdown",
   "metadata": {},
   "source": [
    "## Turbine Plots"
   ]
  },
  {
   "cell_type": "code",
   "execution_count": 183,
   "metadata": {},
   "outputs": [
    {
     "data": {
      "text/html": [
       "<div>\n",
       "<style>\n",
       "    .dataframe thead tr:only-child th {\n",
       "        text-align: right;\n",
       "    }\n",
       "\n",
       "    .dataframe thead th {\n",
       "        text-align: left;\n",
       "    }\n",
       "\n",
       "    .dataframe tbody tr th {\n",
       "        vertical-align: top;\n",
       "    }\n",
       "</style>\n",
       "<table border=\"1\" class=\"dataframe\">\n",
       "  <thead>\n",
       "    <tr style=\"text-align: right;\">\n",
       "      <th></th>\n",
       "      <th>turbine_hour_of_day</th>\n",
       "      <th>avg_kW_reading</th>\n",
       "    </tr>\n",
       "  </thead>\n",
       "  <tbody>\n",
       "    <tr>\n",
       "      <th>0</th>\n",
       "      <td>0</td>\n",
       "      <td>494.260265</td>\n",
       "    </tr>\n",
       "    <tr>\n",
       "      <th>1</th>\n",
       "      <td>1</td>\n",
       "      <td>633.291701</td>\n",
       "    </tr>\n",
       "    <tr>\n",
       "      <th>2</th>\n",
       "      <td>2</td>\n",
       "      <td>673.942113</td>\n",
       "    </tr>\n",
       "    <tr>\n",
       "      <th>3</th>\n",
       "      <td>3</td>\n",
       "      <td>689.840956</td>\n",
       "    </tr>\n",
       "    <tr>\n",
       "      <th>4</th>\n",
       "      <td>4</td>\n",
       "      <td>791.082675</td>\n",
       "    </tr>\n",
       "    <tr>\n",
       "      <th>5</th>\n",
       "      <td>5</td>\n",
       "      <td>745.070694</td>\n",
       "    </tr>\n",
       "    <tr>\n",
       "      <th>6</th>\n",
       "      <td>6</td>\n",
       "      <td>704.429051</td>\n",
       "    </tr>\n",
       "    <tr>\n",
       "      <th>7</th>\n",
       "      <td>7</td>\n",
       "      <td>659.715947</td>\n",
       "    </tr>\n",
       "    <tr>\n",
       "      <th>8</th>\n",
       "      <td>8</td>\n",
       "      <td>646.585155</td>\n",
       "    </tr>\n",
       "    <tr>\n",
       "      <th>9</th>\n",
       "      <td>9</td>\n",
       "      <td>583.237429</td>\n",
       "    </tr>\n",
       "    <tr>\n",
       "      <th>10</th>\n",
       "      <td>10</td>\n",
       "      <td>583.452765</td>\n",
       "    </tr>\n",
       "    <tr>\n",
       "      <th>11</th>\n",
       "      <td>11</td>\n",
       "      <td>655.616227</td>\n",
       "    </tr>\n",
       "    <tr>\n",
       "      <th>12</th>\n",
       "      <td>12</td>\n",
       "      <td>626.757633</td>\n",
       "    </tr>\n",
       "    <tr>\n",
       "      <th>13</th>\n",
       "      <td>13</td>\n",
       "      <td>647.011857</td>\n",
       "    </tr>\n",
       "    <tr>\n",
       "      <th>14</th>\n",
       "      <td>14</td>\n",
       "      <td>635.388960</td>\n",
       "    </tr>\n",
       "    <tr>\n",
       "      <th>15</th>\n",
       "      <td>15</td>\n",
       "      <td>634.392185</td>\n",
       "    </tr>\n",
       "    <tr>\n",
       "      <th>16</th>\n",
       "      <td>16</td>\n",
       "      <td>580.496869</td>\n",
       "    </tr>\n",
       "    <tr>\n",
       "      <th>17</th>\n",
       "      <td>17</td>\n",
       "      <td>575.401214</td>\n",
       "    </tr>\n",
       "    <tr>\n",
       "      <th>18</th>\n",
       "      <td>18</td>\n",
       "      <td>597.525005</td>\n",
       "    </tr>\n",
       "    <tr>\n",
       "      <th>19</th>\n",
       "      <td>19</td>\n",
       "      <td>462.101216</td>\n",
       "    </tr>\n",
       "    <tr>\n",
       "      <th>20</th>\n",
       "      <td>20</td>\n",
       "      <td>484.841599</td>\n",
       "    </tr>\n",
       "    <tr>\n",
       "      <th>21</th>\n",
       "      <td>21</td>\n",
       "      <td>505.101150</td>\n",
       "    </tr>\n",
       "    <tr>\n",
       "      <th>22</th>\n",
       "      <td>22</td>\n",
       "      <td>435.094146</td>\n",
       "    </tr>\n",
       "    <tr>\n",
       "      <th>23</th>\n",
       "      <td>23</td>\n",
       "      <td>420.479212</td>\n",
       "    </tr>\n",
       "  </tbody>\n",
       "</table>\n",
       "</div>"
      ],
      "text/plain": [
       "    turbine_hour_of_day  avg_kW_reading\n",
       "0                     0      494.260265\n",
       "1                     1      633.291701\n",
       "2                     2      673.942113\n",
       "3                     3      689.840956\n",
       "4                     4      791.082675\n",
       "5                     5      745.070694\n",
       "6                     6      704.429051\n",
       "7                     7      659.715947\n",
       "8                     8      646.585155\n",
       "9                     9      583.237429\n",
       "10                   10      583.452765\n",
       "11                   11      655.616227\n",
       "12                   12      626.757633\n",
       "13                   13      647.011857\n",
       "14                   14      635.388960\n",
       "15                   15      634.392185\n",
       "16                   16      580.496869\n",
       "17                   17      575.401214\n",
       "18                   18      597.525005\n",
       "19                   19      462.101216\n",
       "20                   20      484.841599\n",
       "21                   21      505.101150\n",
       "22                   22      435.094146\n",
       "23                   23      420.479212"
      ]
     },
     "execution_count": 183,
     "metadata": {},
     "output_type": "execute_result"
    }
   ],
   "source": [
    "# hour_of_the_day\n",
    "\n",
    "turbine_grouped_hour = turbine_data.groupby(['turbine_hour_of_day'],as_index=False)['avg_kW_reading'].mean()\n",
    "turbine_grouped_hour"
   ]
  },
  {
   "cell_type": "code",
   "execution_count": 184,
   "metadata": {},
   "outputs": [
    {
     "data": {
      "image/png": "[encoded data removed]",
      "text/plain": [
       "<Figure size 900x360 with 1 Axes>"
      ]
     },
     "metadata": {},
     "output_type": "display_data"
    }
   ],
   "source": [
    "fig = sns.catplot(x=\"turbine_hour_of_day\" ,y=\"avg_kW_reading\", data=turbine_data, kind='bar', aspect=2.5, ci=95, n_boot=1000)\n",
    "fig.savefig(\"output_hour.png\")"
   ]
  },
  {
   "cell_type": "code",
   "execution_count": 185,
   "metadata": {},
   "outputs": [
    {
     "data": {
      "text/html": [
       "<div>\n",
       "<style>\n",
       "    .dataframe thead tr:only-child th {\n",
       "        text-align: right;\n",
       "    }\n",
       "\n",
       "    .dataframe thead th {\n",
       "        text-align: left;\n",
       "    }\n",
       "\n",
       "    .dataframe tbody tr th {\n",
       "        vertical-align: top;\n",
       "    }\n",
       "</style>\n",
       "<table border=\"1\" class=\"dataframe\">\n",
       "  <thead>\n",
       "    <tr style=\"text-align: right;\">\n",
       "      <th></th>\n",
       "      <th>turbine_time_of_day_bin</th>\n",
       "      <th>avg_kW_reading</th>\n",
       "    </tr>\n",
       "  </thead>\n",
       "  <tbody>\n",
       "    <tr>\n",
       "      <th>0</th>\n",
       "      <td>Late Night</td>\n",
       "      <td>654.115319</td>\n",
       "    </tr>\n",
       "    <tr>\n",
       "      <th>1</th>\n",
       "      <td>Morning</td>\n",
       "      <td>654.015324</td>\n",
       "    </tr>\n",
       "    <tr>\n",
       "      <th>2</th>\n",
       "      <td>Afternoon</td>\n",
       "      <td>635.887659</td>\n",
       "    </tr>\n",
       "    <tr>\n",
       "      <th>3</th>\n",
       "      <td>Evening</td>\n",
       "      <td>534.244509</td>\n",
       "    </tr>\n",
       "    <tr>\n",
       "      <th>4</th>\n",
       "      <td>Night</td>\n",
       "      <td>427.786679</td>\n",
       "    </tr>\n",
       "  </tbody>\n",
       "</table>\n",
       "</div>"
      ],
      "text/plain": [
       "  turbine_time_of_day_bin  avg_kW_reading\n",
       "0              Late Night      654.115319\n",
       "1                 Morning      654.015324\n",
       "2               Afternoon      635.887659\n",
       "3                 Evening      534.244509\n",
       "4                   Night      427.786679"
      ]
     },
     "execution_count": 185,
     "metadata": {},
     "output_type": "execute_result"
    }
   ],
   "source": [
    "# time_of_the_day\n",
    "\n",
    "turbine_grouped_bins = turbine_data.groupby(['turbine_time_of_day_bin'],as_index=False)['avg_kW_reading'].mean()\n",
    "turbine_grouped_bins"
   ]
  },
  {
   "cell_type": "code",
   "execution_count": 186,
   "metadata": {},
   "outputs": [
    {
     "data": {
      "image/png": "[encoded data removed]",
      "text/plain": [
       "<Figure size 900x360 with 1 Axes>"
      ]
     },
     "metadata": {},
     "output_type": "display_data"
    }
   ],
   "source": [
    "fig = sns.catplot(x=\"turbine_time_of_day_bin\" ,y=\"avg_kW_reading\", data=turbine_data, kind='bar', aspect=2.5, ci=95, n_boot=1000)\n",
    "fig.savefig(\"output_bin.png\")"
   ]
  },
  {
   "cell_type": "markdown",
   "metadata": {},
   "source": [
    "## Combined Plots"
   ]
  },
  {
   "cell_type": "code",
   "execution_count": 187,
   "metadata": {},
   "outputs": [
    {
     "data": {
      "application/vnd.plotly.v1+json": {
       "config": {
        "linkText": "Export to plot.ly",
        "plotlyServerURL": "https://plot.ly",
        "showLink": true
       },
       "data": [
        {
         "mode": "lines",
         "name": "Average Turbine Reading",
         "type": "scatter",
         "uid": "7f1d5c3b-9b7d-499d-a64d-b15d1b5ef4de",
         "x": [
          0,
          1,
          2,
          3,
          4,
          5,
          6,
          7,
          8,
          9,
          10,
          11,
          12,
          13,
          14,
          15,
          16,
          17,
          18,
          19,
          20,
          21,
          22,
          23
         ],
         "y": [
          494.26026497844833,
          633.2917014794687,
          673.9421130334143,
          689.8409559178747,
          791.0826749338769,
          745.0706942069245,
          704.4290509863123,
          659.7159468599029,
          646.5851547604672,
          583.2374285426731,
          583.4527645229468,
          655.6162266505635,
          626.7576331823676,
          647.0118569343796,
          635.3889596417067,
          634.3921845813203,
          580.4968694947663,
          575.4012135265699,
          597.5250053240741,
          462.1012159822869,
          484.84159862318813,
          505.1011502324878,
          435.094146395632,
          420.47921184581327
         ]
        },
        {
         "mode": "lines",
         "name": "Average Windspeed (mph)",
         "type": "scatter",
         "uid": "4f292924-a588-4f46-becd-ca751f25a621",
         "x": [
          0,
          1,
          2,
          3,
          4,
          5,
          6,
          7,
          8,
          9,
          10,
          11,
          12,
          13,
          14,
          15,
          16,
          17,
          18,
          19,
          20,
          21,
          22,
          23
         ],
         "y": [
          13.82016348773842,
          12.994609164420485,
          11.794594594594594,
          11.131506849315068,
          10.191374663072777,
          9.027173913043478,
          8.592896174863387,
          8.904891304347826,
          9.336021505376344,
          10.276139410187668,
          11.507936507936508,
          11.934383202099738,
          12.597368421052632,
          13.41994750656168,
          14.736842105263158,
          15.693931398416886,
          16.131926121372032,
          15.827225130890053,
          15.927083333333334,
          15.443864229765014,
          14.847368421052632,
          14.652631578947368,
          14.846965699208443,
          14.78319783197832
         ],
         "yaxis": "y2"
        }
       ],
       "layout": {
        "title": "Turbine Output vs. Average Windspeed (mph)",
        "yaxis": {
         "tickfont": {
          "color": "#1f77b4"
         },
         "title": "Turbine Output (kWh)",
         "titlefont": {
          "color": "#1f77b4"
         }
        },
        "yaxis2": {
         "overlaying": "y",
         "side": "right",
         "tickfont": {
          "color": "#ff7f0e"
         },
         "title": "Average Windspeed (mph)",
         "titlefont": {
          "color": "#ff7f0e"
         }
        }
       }
      },
      "text/html": [
       "<div id=\"53b7e71b-060e-4777-97a1-759fddc1cf2e\" style=\"height: 525px; width: 100%;\" class=\"plotly-graph-div\"></div><script type=\"text/javascript\">require([\"plotly\"], function(Plotly) { window.PLOTLYENV=window.PLOTLYENV || {};window.PLOTLYENV.BASE_URL=\"https://plot.ly\";Plotly.newPlot(\"53b7e71b-060e-4777-97a1-759fddc1cf2e\", [{\"mode\": \"lines\", \"name\": \"Average Turbine Reading\", \"x\": [0, 1, 2, 3, 4, 5, 6, 7, 8, 9, 10, 11, 12, 13, 14, 15, 16, 17, 18, 19, 20, 21, 22, 23], \"y\": [494.26026497844833, 633.2917014794687, 673.9421130334143, 689.8409559178747, 791.0826749338769, 745.0706942069245, 704.4290509863123, 659.7159468599029, 646.5851547604672, 583.2374285426731, 583.4527645229468, 655.6162266505635, 626.7576331823676, 647.0118569343796, 635.3889596417067, 634.3921845813203, 580.4968694947663, 575.4012135265699, 597.5250053240741, 462.1012159822869, 484.84159862318813, 505.1011502324878, 435.094146395632, 420.47921184581327], \"type\": \"scatter\", \"uid\": \"7f1d5c3b-9b7d-499d-a64d-b15d1b5ef4de\"}, {\"mode\": \"lines\", \"name\": \"Average Windspeed (mph)\", \"x\": [0, 1, 2, 3, 4, 5, 6, 7, 8, 9, 10, 11, 12, 13, 14, 15, 16, 17, 18, 19, 20, 21, 22, 23], \"y\": [13.82016348773842, 12.994609164420485, 11.794594594594594, 11.131506849315068, 10.191374663072777, 9.027173913043478, 8.592896174863387, 8.904891304347826, 9.336021505376344, 10.276139410187668, 11.507936507936508, 11.934383202099738, 12.597368421052632, 13.41994750656168, 14.736842105263158, 15.693931398416886, 16.131926121372032, 15.827225130890053, 15.927083333333334, 15.443864229765014, 14.847368421052632, 14.652631578947368, 14.846965699208443, 14.78319783197832], \"yaxis\": \"y2\", \"type\": \"scatter\", \"uid\": \"4f292924-a588-4f46-becd-ca751f25a621\"}], {\"title\": \"Turbine Output vs. Average Windspeed (mph)\", \"yaxis\": {\"tickfont\": {\"color\": \"#1f77b4\"}, \"title\": \"Turbine Output (kWh)\", \"titlefont\": {\"color\": \"#1f77b4\"}}, \"yaxis2\": {\"overlaying\": \"y\", \"side\": \"right\", \"tickfont\": {\"color\": \"#ff7f0e\"}, \"title\": \"Average Windspeed (mph)\", \"titlefont\": {\"color\": \"#ff7f0e\"}}}, {\"showLink\": true, \"linkText\": \"Export to plot.ly\", \"plotlyServerURL\": \"https://plot.ly\"})});</script><script type=\"text/javascript\">window.addEventListener(\"resize\", function(){window._Plotly.Plots.resize(document.getElementById(\"53b7e71b-060e-4777-97a1-759fddc1cf2e\"));});</script>"
      ],
      "text/vnd.plotly.v1+html": [
       "<div id=\"53b7e71b-060e-4777-97a1-759fddc1cf2e\" style=\"height: 525px; width: 100%;\" class=\"plotly-graph-div\"></div><script type=\"text/javascript\">require([\"plotly\"], function(Plotly) { window.PLOTLYENV=window.PLOTLYENV || {};window.PLOTLYENV.BASE_URL=\"https://plot.ly\";Plotly.newPlot(\"53b7e71b-060e-4777-97a1-759fddc1cf2e\", [{\"mode\": \"lines\", \"name\": \"Average Turbine Reading\", \"x\": [0, 1, 2, 3, 4, 5, 6, 7, 8, 9, 10, 11, 12, 13, 14, 15, 16, 17, 18, 19, 20, 21, 22, 23], \"y\": [494.26026497844833, 633.2917014794687, 673.9421130334143, 689.8409559178747, 791.0826749338769, 745.0706942069245, 704.4290509863123, 659.7159468599029, 646.5851547604672, 583.2374285426731, 583.4527645229468, 655.6162266505635, 626.7576331823676, 647.0118569343796, 635.3889596417067, 634.3921845813203, 580.4968694947663, 575.4012135265699, 597.5250053240741, 462.1012159822869, 484.84159862318813, 505.1011502324878, 435.094146395632, 420.47921184581327], \"type\": \"scatter\", \"uid\": \"7f1d5c3b-9b7d-499d-a64d-b15d1b5ef4de\"}, {\"mode\": \"lines\", \"name\": \"Average Windspeed (mph)\", \"x\": [0, 1, 2, 3, 4, 5, 6, 7, 8, 9, 10, 11, 12, 13, 14, 15, 16, 17, 18, 19, 20, 21, 22, 23], \"y\": [13.82016348773842, 12.994609164420485, 11.794594594594594, 11.131506849315068, 10.191374663072777, 9.027173913043478, 8.592896174863387, 8.904891304347826, 9.336021505376344, 10.276139410187668, 11.507936507936508, 11.934383202099738, 12.597368421052632, 13.41994750656168, 14.736842105263158, 15.693931398416886, 16.131926121372032, 15.827225130890053, 15.927083333333334, 15.443864229765014, 14.847368421052632, 14.652631578947368, 14.846965699208443, 14.78319783197832], \"yaxis\": \"y2\", \"type\": \"scatter\", \"uid\": \"4f292924-a588-4f46-becd-ca751f25a621\"}], {\"title\": \"Turbine Output vs. Average Windspeed (mph)\", \"yaxis\": {\"tickfont\": {\"color\": \"#1f77b4\"}, \"title\": \"Turbine Output (kWh)\", \"titlefont\": {\"color\": \"#1f77b4\"}}, \"yaxis2\": {\"overlaying\": \"y\", \"side\": \"right\", \"tickfont\": {\"color\": \"#ff7f0e\"}, \"title\": \"Average Windspeed (mph)\", \"titlefont\": {\"color\": \"#ff7f0e\"}}}, {\"showLink\": true, \"linkText\": \"Export to plot.ly\", \"plotlyServerURL\": \"https://plot.ly\"})});</script><script type=\"text/javascript\">window.addEventListener(\"resize\", function(){window._Plotly.Plots.resize(document.getElementById(\"53b7e71b-060e-4777-97a1-759fddc1cf2e\"));});</script>"
      ]
     },
     "metadata": {},
     "output_type": "display_data"
    },
    {
     "data": {
      "application/vnd.plotly.v1+json": {
       "config": {
        "linkText": "Export to plot.ly",
        "plotlyServerURL": "https://plot.ly",
        "showLink": true
       },
       "data": [
        {
         "mode": "lines",
         "name": "Average Turbine Reading",
         "type": "scatter",
         "uid": "6fcb0dc4-b6d5-4605-8c70-643051bcd56b",
         "x": [
          0,
          1,
          2,
          3,
          4,
          5,
          6,
          7,
          8,
          9,
          10,
          11,
          12,
          13,
          14,
          15,
          16,
          17,
          18,
          19,
          20,
          21,
          22,
          23
         ],
         "y": [
          494.26026497844833,
          633.2917014794687,
          673.9421130334143,
          689.8409559178747,
          791.0826749338769,
          745.0706942069245,
          704.4290509863123,
          659.7159468599029,
          646.5851547604672,
          583.2374285426731,
          583.4527645229468,
          655.6162266505635,
          626.7576331823676,
          647.0118569343796,
          635.3889596417067,
          634.3921845813203,
          580.4968694947663,
          575.4012135265699,
          597.5250053240741,
          462.1012159822869,
          484.84159862318813,
          505.1011502324878,
          435.094146395632,
          420.47921184581327
         ]
        },
        {
         "mode": "lines",
         "name": "Wind Direction",
         "type": "scatter",
         "uid": "a77ee854-cebd-4685-b721-57b66506789d",
         "x": [
          0,
          1,
          2,
          3,
          4,
          5,
          6,
          7,
          8,
          9,
          10,
          11,
          12,
          13,
          14,
          15,
          16,
          17,
          18,
          19,
          20,
          21,
          22,
          23
         ],
         "y": [
          274.1587301587302,
          272.2151898734177,
          272.95081967213116,
          275.2836879432624,
          262.9225352112676,
          261.1507936507937,
          248.8495575221239,
          235.7872340425532,
          201.74273858921163,
          191.875,
          188.9399293286219,
          192.93286219081273,
          195.2317880794702,
          211.69435215946845,
          221.94078947368422,
          225.3560371517028,
          237.08074534161491,
          248.74213836477986,
          253.3240223463687,
          251.2707182320442,
          258.12138728323697,
          259.5086705202312,
          266.867816091954,
          271.80428134556576
         ],
         "yaxis": "y2"
        }
       ],
       "layout": {
        "title": "Turbine Output vs. Wind Direction",
        "yaxis": {
         "tickfont": {
          "color": "#1f77b4"
         },
         "title": "Turbine Output (kWh)",
         "titlefont": {
          "color": "#1f77b4"
         }
        },
        "yaxis2": {
         "overlaying": "y",
         "side": "right",
         "tickfont": {
          "color": "#ff7f0e"
         },
         "title": "Wind Direction",
         "titlefont": {
          "color": "#ff7f0e"
         }
        }
       }
      },
      "text/html": [
       "<div id=\"ba9f7849-5015-4c10-afb1-72877ef94ad6\" style=\"height: 525px; width: 100%;\" class=\"plotly-graph-div\"></div><script type=\"text/javascript\">require([\"plotly\"], function(Plotly) { window.PLOTLYENV=window.PLOTLYENV || {};window.PLOTLYENV.BASE_URL=\"https://plot.ly\";Plotly.newPlot(\"ba9f7849-5015-4c10-afb1-72877ef94ad6\", [{\"mode\": \"lines\", \"name\": \"Average Turbine Reading\", \"x\": [0, 1, 2, 3, 4, 5, 6, 7, 8, 9, 10, 11, 12, 13, 14, 15, 16, 17, 18, 19, 20, 21, 22, 23], \"y\": [494.26026497844833, 633.2917014794687, 673.9421130334143, 689.8409559178747, 791.0826749338769, 745.0706942069245, 704.4290509863123, 659.7159468599029, 646.5851547604672, 583.2374285426731, 583.4527645229468, 655.6162266505635, 626.7576331823676, 647.0118569343796, 635.3889596417067, 634.3921845813203, 580.4968694947663, 575.4012135265699, 597.5250053240741, 462.1012159822869, 484.84159862318813, 505.1011502324878, 435.094146395632, 420.47921184581327], \"type\": \"scatter\", \"uid\": \"6fcb0dc4-b6d5-4605-8c70-643051bcd56b\"}, {\"mode\": \"lines\", \"name\": \"Wind Direction\", \"x\": [0, 1, 2, 3, 4, 5, 6, 7, 8, 9, 10, 11, 12, 13, 14, 15, 16, 17, 18, 19, 20, 21, 22, 23], \"y\": [274.1587301587302, 272.2151898734177, 272.95081967213116, 275.2836879432624, 262.9225352112676, 261.1507936507937, 248.8495575221239, 235.7872340425532, 201.74273858921163, 191.875, 188.9399293286219, 192.93286219081273, 195.2317880794702, 211.69435215946845, 221.94078947368422, 225.3560371517028, 237.08074534161491, 248.74213836477986, 253.3240223463687, 251.2707182320442, 258.12138728323697, 259.5086705202312, 266.867816091954, 271.80428134556576], \"yaxis\": \"y2\", \"type\": \"scatter\", \"uid\": \"a77ee854-cebd-4685-b721-57b66506789d\"}], {\"title\": \"Turbine Output vs. Wind Direction\", \"yaxis\": {\"tickfont\": {\"color\": \"#1f77b4\"}, \"title\": \"Turbine Output (kWh)\", \"titlefont\": {\"color\": \"#1f77b4\"}}, \"yaxis2\": {\"overlaying\": \"y\", \"side\": \"right\", \"tickfont\": {\"color\": \"#ff7f0e\"}, \"title\": \"Wind Direction\", \"titlefont\": {\"color\": \"#ff7f0e\"}}}, {\"showLink\": true, \"linkText\": \"Export to plot.ly\", \"plotlyServerURL\": \"https://plot.ly\"})});</script><script type=\"text/javascript\">window.addEventListener(\"resize\", function(){window._Plotly.Plots.resize(document.getElementById(\"ba9f7849-5015-4c10-afb1-72877ef94ad6\"));});</script>"
      ],
      "text/vnd.plotly.v1+html": [
       "<div id=\"ba9f7849-5015-4c10-afb1-72877ef94ad6\" style=\"height: 525px; width: 100%;\" class=\"plotly-graph-div\"></div><script type=\"text/javascript\">require([\"plotly\"], function(Plotly) { window.PLOTLYENV=window.PLOTLYENV || {};window.PLOTLYENV.BASE_URL=\"https://plot.ly\";Plotly.newPlot(\"ba9f7849-5015-4c10-afb1-72877ef94ad6\", [{\"mode\": \"lines\", \"name\": \"Average Turbine Reading\", \"x\": [0, 1, 2, 3, 4, 5, 6, 7, 8, 9, 10, 11, 12, 13, 14, 15, 16, 17, 18, 19, 20, 21, 22, 23], \"y\": [494.26026497844833, 633.2917014794687, 673.9421130334143, 689.8409559178747, 791.0826749338769, 745.0706942069245, 704.4290509863123, 659.7159468599029, 646.5851547604672, 583.2374285426731, 583.4527645229468, 655.6162266505635, 626.7576331823676, 647.0118569343796, 635.3889596417067, 634.3921845813203, 580.4968694947663, 575.4012135265699, 597.5250053240741, 462.1012159822869, 484.84159862318813, 505.1011502324878, 435.094146395632, 420.47921184581327], \"type\": \"scatter\", \"uid\": \"6fcb0dc4-b6d5-4605-8c70-643051bcd56b\"}, {\"mode\": \"lines\", \"name\": \"Wind Direction\", \"x\": [0, 1, 2, 3, 4, 5, 6, 7, 8, 9, 10, 11, 12, 13, 14, 15, 16, 17, 18, 19, 20, 21, 22, 23], \"y\": [274.1587301587302, 272.2151898734177, 272.95081967213116, 275.2836879432624, 262.9225352112676, 261.1507936507937, 248.8495575221239, 235.7872340425532, 201.74273858921163, 191.875, 188.9399293286219, 192.93286219081273, 195.2317880794702, 211.69435215946845, 221.94078947368422, 225.3560371517028, 237.08074534161491, 248.74213836477986, 253.3240223463687, 251.2707182320442, 258.12138728323697, 259.5086705202312, 266.867816091954, 271.80428134556576], \"yaxis\": \"y2\", \"type\": \"scatter\", \"uid\": \"a77ee854-cebd-4685-b721-57b66506789d\"}], {\"title\": \"Turbine Output vs. Wind Direction\", \"yaxis\": {\"tickfont\": {\"color\": \"#1f77b4\"}, \"title\": \"Turbine Output (kWh)\", \"titlefont\": {\"color\": \"#1f77b4\"}}, \"yaxis2\": {\"overlaying\": \"y\", \"side\": \"right\", \"tickfont\": {\"color\": \"#ff7f0e\"}, \"title\": \"Wind Direction\", \"titlefont\": {\"color\": \"#ff7f0e\"}}}, {\"showLink\": true, \"linkText\": \"Export to plot.ly\", \"plotlyServerURL\": \"https://plot.ly\"})});</script><script type=\"text/javascript\">window.addEventListener(\"resize\", function(){window._Plotly.Plots.resize(document.getElementById(\"ba9f7849-5015-4c10-afb1-72877ef94ad6\"));});</script>"
      ]
     },
     "metadata": {},
     "output_type": "display_data"
    },
    {
     "data": {
      "application/vnd.plotly.v1+json": {
       "config": {
        "linkText": "Export to plot.ly",
        "plotlyServerURL": "https://plot.ly",
        "showLink": true
       },
       "data": [
        {
         "mode": "lines",
         "name": "Average Turbine Reading",
         "type": "scatter",
         "uid": "40c5bbff-8b3b-4aca-ba13-86488a3cee7b",
         "x": [
          0,
          1,
          2,
          3,
          4,
          5,
          6,
          7,
          8,
          9,
          10,
          11,
          12,
          13,
          14,
          15,
          16,
          17,
          18,
          19,
          20,
          21,
          22,
          23
         ],
         "y": [
          494.26026497844833,
          633.2917014794687,
          673.9421130334143,
          689.8409559178747,
          791.0826749338769,
          745.0706942069245,
          704.4290509863123,
          659.7159468599029,
          646.5851547604672,
          583.2374285426731,
          583.4527645229468,
          655.6162266505635,
          626.7576331823676,
          647.0118569343796,
          635.3889596417067,
          634.3921845813203,
          580.4968694947663,
          575.4012135265699,
          597.5250053240741,
          462.1012159822869,
          484.84159862318813,
          505.1011502324878,
          435.094146395632,
          420.47921184581327
         ]
        },
        {
         "mode": "lines",
         "name": "Temperature (Farenheit)",
         "type": "scatter",
         "uid": "30f56a46-476c-4e91-a923-f01d665c2205",
         "x": [
          0,
          1,
          2,
          3,
          4,
          5,
          6,
          7,
          8,
          9,
          10,
          11,
          12,
          13,
          14,
          15,
          16,
          17,
          18,
          19,
          20,
          21,
          22,
          23
         ],
         "y": [
          56.10899182561308,
          55.38172043010753,
          54.57027027027027,
          54.18478260869565,
          53.2722371967655,
          52.92663043478261,
          53.81967213114754,
          57.03260869565217,
          61.30913978494624,
          64.0187165775401,
          66.75263157894737,
          68.44094488188976,
          69.8267716535433,
          70.85526315789474,
          71.12894736842105,
          70.48421052631579,
          69.36315789473684,
          67.15665796344648,
          63.72987012987013,
          61.4621409921671,
          60.17368421052632,
          59.48684210526316,
          58.713157894736845,
          57.24390243902439
         ],
         "yaxis": "y2"
        }
       ],
       "layout": {
        "title": "Turbine Output vs. Temperature (Farenheit)",
        "yaxis": {
         "tickfont": {
          "color": "#1f77b4"
         },
         "title": "Turbine Output (kWh)",
         "titlefont": {
          "color": "#1f77b4"
         }
        },
        "yaxis2": {
         "overlaying": "y",
         "side": "right",
         "tickfont": {
          "color": "#ff7f0e"
         },
         "title": "Temperature (Farenheit)",
         "titlefont": {
          "color": "#ff7f0e"
         }
        }
       }
      },
      "text/html": [
       "<div id=\"55723ff2-5bd2-48bc-b928-4c4f3dc2af21\" style=\"height: 525px; width: 100%;\" class=\"plotly-graph-div\"></div><script type=\"text/javascript\">require([\"plotly\"], function(Plotly) { window.PLOTLYENV=window.PLOTLYENV || {};window.PLOTLYENV.BASE_URL=\"https://plot.ly\";Plotly.newPlot(\"55723ff2-5bd2-48bc-b928-4c4f3dc2af21\", [{\"mode\": \"lines\", \"name\": \"Average Turbine Reading\", \"x\": [0, 1, 2, 3, 4, 5, 6, 7, 8, 9, 10, 11, 12, 13, 14, 15, 16, 17, 18, 19, 20, 21, 22, 23], \"y\": [494.26026497844833, 633.2917014794687, 673.9421130334143, 689.8409559178747, 791.0826749338769, 745.0706942069245, 704.4290509863123, 659.7159468599029, 646.5851547604672, 583.2374285426731, 583.4527645229468, 655.6162266505635, 626.7576331823676, 647.0118569343796, 635.3889596417067, 634.3921845813203, 580.4968694947663, 575.4012135265699, 597.5250053240741, 462.1012159822869, 484.84159862318813, 505.1011502324878, 435.094146395632, 420.47921184581327], \"type\": \"scatter\", \"uid\": \"40c5bbff-8b3b-4aca-ba13-86488a3cee7b\"}, {\"mode\": \"lines\", \"name\": \"Temperature (Farenheit)\", \"x\": [0, 1, 2, 3, 4, 5, 6, 7, 8, 9, 10, 11, 12, 13, 14, 15, 16, 17, 18, 19, 20, 21, 22, 23], \"y\": [56.10899182561308, 55.38172043010753, 54.57027027027027, 54.18478260869565, 53.2722371967655, 52.92663043478261, 53.81967213114754, 57.03260869565217, 61.30913978494624, 64.0187165775401, 66.75263157894737, 68.44094488188976, 69.8267716535433, 70.85526315789474, 71.12894736842105, 70.48421052631579, 69.36315789473684, 67.15665796344648, 63.72987012987013, 61.4621409921671, 60.17368421052632, 59.48684210526316, 58.713157894736845, 57.24390243902439], \"yaxis\": \"y2\", \"type\": \"scatter\", \"uid\": \"30f56a46-476c-4e91-a923-f01d665c2205\"}], {\"title\": \"Turbine Output vs. Temperature (Farenheit)\", \"yaxis\": {\"tickfont\": {\"color\": \"#1f77b4\"}, \"title\": \"Turbine Output (kWh)\", \"titlefont\": {\"color\": \"#1f77b4\"}}, \"yaxis2\": {\"overlaying\": \"y\", \"side\": \"right\", \"tickfont\": {\"color\": \"#ff7f0e\"}, \"title\": \"Temperature (Farenheit)\", \"titlefont\": {\"color\": \"#ff7f0e\"}}}, {\"showLink\": true, \"linkText\": \"Export to plot.ly\", \"plotlyServerURL\": \"https://plot.ly\"})});</script><script type=\"text/javascript\">window.addEventListener(\"resize\", function(){window._Plotly.Plots.resize(document.getElementById(\"55723ff2-5bd2-48bc-b928-4c4f3dc2af21\"));});</script>"
      ],
      "text/vnd.plotly.v1+html": [
       "<div id=\"55723ff2-5bd2-48bc-b928-4c4f3dc2af21\" style=\"height: 525px; width: 100%;\" class=\"plotly-graph-div\"></div><script type=\"text/javascript\">require([\"plotly\"], function(Plotly) { window.PLOTLYENV=window.PLOTLYENV || {};window.PLOTLYENV.BASE_URL=\"https://plot.ly\";Plotly.newPlot(\"55723ff2-5bd2-48bc-b928-4c4f3dc2af21\", [{\"mode\": \"lines\", \"name\": \"Average Turbine Reading\", \"x\": [0, 1, 2, 3, 4, 5, 6, 7, 8, 9, 10, 11, 12, 13, 14, 15, 16, 17, 18, 19, 20, 21, 22, 23], \"y\": [494.26026497844833, 633.2917014794687, 673.9421130334143, 689.8409559178747, 791.0826749338769, 745.0706942069245, 704.4290509863123, 659.7159468599029, 646.5851547604672, 583.2374285426731, 583.4527645229468, 655.6162266505635, 626.7576331823676, 647.0118569343796, 635.3889596417067, 634.3921845813203, 580.4968694947663, 575.4012135265699, 597.5250053240741, 462.1012159822869, 484.84159862318813, 505.1011502324878, 435.094146395632, 420.47921184581327], \"type\": \"scatter\", \"uid\": \"40c5bbff-8b3b-4aca-ba13-86488a3cee7b\"}, {\"mode\": \"lines\", \"name\": \"Temperature (Farenheit)\", \"x\": [0, 1, 2, 3, 4, 5, 6, 7, 8, 9, 10, 11, 12, 13, 14, 15, 16, 17, 18, 19, 20, 21, 22, 23], \"y\": [56.10899182561308, 55.38172043010753, 54.57027027027027, 54.18478260869565, 53.2722371967655, 52.92663043478261, 53.81967213114754, 57.03260869565217, 61.30913978494624, 64.0187165775401, 66.75263157894737, 68.44094488188976, 69.8267716535433, 70.85526315789474, 71.12894736842105, 70.48421052631579, 69.36315789473684, 67.15665796344648, 63.72987012987013, 61.4621409921671, 60.17368421052632, 59.48684210526316, 58.713157894736845, 57.24390243902439], \"yaxis\": \"y2\", \"type\": \"scatter\", \"uid\": \"30f56a46-476c-4e91-a923-f01d665c2205\"}], {\"title\": \"Turbine Output vs. Temperature (Farenheit)\", \"yaxis\": {\"tickfont\": {\"color\": \"#1f77b4\"}, \"title\": \"Turbine Output (kWh)\", \"titlefont\": {\"color\": \"#1f77b4\"}}, \"yaxis2\": {\"overlaying\": \"y\", \"side\": \"right\", \"tickfont\": {\"color\": \"#ff7f0e\"}, \"title\": \"Temperature (Farenheit)\", \"titlefont\": {\"color\": \"#ff7f0e\"}}}, {\"showLink\": true, \"linkText\": \"Export to plot.ly\", \"plotlyServerURL\": \"https://plot.ly\"})});</script><script type=\"text/javascript\">window.addEventListener(\"resize\", function(){window._Plotly.Plots.resize(document.getElementById(\"55723ff2-5bd2-48bc-b928-4c4f3dc2af21\"));});</script>"
      ]
     },
     "metadata": {},
     "output_type": "display_data"
    },
    {
     "data": {
      "application/vnd.plotly.v1+json": {
       "config": {
        "linkText": "Export to plot.ly",
        "plotlyServerURL": "https://plot.ly",
        "showLink": true
       },
       "data": [
        {
         "mode": "lines",
         "name": "Average Turbine Reading",
         "type": "scatter",
         "uid": "403733e7-1917-44c4-8904-825c572741eb",
         "x": [
          0,
          1,
          2,
          3,
          4,
          5,
          6,
          7,
          8,
          9,
          10,
          11,
          12,
          13,
          14,
          15,
          16,
          17,
          18,
          19,
          20,
          21,
          22,
          23
         ],
         "y": [
          494.26026497844833,
          633.2917014794687,
          673.9421130334143,
          689.8409559178747,
          791.0826749338769,
          745.0706942069245,
          704.4290509863123,
          659.7159468599029,
          646.5851547604672,
          583.2374285426731,
          583.4527645229468,
          655.6162266505635,
          626.7576331823676,
          647.0118569343796,
          635.3889596417067,
          634.3921845813203,
          580.4968694947663,
          575.4012135265699,
          597.5250053240741,
          462.1012159822869,
          484.84159862318813,
          505.1011502324878,
          435.094146395632,
          420.47921184581327
         ]
        },
        {
         "mode": "lines",
         "name": "Feels Like Temperature (Farenheit)",
         "type": "scatter",
         "uid": "50de2bb3-65d9-4a58-a027-682dca45106d",
         "x": [
          0,
          1,
          2,
          3,
          4,
          5,
          6,
          7,
          8,
          9,
          10,
          11,
          12,
          13,
          14,
          15,
          16,
          17,
          18,
          19,
          20,
          21,
          22,
          23
         ],
         "y": [
          54.19073569482289,
          53.51075268817204,
          52.74324324324324,
          52.41803278688525,
          51.40431266846361,
          51.33423913043478,
          52.55464480874317,
          55.671195652173914,
          59.96774193548387,
          62.57754010695187,
          65.38421052631578,
          67.05774278215223,
          68.41994750656168,
          69.38947368421053,
          69.59736842105264,
          68.99473684210527,
          67.87071240105541,
          65.71279373368147,
          62.10909090909091,
          59.83028720626632,
          58.47894736842105,
          57.70789473684211,
          56.94195250659631,
          55.46612466124661
         ],
         "yaxis": "y2"
        }
       ],
       "layout": {
        "title": "Turbine Output vs. Feels Like Temperature (Farenheit)",
        "yaxis": {
         "tickfont": {
          "color": "#1f77b4"
         },
         "title": "Turbine Output (kWh)",
         "titlefont": {
          "color": "#1f77b4"
         }
        },
        "yaxis2": {
         "overlaying": "y",
         "side": "right",
         "tickfont": {
          "color": "#ff7f0e"
         },
         "title": "Feels Like Temperature (Farenheit)",
         "titlefont": {
          "color": "#ff7f0e"
         }
        }
       }
      },
      "text/html": [
       "<div id=\"c34f6f3a-0bea-4a49-a218-4354df94b6e7\" style=\"height: 525px; width: 100%;\" class=\"plotly-graph-div\"></div><script type=\"text/javascript\">require([\"plotly\"], function(Plotly) { window.PLOTLYENV=window.PLOTLYENV || {};window.PLOTLYENV.BASE_URL=\"https://plot.ly\";Plotly.newPlot(\"c34f6f3a-0bea-4a49-a218-4354df94b6e7\", [{\"mode\": \"lines\", \"name\": \"Average Turbine Reading\", \"x\": [0, 1, 2, 3, 4, 5, 6, 7, 8, 9, 10, 11, 12, 13, 14, 15, 16, 17, 18, 19, 20, 21, 22, 23], \"y\": [494.26026497844833, 633.2917014794687, 673.9421130334143, 689.8409559178747, 791.0826749338769, 745.0706942069245, 704.4290509863123, 659.7159468599029, 646.5851547604672, 583.2374285426731, 583.4527645229468, 655.6162266505635, 626.7576331823676, 647.0118569343796, 635.3889596417067, 634.3921845813203, 580.4968694947663, 575.4012135265699, 597.5250053240741, 462.1012159822869, 484.84159862318813, 505.1011502324878, 435.094146395632, 420.47921184581327], \"type\": \"scatter\", \"uid\": \"403733e7-1917-44c4-8904-825c572741eb\"}, {\"mode\": \"lines\", \"name\": \"Feels Like Temperature (Farenheit)\", \"x\": [0, 1, 2, 3, 4, 5, 6, 7, 8, 9, 10, 11, 12, 13, 14, 15, 16, 17, 18, 19, 20, 21, 22, 23], \"y\": [54.19073569482289, 53.51075268817204, 52.74324324324324, 52.41803278688525, 51.40431266846361, 51.33423913043478, 52.55464480874317, 55.671195652173914, 59.96774193548387, 62.57754010695187, 65.38421052631578, 67.05774278215223, 68.41994750656168, 69.38947368421053, 69.59736842105264, 68.99473684210527, 67.87071240105541, 65.71279373368147, 62.10909090909091, 59.83028720626632, 58.47894736842105, 57.70789473684211, 56.94195250659631, 55.46612466124661], \"yaxis\": \"y2\", \"type\": \"scatter\", \"uid\": \"50de2bb3-65d9-4a58-a027-682dca45106d\"}], {\"title\": \"Turbine Output vs. Feels Like Temperature (Farenheit)\", \"yaxis\": {\"tickfont\": {\"color\": \"#1f77b4\"}, \"title\": \"Turbine Output (kWh)\", \"titlefont\": {\"color\": \"#1f77b4\"}}, \"yaxis2\": {\"overlaying\": \"y\", \"side\": \"right\", \"tickfont\": {\"color\": \"#ff7f0e\"}, \"title\": \"Feels Like Temperature (Farenheit)\", \"titlefont\": {\"color\": \"#ff7f0e\"}}}, {\"showLink\": true, \"linkText\": \"Export to plot.ly\", \"plotlyServerURL\": \"https://plot.ly\"})});</script><script type=\"text/javascript\">window.addEventListener(\"resize\", function(){window._Plotly.Plots.resize(document.getElementById(\"c34f6f3a-0bea-4a49-a218-4354df94b6e7\"));});</script>"
      ],
      "text/vnd.plotly.v1+html": [
       "<div id=\"c34f6f3a-0bea-4a49-a218-4354df94b6e7\" style=\"height: 525px; width: 100%;\" class=\"plotly-graph-div\"></div><script type=\"text/javascript\">require([\"plotly\"], function(Plotly) { window.PLOTLYENV=window.PLOTLYENV || {};window.PLOTLYENV.BASE_URL=\"https://plot.ly\";Plotly.newPlot(\"c34f6f3a-0bea-4a49-a218-4354df94b6e7\", [{\"mode\": \"lines\", \"name\": \"Average Turbine Reading\", \"x\": [0, 1, 2, 3, 4, 5, 6, 7, 8, 9, 10, 11, 12, 13, 14, 15, 16, 17, 18, 19, 20, 21, 22, 23], \"y\": [494.26026497844833, 633.2917014794687, 673.9421130334143, 689.8409559178747, 791.0826749338769, 745.0706942069245, 704.4290509863123, 659.7159468599029, 646.5851547604672, 583.2374285426731, 583.4527645229468, 655.6162266505635, 626.7576331823676, 647.0118569343796, 635.3889596417067, 634.3921845813203, 580.4968694947663, 575.4012135265699, 597.5250053240741, 462.1012159822869, 484.84159862318813, 505.1011502324878, 435.094146395632, 420.47921184581327], \"type\": \"scatter\", \"uid\": \"403733e7-1917-44c4-8904-825c572741eb\"}, {\"mode\": \"lines\", \"name\": \"Feels Like Temperature (Farenheit)\", \"x\": [0, 1, 2, 3, 4, 5, 6, 7, 8, 9, 10, 11, 12, 13, 14, 15, 16, 17, 18, 19, 20, 21, 22, 23], \"y\": [54.19073569482289, 53.51075268817204, 52.74324324324324, 52.41803278688525, 51.40431266846361, 51.33423913043478, 52.55464480874317, 55.671195652173914, 59.96774193548387, 62.57754010695187, 65.38421052631578, 67.05774278215223, 68.41994750656168, 69.38947368421053, 69.59736842105264, 68.99473684210527, 67.87071240105541, 65.71279373368147, 62.10909090909091, 59.83028720626632, 58.47894736842105, 57.70789473684211, 56.94195250659631, 55.46612466124661], \"yaxis\": \"y2\", \"type\": \"scatter\", \"uid\": \"50de2bb3-65d9-4a58-a027-682dca45106d\"}], {\"title\": \"Turbine Output vs. Feels Like Temperature (Farenheit)\", \"yaxis\": {\"tickfont\": {\"color\": \"#1f77b4\"}, \"title\": \"Turbine Output (kWh)\", \"titlefont\": {\"color\": \"#1f77b4\"}}, \"yaxis2\": {\"overlaying\": \"y\", \"side\": \"right\", \"tickfont\": {\"color\": \"#ff7f0e\"}, \"title\": \"Feels Like Temperature (Farenheit)\", \"titlefont\": {\"color\": \"#ff7f0e\"}}}, {\"showLink\": true, \"linkText\": \"Export to plot.ly\", \"plotlyServerURL\": \"https://plot.ly\"})});</script><script type=\"text/javascript\">window.addEventListener(\"resize\", function(){window._Plotly.Plots.resize(document.getElementById(\"c34f6f3a-0bea-4a49-a218-4354df94b6e7\"));});</script>"
      ]
     },
     "metadata": {},
     "output_type": "display_data"
    },
    {
     "data": {
      "application/vnd.plotly.v1+json": {
       "config": {
        "linkText": "Export to plot.ly",
        "plotlyServerURL": "https://plot.ly",
        "showLink": true
       },
       "data": [
        {
         "mode": "lines",
         "name": "Average Turbine Reading",
         "type": "scatter",
         "uid": "5323dec8-4c09-4c4a-8dc7-e444f21f4981",
         "x": [
          0,
          1,
          2,
          3,
          4,
          5,
          6,
          7,
          8,
          9,
          10,
          11,
          12,
          13,
          14,
          15,
          16,
          17,
          18,
          19,
          20,
          21,
          22,
          23
         ],
         "y": [
          494.26026497844833,
          633.2917014794687,
          673.9421130334143,
          689.8409559178747,
          791.0826749338769,
          745.0706942069245,
          704.4290509863123,
          659.7159468599029,
          646.5851547604672,
          583.2374285426731,
          583.4527645229468,
          655.6162266505635,
          626.7576331823676,
          647.0118569343796,
          635.3889596417067,
          634.3921845813203,
          580.4968694947663,
          575.4012135265699,
          597.5250053240741,
          462.1012159822869,
          484.84159862318813,
          505.1011502324878,
          435.094146395632,
          420.47921184581327
         ]
        },
        {
         "mode": "lines",
         "name": "pressure",
         "type": "scatter",
         "uid": "1f36473f-8433-4d3a-bb3c-e45a4664f28d",
         "x": [
          0,
          1,
          2,
          3,
          4,
          5,
          6,
          7,
          8,
          9,
          10,
          11,
          12,
          13,
          14,
          15,
          16,
          17,
          18,
          19,
          20,
          21,
          22,
          23
         ],
         "y": [
          27.118337874659385,
          27.115349462365586,
          27.113513513513514,
          27.111086956521746,
          27.1154177897574,
          27.12366847826086,
          27.13685792349725,
          27.147520435967277,
          27.152715053763416,
          27.15660427807484,
          27.154763157894703,
          27.145433070866105,
          27.127296587926505,
          27.110839895013118,
          27.098078947368446,
          27.089447368421055,
          27.086763157894758,
          27.08932114882508,
          27.096285714285724,
          27.103785900783315,
          27.113736842105265,
          27.119973684210546,
          27.12231578947368,
          27.12035230352302
         ],
         "yaxis": "y2"
        }
       ],
       "layout": {
        "title": "Turbine Output vs. pressure",
        "yaxis": {
         "tickfont": {
          "color": "#1f77b4"
         },
         "title": "Turbine Output (kWh)",
         "titlefont": {
          "color": "#1f77b4"
         }
        },
        "yaxis2": {
         "overlaying": "y",
         "side": "right",
         "tickfont": {
          "color": "#ff7f0e"
         },
         "title": "pressure",
         "titlefont": {
          "color": "#ff7f0e"
         }
        }
       }
      },
      "text/html": [
       "<div id=\"8de231e4-b038-4bd8-841c-8c47d0190164\" style=\"height: 525px; width: 100%;\" class=\"plotly-graph-div\"></div><script type=\"text/javascript\">require([\"plotly\"], function(Plotly) { window.PLOTLYENV=window.PLOTLYENV || {};window.PLOTLYENV.BASE_URL=\"https://plot.ly\";Plotly.newPlot(\"8de231e4-b038-4bd8-841c-8c47d0190164\", [{\"mode\": \"lines\", \"name\": \"Average Turbine Reading\", \"x\": [0, 1, 2, 3, 4, 5, 6, 7, 8, 9, 10, 11, 12, 13, 14, 15, 16, 17, 18, 19, 20, 21, 22, 23], \"y\": [494.26026497844833, 633.2917014794687, 673.9421130334143, 689.8409559178747, 791.0826749338769, 745.0706942069245, 704.4290509863123, 659.7159468599029, 646.5851547604672, 583.2374285426731, 583.4527645229468, 655.6162266505635, 626.7576331823676, 647.0118569343796, 635.3889596417067, 634.3921845813203, 580.4968694947663, 575.4012135265699, 597.5250053240741, 462.1012159822869, 484.84159862318813, 505.1011502324878, 435.094146395632, 420.47921184581327], \"type\": \"scatter\", \"uid\": \"5323dec8-4c09-4c4a-8dc7-e444f21f4981\"}, {\"mode\": \"lines\", \"name\": \"pressure\", \"x\": [0, 1, 2, 3, 4, 5, 6, 7, 8, 9, 10, 11, 12, 13, 14, 15, 16, 17, 18, 19, 20, 21, 22, 23], \"y\": [27.118337874659385, 27.115349462365586, 27.113513513513514, 27.111086956521746, 27.1154177897574, 27.12366847826086, 27.13685792349725, 27.147520435967277, 27.152715053763416, 27.15660427807484, 27.154763157894703, 27.145433070866105, 27.127296587926505, 27.110839895013118, 27.098078947368446, 27.089447368421055, 27.086763157894758, 27.08932114882508, 27.096285714285724, 27.103785900783315, 27.113736842105265, 27.119973684210546, 27.12231578947368, 27.12035230352302], \"yaxis\": \"y2\", \"type\": \"scatter\", \"uid\": \"1f36473f-8433-4d3a-bb3c-e45a4664f28d\"}], {\"title\": \"Turbine Output vs. pressure\", \"yaxis\": {\"tickfont\": {\"color\": \"#1f77b4\"}, \"title\": \"Turbine Output (kWh)\", \"titlefont\": {\"color\": \"#1f77b4\"}}, \"yaxis2\": {\"overlaying\": \"y\", \"side\": \"right\", \"tickfont\": {\"color\": \"#ff7f0e\"}, \"title\": \"pressure\", \"titlefont\": {\"color\": \"#ff7f0e\"}}}, {\"showLink\": true, \"linkText\": \"Export to plot.ly\", \"plotlyServerURL\": \"https://plot.ly\"})});</script><script type=\"text/javascript\">window.addEventListener(\"resize\", function(){window._Plotly.Plots.resize(document.getElementById(\"8de231e4-b038-4bd8-841c-8c47d0190164\"));});</script>"
      ],
      "text/vnd.plotly.v1+html": [
       "<div id=\"8de231e4-b038-4bd8-841c-8c47d0190164\" style=\"height: 525px; width: 100%;\" class=\"plotly-graph-div\"></div><script type=\"text/javascript\">require([\"plotly\"], function(Plotly) { window.PLOTLYENV=window.PLOTLYENV || {};window.PLOTLYENV.BASE_URL=\"https://plot.ly\";Plotly.newPlot(\"8de231e4-b038-4bd8-841c-8c47d0190164\", [{\"mode\": \"lines\", \"name\": \"Average Turbine Reading\", \"x\": [0, 1, 2, 3, 4, 5, 6, 7, 8, 9, 10, 11, 12, 13, 14, 15, 16, 17, 18, 19, 20, 21, 22, 23], \"y\": [494.26026497844833, 633.2917014794687, 673.9421130334143, 689.8409559178747, 791.0826749338769, 745.0706942069245, 704.4290509863123, 659.7159468599029, 646.5851547604672, 583.2374285426731, 583.4527645229468, 655.6162266505635, 626.7576331823676, 647.0118569343796, 635.3889596417067, 634.3921845813203, 580.4968694947663, 575.4012135265699, 597.5250053240741, 462.1012159822869, 484.84159862318813, 505.1011502324878, 435.094146395632, 420.47921184581327], \"type\": \"scatter\", \"uid\": \"5323dec8-4c09-4c4a-8dc7-e444f21f4981\"}, {\"mode\": \"lines\", \"name\": \"pressure\", \"x\": [0, 1, 2, 3, 4, 5, 6, 7, 8, 9, 10, 11, 12, 13, 14, 15, 16, 17, 18, 19, 20, 21, 22, 23], \"y\": [27.118337874659385, 27.115349462365586, 27.113513513513514, 27.111086956521746, 27.1154177897574, 27.12366847826086, 27.13685792349725, 27.147520435967277, 27.152715053763416, 27.15660427807484, 27.154763157894703, 27.145433070866105, 27.127296587926505, 27.110839895013118, 27.098078947368446, 27.089447368421055, 27.086763157894758, 27.08932114882508, 27.096285714285724, 27.103785900783315, 27.113736842105265, 27.119973684210546, 27.12231578947368, 27.12035230352302], \"yaxis\": \"y2\", \"type\": \"scatter\", \"uid\": \"1f36473f-8433-4d3a-bb3c-e45a4664f28d\"}], {\"title\": \"Turbine Output vs. pressure\", \"yaxis\": {\"tickfont\": {\"color\": \"#1f77b4\"}, \"title\": \"Turbine Output (kWh)\", \"titlefont\": {\"color\": \"#1f77b4\"}}, \"yaxis2\": {\"overlaying\": \"y\", \"side\": \"right\", \"tickfont\": {\"color\": \"#ff7f0e\"}, \"title\": \"pressure\", \"titlefont\": {\"color\": \"#ff7f0e\"}}}, {\"showLink\": true, \"linkText\": \"Export to plot.ly\", \"plotlyServerURL\": \"https://plot.ly\"})});</script><script type=\"text/javascript\">window.addEventListener(\"resize\", function(){window._Plotly.Plots.resize(document.getElementById(\"8de231e4-b038-4bd8-841c-8c47d0190164\"));});</script>"
      ]
     },
     "metadata": {},
     "output_type": "display_data"
    }
   ],
   "source": [
    "# hour_of_the_day\n",
    "\n",
    "for feature in feature_dict:\n",
    "    trace1 = go.Scatter(\n",
    "        x=turbine_grouped_hour[\"turbine_hour_of_day\"],\n",
    "        y=turbine_grouped_hour[\"avg_kW_reading\"],\n",
    "        mode=\"lines\",\n",
    "        name=\"Average Turbine Reading\"\n",
    "    )\n",
    "\n",
    "    trace2 = go.Scatter(\n",
    "        x=weather_grouped_hour[\"weather_hour_of_day\"],\n",
    "        y=weather_grouped_hour[feature],\n",
    "        mode=\"lines\",\n",
    "        name=feature_dict[feature],\n",
    "        yaxis=\"y2\"\n",
    "    )\n",
    "\n",
    "    data = [trace1, trace2]\n",
    "    layout = go.Layout(\n",
    "        title='Turbine Output vs. ' + feature_dict[feature],\n",
    "        yaxis=dict(\n",
    "            title='Turbine Output (kWh)',\n",
    "            titlefont=dict(\n",
    "                color='#1f77b4'\n",
    "            ),\n",
    "            tickfont=dict(\n",
    "                color='#1f77b4'\n",
    "            )\n",
    "        ),\n",
    "        yaxis2=dict(\n",
    "            title=feature_dict[feature],\n",
    "            titlefont=dict(\n",
    "                color='#ff7f0e'\n",
    "            ),\n",
    "            tickfont=dict(\n",
    "                color='#ff7f0e'\n",
    "            ),\n",
    "            overlaying='y',\n",
    "            side='right'\n",
    "        )\n",
    "    )\n",
    "\n",
    "    fig = go.Figure(data=data, layout=layout)\n",
    "    py.iplot(fig)\n"
   ]
  },
  {
   "cell_type": "code",
   "execution_count": 188,
   "metadata": {},
   "outputs": [
    {
     "data": {
      "application/vnd.plotly.v1+json": {
       "config": {
        "linkText": "Export to plot.ly",
        "plotlyServerURL": "https://plot.ly",
        "showLink": true
       },
       "data": [
        {
         "mode": "lines",
         "name": "Average Turbine Reading",
         "type": "scatter",
         "uid": "9dfa0887-ccb1-4684-878a-c919f34ac244",
         "x": [
          "Late Night",
          "Morning",
          "Afternoon",
          "Evening",
          "Night"
         ],
         "y": [
          654.115319045402,
          654.0153237899701,
          635.8876585849437,
          534.2445088638949,
          427.7866791207226
         ]
        },
        {
         "mode": "lines",
         "name": "Average Windspeed (mph)",
         "type": "scatter",
         "uid": "bf7ee6de-5e45-47a2-b792-f36dffc6dc04",
         "x": [
          "Late Night",
          "Morning",
          "Afternoon",
          "Evening",
          "Night"
         ],
         "y": [
          11.985357917570498,
          9.95663852647736,
          14.110526315789473,
          15.472465034965035,
          14.815508021390375
         ],
         "yaxis": "y2"
        }
       ],
       "layout": {
        "title": "Turbine Output vs. Average Windspeed (mph)",
        "yaxis": {
         "tickfont": {
          "color": "#1f77b4"
         },
         "title": "Turbine Output (kWh)",
         "titlefont": {
          "color": "#1f77b4"
         }
        },
        "yaxis2": {
         "overlaying": "y",
         "side": "right",
         "tickfont": {
          "color": "#ff7f0e"
         },
         "title": "Average Windspeed (mph)",
         "titlefont": {
          "color": "#ff7f0e"
         }
        }
       }
      },
      "text/html": [
       "<div id=\"a6d73f18-25e2-4a8b-bac1-0e8e266c9adb\" style=\"height: 525px; width: 100%;\" class=\"plotly-graph-div\"></div><script type=\"text/javascript\">require([\"plotly\"], function(Plotly) { window.PLOTLYENV=window.PLOTLYENV || {};window.PLOTLYENV.BASE_URL=\"https://plot.ly\";Plotly.newPlot(\"a6d73f18-25e2-4a8b-bac1-0e8e266c9adb\", [{\"mode\": \"lines\", \"name\": \"Average Turbine Reading\", \"x\": [\"Late Night\", \"Morning\", \"Afternoon\", \"Evening\", \"Night\"], \"y\": [654.115319045402, 654.0153237899701, 635.8876585849437, 534.2445088638949, 427.7866791207226], \"type\": \"scatter\", \"uid\": \"9dfa0887-ccb1-4684-878a-c919f34ac244\"}, {\"mode\": \"lines\", \"name\": \"Average Windspeed (mph)\", \"x\": [\"Late Night\", \"Morning\", \"Afternoon\", \"Evening\", \"Night\"], \"y\": [11.985357917570498, 9.95663852647736, 14.110526315789473, 15.472465034965035, 14.815508021390375], \"yaxis\": \"y2\", \"type\": \"scatter\", \"uid\": \"bf7ee6de-5e45-47a2-b792-f36dffc6dc04\"}], {\"title\": \"Turbine Output vs. Average Windspeed (mph)\", \"yaxis\": {\"tickfont\": {\"color\": \"#1f77b4\"}, \"title\": \"Turbine Output (kWh)\", \"titlefont\": {\"color\": \"#1f77b4\"}}, \"yaxis2\": {\"overlaying\": \"y\", \"side\": \"right\", \"tickfont\": {\"color\": \"#ff7f0e\"}, \"title\": \"Average Windspeed (mph)\", \"titlefont\": {\"color\": \"#ff7f0e\"}}}, {\"showLink\": true, \"linkText\": \"Export to plot.ly\", \"plotlyServerURL\": \"https://plot.ly\"})});</script><script type=\"text/javascript\">window.addEventListener(\"resize\", function(){window._Plotly.Plots.resize(document.getElementById(\"a6d73f18-25e2-4a8b-bac1-0e8e266c9adb\"));});</script>"
      ],
      "text/vnd.plotly.v1+html": [
       "<div id=\"a6d73f18-25e2-4a8b-bac1-0e8e266c9adb\" style=\"height: 525px; width: 100%;\" class=\"plotly-graph-div\"></div><script type=\"text/javascript\">require([\"plotly\"], function(Plotly) { window.PLOTLYENV=window.PLOTLYENV || {};window.PLOTLYENV.BASE_URL=\"https://plot.ly\";Plotly.newPlot(\"a6d73f18-25e2-4a8b-bac1-0e8e266c9adb\", [{\"mode\": \"lines\", \"name\": \"Average Turbine Reading\", \"x\": [\"Late Night\", \"Morning\", \"Afternoon\", \"Evening\", \"Night\"], \"y\": [654.115319045402, 654.0153237899701, 635.8876585849437, 534.2445088638949, 427.7866791207226], \"type\": \"scatter\", \"uid\": \"9dfa0887-ccb1-4684-878a-c919f34ac244\"}, {\"mode\": \"lines\", \"name\": \"Average Windspeed (mph)\", \"x\": [\"Late Night\", \"Morning\", \"Afternoon\", \"Evening\", \"Night\"], \"y\": [11.985357917570498, 9.95663852647736, 14.110526315789473, 15.472465034965035, 14.815508021390375], \"yaxis\": \"y2\", \"type\": \"scatter\", \"uid\": \"bf7ee6de-5e45-47a2-b792-f36dffc6dc04\"}], {\"title\": \"Turbine Output vs. Average Windspeed (mph)\", \"yaxis\": {\"tickfont\": {\"color\": \"#1f77b4\"}, \"title\": \"Turbine Output (kWh)\", \"titlefont\": {\"color\": \"#1f77b4\"}}, \"yaxis2\": {\"overlaying\": \"y\", \"side\": \"right\", \"tickfont\": {\"color\": \"#ff7f0e\"}, \"title\": \"Average Windspeed (mph)\", \"titlefont\": {\"color\": \"#ff7f0e\"}}}, {\"showLink\": true, \"linkText\": \"Export to plot.ly\", \"plotlyServerURL\": \"https://plot.ly\"})});</script><script type=\"text/javascript\">window.addEventListener(\"resize\", function(){window._Plotly.Plots.resize(document.getElementById(\"a6d73f18-25e2-4a8b-bac1-0e8e266c9adb\"));});</script>"
      ]
     },
     "metadata": {},
     "output_type": "display_data"
    },
    {
     "data": {
      "application/vnd.plotly.v1+json": {
       "config": {
        "linkText": "Export to plot.ly",
        "plotlyServerURL": "https://plot.ly",
        "showLink": true
       },
       "data": [
        {
         "mode": "lines",
         "name": "Average Turbine Reading",
         "type": "scatter",
         "uid": "5e3287a9-8182-47ad-bc8b-b450ae4a3996",
         "x": [
          "Late Night",
          "Morning",
          "Afternoon",
          "Evening",
          "Night"
         ],
         "y": [
          654.115319045402,
          654.0153237899701,
          635.8876585849437,
          534.2445088638949,
          427.7866791207226
         ]
        },
        {
         "mode": "lines",
         "name": "Wind Direction",
         "type": "scatter",
         "uid": "36a5ef68-a3fe-4f13-9161-a82c40d3d63c",
         "x": [
          "Late Night",
          "Morning",
          "Afternoon",
          "Evening",
          "Night"
         ],
         "y": [
          271.5912117177097,
          215.80518018018017,
          213.77235772357724,
          251.55458089668616,
          269.25925925925924
         ],
         "yaxis": "y2"
        }
       ],
       "layout": {
        "title": "Turbine Output vs. Wind Direction",
        "yaxis": {
         "tickfont": {
          "color": "#1f77b4"
         },
         "title": "Turbine Output (kWh)",
         "titlefont": {
          "color": "#1f77b4"
         }
        },
        "yaxis2": {
         "overlaying": "y",
         "side": "right",
         "tickfont": {
          "color": "#ff7f0e"
         },
         "title": "Wind Direction",
         "titlefont": {
          "color": "#ff7f0e"
         }
        }
       }
      },
      "text/html": [
       "<div id=\"174befff-3408-454a-90a3-b940bc403ae6\" style=\"height: 525px; width: 100%;\" class=\"plotly-graph-div\"></div><script type=\"text/javascript\">require([\"plotly\"], function(Plotly) { window.PLOTLYENV=window.PLOTLYENV || {};window.PLOTLYENV.BASE_URL=\"https://plot.ly\";Plotly.newPlot(\"174befff-3408-454a-90a3-b940bc403ae6\", [{\"mode\": \"lines\", \"name\": \"Average Turbine Reading\", \"x\": [\"Late Night\", \"Morning\", \"Afternoon\", \"Evening\", \"Night\"], \"y\": [654.115319045402, 654.0153237899701, 635.8876585849437, 534.2445088638949, 427.7866791207226], \"type\": \"scatter\", \"uid\": \"5e3287a9-8182-47ad-bc8b-b450ae4a3996\"}, {\"mode\": \"lines\", \"name\": \"Wind Direction\", \"x\": [\"Late Night\", \"Morning\", \"Afternoon\", \"Evening\", \"Night\"], \"y\": [271.5912117177097, 215.80518018018017, 213.77235772357724, 251.55458089668616, 269.25925925925924], \"yaxis\": \"y2\", \"type\": \"scatter\", \"uid\": \"36a5ef68-a3fe-4f13-9161-a82c40d3d63c\"}], {\"title\": \"Turbine Output vs. Wind Direction\", \"yaxis\": {\"tickfont\": {\"color\": \"#1f77b4\"}, \"title\": \"Turbine Output (kWh)\", \"titlefont\": {\"color\": \"#1f77b4\"}}, \"yaxis2\": {\"overlaying\": \"y\", \"side\": \"right\", \"tickfont\": {\"color\": \"#ff7f0e\"}, \"title\": \"Wind Direction\", \"titlefont\": {\"color\": \"#ff7f0e\"}}}, {\"showLink\": true, \"linkText\": \"Export to plot.ly\", \"plotlyServerURL\": \"https://plot.ly\"})});</script><script type=\"text/javascript\">window.addEventListener(\"resize\", function(){window._Plotly.Plots.resize(document.getElementById(\"174befff-3408-454a-90a3-b940bc403ae6\"));});</script>"
      ],
      "text/vnd.plotly.v1+html": [
       "<div id=\"174befff-3408-454a-90a3-b940bc403ae6\" style=\"height: 525px; width: 100%;\" class=\"plotly-graph-div\"></div><script type=\"text/javascript\">require([\"plotly\"], function(Plotly) { window.PLOTLYENV=window.PLOTLYENV || {};window.PLOTLYENV.BASE_URL=\"https://plot.ly\";Plotly.newPlot(\"174befff-3408-454a-90a3-b940bc403ae6\", [{\"mode\": \"lines\", \"name\": \"Average Turbine Reading\", \"x\": [\"Late Night\", \"Morning\", \"Afternoon\", \"Evening\", \"Night\"], \"y\": [654.115319045402, 654.0153237899701, 635.8876585849437, 534.2445088638949, 427.7866791207226], \"type\": \"scatter\", \"uid\": \"5e3287a9-8182-47ad-bc8b-b450ae4a3996\"}, {\"mode\": \"lines\", \"name\": \"Wind Direction\", \"x\": [\"Late Night\", \"Morning\", \"Afternoon\", \"Evening\", \"Night\"], \"y\": [271.5912117177097, 215.80518018018017, 213.77235772357724, 251.55458089668616, 269.25925925925924], \"yaxis\": \"y2\", \"type\": \"scatter\", \"uid\": \"36a5ef68-a3fe-4f13-9161-a82c40d3d63c\"}], {\"title\": \"Turbine Output vs. Wind Direction\", \"yaxis\": {\"tickfont\": {\"color\": \"#1f77b4\"}, \"title\": \"Turbine Output (kWh)\", \"titlefont\": {\"color\": \"#1f77b4\"}}, \"yaxis2\": {\"overlaying\": \"y\", \"side\": \"right\", \"tickfont\": {\"color\": \"#ff7f0e\"}, \"title\": \"Wind Direction\", \"titlefont\": {\"color\": \"#ff7f0e\"}}}, {\"showLink\": true, \"linkText\": \"Export to plot.ly\", \"plotlyServerURL\": \"https://plot.ly\"})});</script><script type=\"text/javascript\">window.addEventListener(\"resize\", function(){window._Plotly.Plots.resize(document.getElementById(\"174befff-3408-454a-90a3-b940bc403ae6\"));});</script>"
      ]
     },
     "metadata": {},
     "output_type": "display_data"
    },
    {
     "data": {
      "application/vnd.plotly.v1+json": {
       "config": {
        "linkText": "Export to plot.ly",
        "plotlyServerURL": "https://plot.ly",
        "showLink": true
       },
       "data": [
        {
         "mode": "lines",
         "name": "Average Turbine Reading",
         "type": "scatter",
         "uid": "b6852387-848c-4ace-9c36-c5de4297b5c1",
         "x": [
          "Late Night",
          "Morning",
          "Afternoon",
          "Evening",
          "Night"
         ],
         "y": [
          654.115319045402,
          654.0153237899701,
          635.8876585849437,
          534.2445088638949,
          427.7866791207226
         ]
        },
        {
         "mode": "lines",
         "name": "Temperature (Farenheit)",
         "type": "scatter",
         "uid": "fa6877b0-3910-489e-a106-2c85f2ad5ec0",
         "x": [
          "Late Night",
          "Morning",
          "Afternoon",
          "Evening",
          "Night"
         ],
         "y": [
          54.70183982683983,
          60.69566883863549,
          70.5733070348455,
          63.56438236577914,
          57.989319092122834
         ],
         "yaxis": "y2"
        }
       ],
       "layout": {
        "title": "Turbine Output vs. Temperature (Farenheit)",
        "yaxis": {
         "tickfont": {
          "color": "#1f77b4"
         },
         "title": "Turbine Output (kWh)",
         "titlefont": {
          "color": "#1f77b4"
         }
        },
        "yaxis2": {
         "overlaying": "y",
         "side": "right",
         "tickfont": {
          "color": "#ff7f0e"
         },
         "title": "Temperature (Farenheit)",
         "titlefont": {
          "color": "#ff7f0e"
         }
        }
       }
      },
      "text/html": [
       "<div id=\"bf349ec3-8406-404d-aa56-b694247cafc6\" style=\"height: 525px; width: 100%;\" class=\"plotly-graph-div\"></div><script type=\"text/javascript\">require([\"plotly\"], function(Plotly) { window.PLOTLYENV=window.PLOTLYENV || {};window.PLOTLYENV.BASE_URL=\"https://plot.ly\";Plotly.newPlot(\"bf349ec3-8406-404d-aa56-b694247cafc6\", [{\"mode\": \"lines\", \"name\": \"Average Turbine Reading\", \"x\": [\"Late Night\", \"Morning\", \"Afternoon\", \"Evening\", \"Night\"], \"y\": [654.115319045402, 654.0153237899701, 635.8876585849437, 534.2445088638949, 427.7866791207226], \"type\": \"scatter\", \"uid\": \"b6852387-848c-4ace-9c36-c5de4297b5c1\"}, {\"mode\": \"lines\", \"name\": \"Temperature (Farenheit)\", \"x\": [\"Late Night\", \"Morning\", \"Afternoon\", \"Evening\", \"Night\"], \"y\": [54.70183982683983, 60.69566883863549, 70.5733070348455, 63.56438236577914, 57.989319092122834], \"yaxis\": \"y2\", \"type\": \"scatter\", \"uid\": \"fa6877b0-3910-489e-a106-2c85f2ad5ec0\"}], {\"title\": \"Turbine Output vs. Temperature (Farenheit)\", \"yaxis\": {\"tickfont\": {\"color\": \"#1f77b4\"}, \"title\": \"Turbine Output (kWh)\", \"titlefont\": {\"color\": \"#1f77b4\"}}, \"yaxis2\": {\"overlaying\": \"y\", \"side\": \"right\", \"tickfont\": {\"color\": \"#ff7f0e\"}, \"title\": \"Temperature (Farenheit)\", \"titlefont\": {\"color\": \"#ff7f0e\"}}}, {\"showLink\": true, \"linkText\": \"Export to plot.ly\", \"plotlyServerURL\": \"https://plot.ly\"})});</script><script type=\"text/javascript\">window.addEventListener(\"resize\", function(){window._Plotly.Plots.resize(document.getElementById(\"bf349ec3-8406-404d-aa56-b694247cafc6\"));});</script>"
      ],
      "text/vnd.plotly.v1+html": [
       "<div id=\"bf349ec3-8406-404d-aa56-b694247cafc6\" style=\"height: 525px; width: 100%;\" class=\"plotly-graph-div\"></div><script type=\"text/javascript\">require([\"plotly\"], function(Plotly) { window.PLOTLYENV=window.PLOTLYENV || {};window.PLOTLYENV.BASE_URL=\"https://plot.ly\";Plotly.newPlot(\"bf349ec3-8406-404d-aa56-b694247cafc6\", [{\"mode\": \"lines\", \"name\": \"Average Turbine Reading\", \"x\": [\"Late Night\", \"Morning\", \"Afternoon\", \"Evening\", \"Night\"], \"y\": [654.115319045402, 654.0153237899701, 635.8876585849437, 534.2445088638949, 427.7866791207226], \"type\": \"scatter\", \"uid\": \"b6852387-848c-4ace-9c36-c5de4297b5c1\"}, {\"mode\": \"lines\", \"name\": \"Temperature (Farenheit)\", \"x\": [\"Late Night\", \"Morning\", \"Afternoon\", \"Evening\", \"Night\"], \"y\": [54.70183982683983, 60.69566883863549, 70.5733070348455, 63.56438236577914, 57.989319092122834], \"yaxis\": \"y2\", \"type\": \"scatter\", \"uid\": \"fa6877b0-3910-489e-a106-2c85f2ad5ec0\"}], {\"title\": \"Turbine Output vs. Temperature (Farenheit)\", \"yaxis\": {\"tickfont\": {\"color\": \"#1f77b4\"}, \"title\": \"Turbine Output (kWh)\", \"titlefont\": {\"color\": \"#1f77b4\"}}, \"yaxis2\": {\"overlaying\": \"y\", \"side\": \"right\", \"tickfont\": {\"color\": \"#ff7f0e\"}, \"title\": \"Temperature (Farenheit)\", \"titlefont\": {\"color\": \"#ff7f0e\"}}}, {\"showLink\": true, \"linkText\": \"Export to plot.ly\", \"plotlyServerURL\": \"https://plot.ly\"})});</script><script type=\"text/javascript\">window.addEventListener(\"resize\", function(){window._Plotly.Plots.resize(document.getElementById(\"bf349ec3-8406-404d-aa56-b694247cafc6\"));});</script>"
      ]
     },
     "metadata": {},
     "output_type": "display_data"
    },
    {
     "data": {
      "application/vnd.plotly.v1+json": {
       "config": {
        "linkText": "Export to plot.ly",
        "plotlyServerURL": "https://plot.ly",
        "showLink": true
       },
       "data": [
        {
         "mode": "lines",
         "name": "Average Turbine Reading",
         "type": "scatter",
         "uid": "d53053cd-94ea-403a-b7bf-8ebb39353dd0",
         "x": [
          "Late Night",
          "Morning",
          "Afternoon",
          "Evening",
          "Night"
         ],
         "y": [
          654.115319045402,
          654.0153237899701,
          635.8876585849437,
          534.2445088638949,
          427.7866791207226
         ]
        },
        {
         "mode": "lines",
         "name": "Feels Like Temperature (Farenheit)",
         "type": "scatter",
         "uid": "42841da4-467b-41d5-b134-2433fb06dfd5",
         "x": [
          "Late Night",
          "Morning",
          "Afternoon",
          "Evening",
          "Night"
         ],
         "y": [
          52.852112676056336,
          59.30241471828287,
          69.0999342537804,
          61.95152838427948,
          56.213903743315505
         ],
         "yaxis": "y2"
        }
       ],
       "layout": {
        "title": "Turbine Output vs. Feels Like Temperature (Farenheit)",
        "yaxis": {
         "tickfont": {
          "color": "#1f77b4"
         },
         "title": "Turbine Output (kWh)",
         "titlefont": {
          "color": "#1f77b4"
         }
        },
        "yaxis2": {
         "overlaying": "y",
         "side": "right",
         "tickfont": {
          "color": "#ff7f0e"
         },
         "title": "Feels Like Temperature (Farenheit)",
         "titlefont": {
          "color": "#ff7f0e"
         }
        }
       }
      },
      "text/html": [
       "<div id=\"c044dbbd-816e-428d-9625-aea8a5979f88\" style=\"height: 525px; width: 100%;\" class=\"plotly-graph-div\"></div><script type=\"text/javascript\">require([\"plotly\"], function(Plotly) { window.PLOTLYENV=window.PLOTLYENV || {};window.PLOTLYENV.BASE_URL=\"https://plot.ly\";Plotly.newPlot(\"c044dbbd-816e-428d-9625-aea8a5979f88\", [{\"mode\": \"lines\", \"name\": \"Average Turbine Reading\", \"x\": [\"Late Night\", \"Morning\", \"Afternoon\", \"Evening\", \"Night\"], \"y\": [654.115319045402, 654.0153237899701, 635.8876585849437, 534.2445088638949, 427.7866791207226], \"type\": \"scatter\", \"uid\": \"d53053cd-94ea-403a-b7bf-8ebb39353dd0\"}, {\"mode\": \"lines\", \"name\": \"Feels Like Temperature (Farenheit)\", \"x\": [\"Late Night\", \"Morning\", \"Afternoon\", \"Evening\", \"Night\"], \"y\": [52.852112676056336, 59.30241471828287, 69.0999342537804, 61.95152838427948, 56.213903743315505], \"yaxis\": \"y2\", \"type\": \"scatter\", \"uid\": \"42841da4-467b-41d5-b134-2433fb06dfd5\"}], {\"title\": \"Turbine Output vs. Feels Like Temperature (Farenheit)\", \"yaxis\": {\"tickfont\": {\"color\": \"#1f77b4\"}, \"title\": \"Turbine Output (kWh)\", \"titlefont\": {\"color\": \"#1f77b4\"}}, \"yaxis2\": {\"overlaying\": \"y\", \"side\": \"right\", \"tickfont\": {\"color\": \"#ff7f0e\"}, \"title\": \"Feels Like Temperature (Farenheit)\", \"titlefont\": {\"color\": \"#ff7f0e\"}}}, {\"showLink\": true, \"linkText\": \"Export to plot.ly\", \"plotlyServerURL\": \"https://plot.ly\"})});</script><script type=\"text/javascript\">window.addEventListener(\"resize\", function(){window._Plotly.Plots.resize(document.getElementById(\"c044dbbd-816e-428d-9625-aea8a5979f88\"));});</script>"
      ],
      "text/vnd.plotly.v1+html": [
       "<div id=\"c044dbbd-816e-428d-9625-aea8a5979f88\" style=\"height: 525px; width: 100%;\" class=\"plotly-graph-div\"></div><script type=\"text/javascript\">require([\"plotly\"], function(Plotly) { window.PLOTLYENV=window.PLOTLYENV || {};window.PLOTLYENV.BASE_URL=\"https://plot.ly\";Plotly.newPlot(\"c044dbbd-816e-428d-9625-aea8a5979f88\", [{\"mode\": \"lines\", \"name\": \"Average Turbine Reading\", \"x\": [\"Late Night\", \"Morning\", \"Afternoon\", \"Evening\", \"Night\"], \"y\": [654.115319045402, 654.0153237899701, 635.8876585849437, 534.2445088638949, 427.7866791207226], \"type\": \"scatter\", \"uid\": \"d53053cd-94ea-403a-b7bf-8ebb39353dd0\"}, {\"mode\": \"lines\", \"name\": \"Feels Like Temperature (Farenheit)\", \"x\": [\"Late Night\", \"Morning\", \"Afternoon\", \"Evening\", \"Night\"], \"y\": [52.852112676056336, 59.30241471828287, 69.0999342537804, 61.95152838427948, 56.213903743315505], \"yaxis\": \"y2\", \"type\": \"scatter\", \"uid\": \"42841da4-467b-41d5-b134-2433fb06dfd5\"}], {\"title\": \"Turbine Output vs. Feels Like Temperature (Farenheit)\", \"yaxis\": {\"tickfont\": {\"color\": \"#1f77b4\"}, \"title\": \"Turbine Output (kWh)\", \"titlefont\": {\"color\": \"#1f77b4\"}}, \"yaxis2\": {\"overlaying\": \"y\", \"side\": \"right\", \"tickfont\": {\"color\": \"#ff7f0e\"}, \"title\": \"Feels Like Temperature (Farenheit)\", \"titlefont\": {\"color\": \"#ff7f0e\"}}}, {\"showLink\": true, \"linkText\": \"Export to plot.ly\", \"plotlyServerURL\": \"https://plot.ly\"})});</script><script type=\"text/javascript\">window.addEventListener(\"resize\", function(){window._Plotly.Plots.resize(document.getElementById(\"c044dbbd-816e-428d-9625-aea8a5979f88\"));});</script>"
      ]
     },
     "metadata": {},
     "output_type": "display_data"
    },
    {
     "data": {
      "application/vnd.plotly.v1+json": {
       "config": {
        "linkText": "Export to plot.ly",
        "plotlyServerURL": "https://plot.ly",
        "showLink": true
       },
       "data": [
        {
         "mode": "lines",
         "name": "Average Turbine Reading",
         "type": "scatter",
         "uid": "3ad3829e-d566-4092-b898-1a0a98434e37",
         "x": [
          "Late Night",
          "Morning",
          "Afternoon",
          "Evening",
          "Night"
         ],
         "y": [
          654.115319045402,
          654.0153237899701,
          635.8876585849437,
          534.2445088638949,
          427.7866791207226
         ]
        },
        {
         "mode": "lines",
         "name": "pressure",
         "type": "scatter",
         "uid": "a07a359e-7100-4aa7-b515-0116fbbeb8db",
         "x": [
          "Late Night",
          "Morning",
          "Afternoon",
          "Evening",
          "Night"
         ],
         "y": [
          27.11474025974033,
          27.145452453987797,
          27.106432325887,
          27.101619380183248,
          27.12134846461946
         ],
         "yaxis": "y2"
        }
       ],
       "layout": {
        "title": "Turbine Output vs. pressure",
        "yaxis": {
         "tickfont": {
          "color": "#1f77b4"
         },
         "title": "Turbine Output (kWh)",
         "titlefont": {
          "color": "#1f77b4"
         }
        },
        "yaxis2": {
         "overlaying": "y",
         "side": "right",
         "tickfont": {
          "color": "#ff7f0e"
         },
         "title": "pressure",
         "titlefont": {
          "color": "#ff7f0e"
         }
        }
       }
      },
      "text/html": [
       "<div id=\"90af4dd4-35b8-45f7-aa29-a94d942d1276\" style=\"height: 525px; width: 100%;\" class=\"plotly-graph-div\"></div><script type=\"text/javascript\">require([\"plotly\"], function(Plotly) { window.PLOTLYENV=window.PLOTLYENV || {};window.PLOTLYENV.BASE_URL=\"https://plot.ly\";Plotly.newPlot(\"90af4dd4-35b8-45f7-aa29-a94d942d1276\", [{\"mode\": \"lines\", \"name\": \"Average Turbine Reading\", \"x\": [\"Late Night\", \"Morning\", \"Afternoon\", \"Evening\", \"Night\"], \"y\": [654.115319045402, 654.0153237899701, 635.8876585849437, 534.2445088638949, 427.7866791207226], \"type\": \"scatter\", \"uid\": \"3ad3829e-d566-4092-b898-1a0a98434e37\"}, {\"mode\": \"lines\", \"name\": \"pressure\", \"x\": [\"Late Night\", \"Morning\", \"Afternoon\", \"Evening\", \"Night\"], \"y\": [27.11474025974033, 27.145452453987797, 27.106432325887, 27.101619380183248, 27.12134846461946], \"yaxis\": \"y2\", \"type\": \"scatter\", \"uid\": \"a07a359e-7100-4aa7-b515-0116fbbeb8db\"}], {\"title\": \"Turbine Output vs. pressure\", \"yaxis\": {\"tickfont\": {\"color\": \"#1f77b4\"}, \"title\": \"Turbine Output (kWh)\", \"titlefont\": {\"color\": \"#1f77b4\"}}, \"yaxis2\": {\"overlaying\": \"y\", \"side\": \"right\", \"tickfont\": {\"color\": \"#ff7f0e\"}, \"title\": \"pressure\", \"titlefont\": {\"color\": \"#ff7f0e\"}}}, {\"showLink\": true, \"linkText\": \"Export to plot.ly\", \"plotlyServerURL\": \"https://plot.ly\"})});</script><script type=\"text/javascript\">window.addEventListener(\"resize\", function(){window._Plotly.Plots.resize(document.getElementById(\"90af4dd4-35b8-45f7-aa29-a94d942d1276\"));});</script>"
      ],
      "text/vnd.plotly.v1+html": [
       "<div id=\"90af4dd4-35b8-45f7-aa29-a94d942d1276\" style=\"height: 525px; width: 100%;\" class=\"plotly-graph-div\"></div><script type=\"text/javascript\">require([\"plotly\"], function(Plotly) { window.PLOTLYENV=window.PLOTLYENV || {};window.PLOTLYENV.BASE_URL=\"https://plot.ly\";Plotly.newPlot(\"90af4dd4-35b8-45f7-aa29-a94d942d1276\", [{\"mode\": \"lines\", \"name\": \"Average Turbine Reading\", \"x\": [\"Late Night\", \"Morning\", \"Afternoon\", \"Evening\", \"Night\"], \"y\": [654.115319045402, 654.0153237899701, 635.8876585849437, 534.2445088638949, 427.7866791207226], \"type\": \"scatter\", \"uid\": \"3ad3829e-d566-4092-b898-1a0a98434e37\"}, {\"mode\": \"lines\", \"name\": \"pressure\", \"x\": [\"Late Night\", \"Morning\", \"Afternoon\", \"Evening\", \"Night\"], \"y\": [27.11474025974033, 27.145452453987797, 27.106432325887, 27.101619380183248, 27.12134846461946], \"yaxis\": \"y2\", \"type\": \"scatter\", \"uid\": \"a07a359e-7100-4aa7-b515-0116fbbeb8db\"}], {\"title\": \"Turbine Output vs. pressure\", \"yaxis\": {\"tickfont\": {\"color\": \"#1f77b4\"}, \"title\": \"Turbine Output (kWh)\", \"titlefont\": {\"color\": \"#1f77b4\"}}, \"yaxis2\": {\"overlaying\": \"y\", \"side\": \"right\", \"tickfont\": {\"color\": \"#ff7f0e\"}, \"title\": \"pressure\", \"titlefont\": {\"color\": \"#ff7f0e\"}}}, {\"showLink\": true, \"linkText\": \"Export to plot.ly\", \"plotlyServerURL\": \"https://plot.ly\"})});</script><script type=\"text/javascript\">window.addEventListener(\"resize\", function(){window._Plotly.Plots.resize(document.getElementById(\"90af4dd4-35b8-45f7-aa29-a94d942d1276\"));});</script>"
      ]
     },
     "metadata": {},
     "output_type": "display_data"
    }
   ],
   "source": [
    "## time_of_the_day\n",
    "\n",
    "for feature in feature_dict:\n",
    "    trace1 = go.Scatter(\n",
    "        x=turbine_grouped_bins[\"turbine_time_of_day_bin\"],\n",
    "        y=turbine_grouped_bins[\"avg_kW_reading\"],\n",
    "        mode=\"lines\",\n",
    "        name=\"Average Turbine Reading\"\n",
    "    )\n",
    "\n",
    "    trace2 = go.Scatter(\n",
    "        x=weather_grouped_bins[\"weather_time_of_day_bin\"],\n",
    "        y=weather_grouped_bins[feature],\n",
    "        mode=\"lines\",\n",
    "        name=feature_dict[feature],\n",
    "        yaxis=\"y2\"\n",
    "    )\n",
    "\n",
    "    data = [trace1, trace2]\n",
    "    layout = go.Layout(\n",
    "        title='Turbine Output vs. ' + feature_dict[feature],\n",
    "        yaxis=dict(\n",
    "            title='Turbine Output (kWh)',\n",
    "            titlefont=dict(\n",
    "                color='#1f77b4'\n",
    "            ),\n",
    "            tickfont=dict(\n",
    "                color='#1f77b4'\n",
    "            )\n",
    "        ),\n",
    "        yaxis2=dict(\n",
    "            title=feature_dict[feature],\n",
    "            titlefont=dict(\n",
    "                color='#ff7f0e'\n",
    "            ),\n",
    "            tickfont=dict(\n",
    "                color='#ff7f0e'\n",
    "            ),\n",
    "            overlaying='y',\n",
    "            side='right'\n",
    "        )\n",
    "    )\n",
    "\n",
    "    fig = go.Figure(data=data, layout=layout)\n",
    "    py.iplot(fig)"
   ]
  },
  {
   "cell_type": "code",
   "execution_count": null,
   "metadata": {
    "collapsed": true
   },
   "outputs": [],
   "source": []
  }
 ],
 "metadata": {
  "kernelspec": {
   "display_name": "Python 3",
   "language": "python",
   "name": "python3"
  },
  "language_info": {
   "codemirror_mode": {
    "name": "ipython",
    "version": 3
   },
   "file_extension": ".py",
   "mimetype": "text/x-python",
   "name": "python",
   "nbconvert_exporter": "python",
   "pygments_lexer": "ipython3",
   "version": "3.6.3"
  }
 },
 "nbformat": 4,
 "nbformat_minor": 2
}
