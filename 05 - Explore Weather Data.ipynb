{
 "cells": [
  {
   "cell_type": "markdown",
   "metadata": {},
   "source": [
    "## Explore Weather Data: From Stations Around the Wind Farms\n",
    "### *This notebook performs exploratory data analysis on downloaded weather data*"
   ]
  },
  {
   "cell_type": "code",
   "execution_count": 1,
   "metadata": {
    "collapsed": true
   },
   "outputs": [],
   "source": [
    "import os\n",
    "import glob\n",
    "import pandas as pd\n",
    "import numpy as np\n",
    "import seaborn as sns\n",
    "from scipy.interpolate import spline\n",
    "import matplotlib.pyplot as plt\n",
    "%matplotlib inline\n",
    "import statsmodels.api as sm\n",
    "import pickle\n",
    "import random"
   ]
  },
  {
   "cell_type": "code",
   "execution_count": 95,
   "metadata": {
    "collapsed": true
   },
   "outputs": [],
   "source": [
    "project_name = \"Thunder Ranch\"\n",
    "feature_name = \"AWND\""
   ]
  },
  {
   "cell_type": "code",
   "execution_count": 96,
   "metadata": {
    "collapsed": true
   },
   "outputs": [],
   "source": [
    "def get_projects(basepath_flag = True):\n",
    "    base_path = './data/weather/projects/*'\n",
    "    projects =  glob.glob(base_path)\n",
    "    if basepath_flag:\n",
    "        return([os.path.basename(s) for s in projects])\n",
    "    else:\n",
    "        return(projects)"
   ]
  },
  {
   "cell_type": "code",
   "execution_count": 97,
   "metadata": {
    "collapsed": true
   },
   "outputs": [],
   "source": [
    "def get_project_stations(project_name):\n",
    "    project_name = project_name.replace(\"/\",\"&\")\n",
    "    base_path = './data/weather/projects/'\n",
    "    search_path = base_path + project_name + '/*'\n",
    "    project_station_dir =  glob.glob(search_path)\n",
    "    return([os.path.basename(s) for s in project_station_dir])"
   ]
  },
  {
   "cell_type": "code",
   "execution_count": 98,
   "metadata": {
    "collapsed": true
   },
   "outputs": [],
   "source": [
    "def get_features_project_stations(project_name, stationid, basepath_flag = True):\n",
    "    project_name = project_name.replace(\"/\",\"&\")\n",
    "    stationid = stationid.replace(\":\", \"_\")\n",
    "    base_path = './data/weather/projects/'\n",
    "    station_weather_features = glob.glob(base_path + project_name + '/' + stationid + '/*.csv')\n",
    "    if basepath_flag:\n",
    "        return([os.path.basename(s).replace('.csv', '') for s in station_weather_features])\n",
    "    else:\n",
    "        return(station_weather_features)"
   ]
  },
  {
   "cell_type": "code",
   "execution_count": 99,
   "metadata": {
    "collapsed": true
   },
   "outputs": [],
   "source": [
    "def get_data_features_project_stations(project_name, stationid, feature):\n",
    "    project_name = project_name.replace(\"/\",\"&\")\n",
    "    stationid = stationid.replace(\":\", \"_\")\n",
    "    base_path = './data/weather/projects/'\n",
    "    #feature_name = feature.split(\"_\")[0]\n",
    "    #print(feature_name)\n",
    "    feature_path = base_path + project_name + '/' + stationid + '/' + feature + '.csv'\n",
    "    return(pd.read_csv(feature_path))"
   ]
  },
  {
   "cell_type": "code",
   "execution_count": 100,
   "metadata": {
    "collapsed": true
   },
   "outputs": [],
   "source": [
    "all_data = pd.DataFrame()\n",
    "collected_projects = get_projects(basepath_flag=True)\n",
    "for p in collected_projects:\n",
    "    project_stations = get_project_stations(p)\n",
    "    for s in project_stations:\n",
    "        station_features = get_features_project_stations(p, s)\n",
    "        for f in station_features:\n",
    "            data = get_data_features_project_stations(p, s, f)\n",
    "            data['p_name'] = p\n",
    "            all_data = all_data.append(data)"
   ]
  },
  {
   "cell_type": "code",
   "execution_count": 101,
   "metadata": {},
   "outputs": [
    {
     "data": {
      "text/plain": [
       "(239059, 6)"
      ]
     },
     "execution_count": 101,
     "metadata": {},
     "output_type": "execute_result"
    }
   ],
   "source": [
    "all_data.shape"
   ]
  },
  {
   "cell_type": "code",
   "execution_count": 102,
   "metadata": {},
   "outputs": [
    {
     "data": {
      "text/html": [
       "<div>\n",
       "<style scoped>\n",
       "    .dataframe tbody tr th:only-of-type {\n",
       "        vertical-align: middle;\n",
       "    }\n",
       "\n",
       "    .dataframe tbody tr th {\n",
       "        vertical-align: top;\n",
       "    }\n",
       "\n",
       "    .dataframe thead th {\n",
       "        text-align: right;\n",
       "    }\n",
       "</style>\n",
       "<table border=\"1\" class=\"dataframe\">\n",
       "  <thead>\n",
       "    <tr style=\"text-align: right;\">\n",
       "      <th></th>\n",
       "      <th>attributes</th>\n",
       "      <th>datatype</th>\n",
       "      <th>date</th>\n",
       "      <th>station</th>\n",
       "      <th>value</th>\n",
       "      <th>p_name</th>\n",
       "    </tr>\n",
       "  </thead>\n",
       "  <tbody>\n",
       "    <tr>\n",
       "      <th>0</th>\n",
       "      <td>,,W,</td>\n",
       "      <td>AWND</td>\n",
       "      <td>2017-01-01T00:00:00</td>\n",
       "      <td>GHCND:USW00014748</td>\n",
       "      <td>6.0</td>\n",
       "      <td>Armenia Mountain</td>\n",
       "    </tr>\n",
       "    <tr>\n",
       "      <th>1</th>\n",
       "      <td>,,W,</td>\n",
       "      <td>AWND</td>\n",
       "      <td>2017-01-02T00:00:00</td>\n",
       "      <td>GHCND:USW00014748</td>\n",
       "      <td>2.9</td>\n",
       "      <td>Armenia Mountain</td>\n",
       "    </tr>\n",
       "    <tr>\n",
       "      <th>2</th>\n",
       "      <td>,,W,</td>\n",
       "      <td>AWND</td>\n",
       "      <td>2017-01-03T00:00:00</td>\n",
       "      <td>GHCND:USW00014748</td>\n",
       "      <td>2.9</td>\n",
       "      <td>Armenia Mountain</td>\n",
       "    </tr>\n",
       "    <tr>\n",
       "      <th>3</th>\n",
       "      <td>,,W,</td>\n",
       "      <td>AWND</td>\n",
       "      <td>2017-01-04T00:00:00</td>\n",
       "      <td>GHCND:USW00014748</td>\n",
       "      <td>15.9</td>\n",
       "      <td>Armenia Mountain</td>\n",
       "    </tr>\n",
       "    <tr>\n",
       "      <th>4</th>\n",
       "      <td>,,W,</td>\n",
       "      <td>AWND</td>\n",
       "      <td>2017-01-05T00:00:00</td>\n",
       "      <td>GHCND:USW00014748</td>\n",
       "      <td>12.5</td>\n",
       "      <td>Armenia Mountain</td>\n",
       "    </tr>\n",
       "  </tbody>\n",
       "</table>\n",
       "</div>"
      ],
      "text/plain": [
       "  attributes datatype                 date            station  value  \\\n",
       "0       ,,W,     AWND  2017-01-01T00:00:00  GHCND:USW00014748    6.0   \n",
       "1       ,,W,     AWND  2017-01-02T00:00:00  GHCND:USW00014748    2.9   \n",
       "2       ,,W,     AWND  2017-01-03T00:00:00  GHCND:USW00014748    2.9   \n",
       "3       ,,W,     AWND  2017-01-04T00:00:00  GHCND:USW00014748   15.9   \n",
       "4       ,,W,     AWND  2017-01-05T00:00:00  GHCND:USW00014748   12.5   \n",
       "\n",
       "             p_name  \n",
       "0  Armenia Mountain  \n",
       "1  Armenia Mountain  \n",
       "2  Armenia Mountain  \n",
       "3  Armenia Mountain  \n",
       "4  Armenia Mountain  "
      ]
     },
     "execution_count": 102,
     "metadata": {},
     "output_type": "execute_result"
    }
   ],
   "source": [
    "all_data.head()"
   ]
  },
  {
   "cell_type": "markdown",
   "metadata": {},
   "source": [
    "#### Plot weather data"
   ]
  },
  {
   "cell_type": "code",
   "execution_count": 111,
   "metadata": {
    "collapsed": true
   },
   "outputs": [],
   "source": [
    "stationids = get_project_stations(project_name)\n",
    "s = stationids[1]\n",
    "wind_features = get_features_project_stations(project_name, s)\n",
    "f = wind_features[-1]"
   ]
  },
  {
   "cell_type": "code",
   "execution_count": 141,
   "metadata": {
    "collapsed": true
   },
   "outputs": [],
   "source": [
    "def plot_weather_feature_time_series(project_name, station, feature):\n",
    "    df = get_data_features_project_stations(project_name, station, feature)\n",
    "    df.index = pd.to_datetime(df['date'])\n",
    "    plt.figure(figsize=(10,7))\n",
    "    #df['value'].plot()\n",
    "    #print(df)\n",
    "    lowess = sm.nonparametric.lowess\n",
    "    data = lowess(df[\"value\"], df.index)\n",
    "    #print(data)\n",
    "    #plt.plot(data[:, 0], data[:, 1])\n",
    "    plt.plot(df[\"value\"])"
   ]
  },
  {
   "cell_type": "code",
   "execution_count": 142,
   "metadata": {},
   "outputs": [
    {
     "name": "stdout",
     "output_type": "stream",
     "text": [
      "[[1.48322880e+18 2.69460957e+01]\n",
      " [1.48331520e+18 2.69655646e+01]\n",
      " [1.48340160e+18 2.69848583e+01]\n",
      " [1.48348800e+18 2.70039748e+01]\n",
      " [1.48357440e+18 2.70229121e+01]\n",
      " [1.48366080e+18 2.70416681e+01]\n",
      " [1.48374720e+18 2.70602410e+01]\n",
      " [1.48383360e+18 2.70786292e+01]\n",
      " [1.48392000e+18 2.70968318e+01]\n",
      " [1.48400640e+18 2.71148473e+01]\n",
      " [1.48409280e+18 2.71326742e+01]\n",
      " [1.48417920e+18 2.71503105e+01]\n",
      " [1.48426560e+18 2.71677538e+01]\n",
      " [1.48435200e+18 2.71850018e+01]\n",
      " [1.48443840e+18 2.72020528e+01]\n",
      " [1.48452480e+18 2.72189051e+01]\n",
      " [1.48461120e+18 2.72355575e+01]\n",
      " [1.48469760e+18 2.72520088e+01]\n",
      " [1.48478400e+18 2.72682577e+01]\n",
      " [1.48487040e+18 2.72843037e+01]\n",
      " [1.48495680e+18 2.73001461e+01]\n",
      " [1.48504320e+18 2.73157844e+01]\n",
      " [1.48512960e+18 2.73312185e+01]\n",
      " [1.48521600e+18 2.73464477e+01]\n",
      " [1.48530240e+18 2.73614716e+01]\n",
      " [1.48538880e+18 2.73762895e+01]\n",
      " [1.48547520e+18 2.73909005e+01]\n",
      " [1.48556160e+18 2.74053039e+01]\n",
      " [1.48564800e+18 2.74194989e+01]\n",
      " [1.48573440e+18 2.74334850e+01]\n",
      " [1.48582080e+18 2.74472619e+01]\n",
      " [1.48590720e+18 2.74608295e+01]\n",
      " [1.48599360e+18 2.74741879e+01]\n",
      " [1.48608000e+18 2.74873372e+01]\n",
      " [1.48616640e+18 2.75002771e+01]\n",
      " [1.48625280e+18 2.75130077e+01]\n",
      " [1.48633920e+18 2.75255292e+01]\n",
      " [1.48642560e+18 2.75378419e+01]\n",
      " [1.48651200e+18 2.75499465e+01]\n",
      " [1.48659840e+18 2.75618437e+01]\n",
      " [1.48668480e+18 2.75735339e+01]\n",
      " [1.48677120e+18 2.75850181e+01]\n",
      " [1.48685760e+18 2.75962966e+01]\n",
      " [1.48694400e+18 2.76073701e+01]\n",
      " [1.48703040e+18 2.76182389e+01]\n",
      " [1.48711680e+18 2.76289036e+01]\n",
      " [1.48720320e+18 2.76393653e+01]\n",
      " [1.48728960e+18 2.76496253e+01]\n",
      " [1.48737600e+18 2.76596852e+01]\n",
      " [1.48746240e+18 2.76695467e+01]\n",
      " [1.48754880e+18 2.76792118e+01]\n",
      " [1.48763520e+18 2.76886824e+01]\n",
      " [1.48772160e+18 2.76979608e+01]\n",
      " [1.48780800e+18 2.77070491e+01]\n",
      " [1.48789440e+18 2.77159501e+01]\n",
      " [1.48798080e+18 2.77246662e+01]\n",
      " [1.48806720e+18 2.77331998e+01]\n",
      " [1.48815360e+18 2.77415535e+01]\n",
      " [1.48824000e+18 2.77497304e+01]\n",
      " [1.48832640e+18 2.77577338e+01]\n",
      " [1.48841280e+18 2.77655666e+01]\n",
      " [1.48849920e+18 2.77732316e+01]\n",
      " [1.48858560e+18 2.77807316e+01]\n",
      " [1.48867200e+18 2.77880697e+01]\n",
      " [1.48875840e+18 2.77952483e+01]\n",
      " [1.48884480e+18 2.78022700e+01]\n",
      " [1.48893120e+18 2.78091370e+01]\n",
      " [1.48901760e+18 2.78158516e+01]\n",
      " [1.48910400e+18 2.78224161e+01]\n",
      " [1.48919040e+18 2.78288325e+01]\n",
      " [1.48927680e+18 2.78351031e+01]\n",
      " [1.48936320e+18 2.78412300e+01]\n",
      " [1.48944960e+18 2.78472160e+01]\n",
      " [1.48953600e+18 2.78530636e+01]\n",
      " [1.48962240e+18 2.78587757e+01]\n",
      " [1.48970880e+18 2.78643556e+01]\n",
      " [1.48979520e+18 2.78698069e+01]\n",
      " [1.48988160e+18 2.78751332e+01]\n",
      " [1.48996800e+18 2.78803389e+01]\n",
      " [1.49005440e+18 2.78854284e+01]\n",
      " [1.49014080e+18 2.78904065e+01]\n",
      " [1.49022720e+18 2.78952781e+01]\n",
      " [1.49031360e+18 2.79000482e+01]\n",
      " [1.49040000e+18 2.79047217e+01]\n",
      " [1.49048640e+18 2.79093034e+01]\n",
      " [1.49057280e+18 2.79137978e+01]\n",
      " [1.49065920e+18 2.79182094e+01]\n",
      " [1.49074560e+18 2.79225429e+01]\n",
      " [1.49083200e+18 2.79268026e+01]\n",
      " [1.49091840e+18 2.79309930e+01]\n",
      " [1.49100480e+18 2.79351185e+01]\n",
      " [1.49109120e+18 2.79391837e+01]\n",
      " [1.49117760e+18 2.79431938e+01]\n",
      " [1.49126400e+18 2.79471544e+01]\n",
      " [1.49135040e+18 2.79510713e+01]\n",
      " [1.49143680e+18 2.79549503e+01]\n",
      " [1.49152320e+18 2.79587966e+01]\n",
      " [1.49160960e+18 2.79626155e+01]\n",
      " [1.49169600e+18 2.79664122e+01]\n",
      " [1.49178240e+18 2.79701911e+01]\n",
      " [1.49186880e+18 2.79739555e+01]\n",
      " [1.49195520e+18 2.79777076e+01]\n",
      " [1.49204160e+18 2.79814489e+01]\n",
      " [1.49212800e+18 2.79851797e+01]\n",
      " [1.49221440e+18 2.79888975e+01]\n",
      " [1.49230080e+18 2.79925970e+01]\n",
      " [1.49238720e+18 2.79962686e+01]\n",
      " [1.49247360e+18 2.79998983e+01]\n",
      " [1.49256000e+18 2.80034668e+01]\n",
      " [1.49264640e+18 2.80069487e+01]\n",
      " [1.49273280e+18 2.80103099e+01]\n",
      " [1.49281920e+18 2.80135065e+01]\n",
      " [1.49290560e+18 2.80164826e+01]\n",
      " [1.49299200e+18 2.80191696e+01]\n",
      " [1.49307840e+18 2.80214854e+01]\n",
      " [1.49316480e+18 2.80233326e+01]\n",
      " [1.49325120e+18 2.80245986e+01]\n",
      " [1.49333760e+18 2.80251567e+01]\n",
      " [1.49342400e+18 2.80248707e+01]\n",
      " [1.49351040e+18 2.80236022e+01]\n",
      " [1.49359680e+18 2.80212225e+01]\n",
      " [1.49368320e+18 2.80176290e+01]\n",
      " [1.49376960e+18 2.79893303e+01]\n",
      " [1.49385600e+18 2.79600113e+01]\n",
      " [1.49394240e+18 2.79296672e+01]\n",
      " [1.49402880e+18 2.78982923e+01]\n",
      " [1.49411520e+18 2.78658808e+01]\n",
      " [1.49420160e+18 2.78324303e+01]\n",
      " [1.49428800e+18 2.77979393e+01]\n",
      " [1.49437440e+18 2.77624048e+01]\n",
      " [1.49446080e+18 2.77258284e+01]\n",
      " [1.49454720e+18 2.76882157e+01]\n",
      " [1.49472000e+18 2.76099301e+01]\n",
      " [1.49480640e+18 2.75692861e+01]\n",
      " [1.49489280e+18 2.75276570e+01]\n",
      " [1.49497920e+18 2.74850488e+01]\n",
      " [1.49506560e+18 2.74414676e+01]\n",
      " [1.49515200e+18 2.73969280e+01]\n",
      " [1.49523840e+18 2.73514475e+01]\n",
      " [1.49532480e+18 2.73050435e+01]\n",
      " [1.49541120e+18 2.72577345e+01]\n",
      " [1.49549760e+18 2.72095454e+01]\n",
      " [1.49558400e+18 2.71605036e+01]\n",
      " [1.49567040e+18 2.71106442e+01]\n",
      " [1.49575680e+18 2.70600066e+01]\n",
      " [1.49584320e+18 2.70086389e+01]\n",
      " [1.49592960e+18 2.69565942e+01]\n",
      " [1.49601600e+18 2.69039268e+01]\n",
      " [1.49610240e+18 2.68506905e+01]\n",
      " [1.49618880e+18 2.67969382e+01]\n",
      " [1.49627520e+18 2.67427197e+01]\n",
      " [1.49636160e+18 2.66880778e+01]\n",
      " [1.49644800e+18 2.66330496e+01]\n",
      " [1.49653440e+18 2.65776766e+01]\n",
      " [1.49662080e+18 2.65220093e+01]\n",
      " [1.49670720e+18 2.64660983e+01]\n",
      " [1.49679360e+18 2.64099933e+01]\n",
      " [1.49688000e+18 2.63537399e+01]\n",
      " [1.49696640e+18 2.62973885e+01]\n",
      " [1.49705280e+18 2.62409914e+01]\n",
      " [1.49713920e+18 2.61846024e+01]\n",
      " [1.49722560e+18 2.61282762e+01]\n",
      " [1.49731200e+18 2.60720701e+01]\n",
      " [1.49739840e+18 2.60160379e+01]\n",
      " [1.49748480e+18 2.59602370e+01]\n",
      " [1.49757120e+18 2.59047215e+01]\n",
      " [1.49765760e+18 2.58495406e+01]\n",
      " [1.49774400e+18 2.57947387e+01]\n",
      " [1.49783040e+18 2.57403535e+01]\n",
      " [1.49791680e+18 2.56864168e+01]\n",
      " [1.49800320e+18 2.56329573e+01]\n",
      " [1.49808960e+18 2.55800055e+01]\n",
      " [1.49817600e+18 2.55275925e+01]\n",
      " [1.49826240e+18 2.54757471e+01]\n",
      " [1.49834880e+18 2.54244916e+01]\n",
      " [1.49843520e+18 2.53738529e+01]\n",
      " [1.49852160e+18 2.53238623e+01]\n",
      " [1.49860800e+18 2.52745431e+01]\n",
      " [1.49869440e+18 2.52259115e+01]\n",
      " [1.49878080e+18 2.51779818e+01]\n",
      " [1.49886720e+18 2.51307662e+01]\n",
      " [1.49895360e+18 2.50842743e+01]\n",
      " [1.49904000e+18 2.50385141e+01]\n",
      " [1.49912640e+18 2.49934912e+01]\n",
      " [1.49921280e+18 2.49492146e+01]\n",
      " [1.49929920e+18 2.49056985e+01]\n",
      " [1.49938560e+18 2.48629581e+01]\n",
      " [1.49947200e+18 2.48210040e+01]\n",
      " [1.49955840e+18 2.47798476e+01]\n",
      " [1.49964480e+18 2.47394997e+01]\n",
      " [1.49973120e+18 2.46999726e+01]\n",
      " [1.49981760e+18 2.46612722e+01]\n",
      " [1.49990400e+18 2.46233962e+01]\n",
      " [1.49999040e+18 2.45863455e+01]\n",
      " [1.50007680e+18 2.45501203e+01]\n",
      " [1.50016320e+18 2.45147161e+01]\n",
      " [1.50024960e+18 2.44801268e+01]\n",
      " [1.50033600e+18 2.44463422e+01]\n",
      " [1.50042240e+18 2.44133495e+01]\n",
      " [1.50050880e+18 2.43811372e+01]\n",
      " [1.50059520e+18 2.43496944e+01]\n",
      " [1.50068160e+18 2.43190118e+01]\n",
      " [1.50076800e+18 2.42890786e+01]\n",
      " [1.50085440e+18 2.42598904e+01]\n",
      " [1.50094080e+18 2.42314498e+01]\n",
      " [1.50102720e+18 2.42037585e+01]\n",
      " [1.50111360e+18 2.41768152e+01]\n",
      " [1.50120000e+18 2.41506169e+01]\n",
      " [1.50128640e+18 2.41251647e+01]\n",
      " [1.50137280e+18 2.41004609e+01]\n",
      " [1.50145920e+18 2.40765102e+01]\n",
      " [1.50154560e+18 2.40533173e+01]\n",
      " [1.50163200e+18 2.40308859e+01]\n",
      " [1.50171840e+18 2.40092123e+01]\n",
      " [1.50180480e+18 2.39882860e+01]\n",
      " [1.50189120e+18 2.39680941e+01]\n",
      " [1.50197760e+18 2.39486270e+01]\n",
      " [1.50206400e+18 2.39298757e+01]\n",
      " [1.50215040e+18 2.39118334e+01]\n",
      " [1.50223680e+18 2.38944957e+01]\n",
      " [1.50232320e+18 2.38778616e+01]\n",
      " [1.50240960e+18 2.38619266e+01]\n",
      " [1.50249600e+18 2.38466792e+01]\n",
      " [1.50258240e+18 2.38321036e+01]\n",
      " [1.50266880e+18 2.38181859e+01]\n",
      " [1.50275520e+18 2.38049128e+01]\n",
      " [1.50284160e+18 2.37922736e+01]\n",
      " [1.50292800e+18 2.37802556e+01]\n",
      " [1.50301440e+18 2.37688398e+01]\n",
      " [1.50310080e+18 2.37580086e+01]\n",
      " [1.50318720e+18 2.37477457e+01]\n",
      " [1.50327360e+18 2.37380344e+01]\n",
      " [1.50336000e+18 2.37288600e+01]\n",
      " [1.50344640e+18 2.37202076e+01]\n",
      " [1.50353280e+18 2.37120583e+01]\n",
      " [1.50361920e+18 2.37043966e+01]\n",
      " [1.50370560e+18 2.36972115e+01]\n",
      " [1.50379200e+18 2.36904989e+01]\n",
      " [1.50387840e+18 2.36842579e+01]\n",
      " [1.50396480e+18 2.36784847e+01]\n",
      " [1.50405120e+18 2.36731698e+01]\n",
      " [1.50413760e+18 2.36683051e+01]\n",
      " [1.50422400e+18 2.36638900e+01]\n",
      " [1.50431040e+18 2.36728783e+01]\n",
      " [1.50439680e+18 2.36817686e+01]\n",
      " [1.50448320e+18 2.36906012e+01]\n",
      " [1.50456960e+18 2.36994086e+01]\n",
      " [1.50465600e+18 2.37082163e+01]\n",
      " [1.50474240e+18 2.37170452e+01]\n",
      " [1.50482880e+18 2.37259131e+01]\n",
      " [1.50491520e+18 2.37348356e+01]\n",
      " [1.50500160e+18 2.37438269e+01]\n",
      " [1.50508800e+18 2.37528998e+01]\n",
      " [1.50517440e+18 2.37620665e+01]\n",
      " [1.50526080e+18 2.37713385e+01]\n",
      " [1.50534720e+18 2.37807270e+01]\n",
      " [1.50543360e+18 2.37902425e+01]\n",
      " [1.50552000e+18 2.37998948e+01]\n",
      " [1.50560640e+18 2.38096918e+01]\n",
      " [1.50569280e+18 2.38196404e+01]\n",
      " [1.50577920e+18 2.38297463e+01]\n",
      " [1.50586560e+18 2.38400147e+01]\n",
      " [1.50595200e+18 2.38504495e+01]\n",
      " [1.50603840e+18 2.38610537e+01]\n",
      " [1.50612480e+18 2.38718293e+01]\n",
      " [1.50621120e+18 2.38827777e+01]\n",
      " [1.50629760e+18 2.38938993e+01]\n",
      " [1.50638400e+18 2.39051943e+01]\n",
      " [1.50647040e+18 2.39166621e+01]\n",
      " [1.50655680e+18 2.39283020e+01]\n",
      " [1.50664320e+18 2.39401132e+01]\n",
      " [1.50672960e+18 2.39520949e+01]\n",
      " [1.50681600e+18 2.39642463e+01]\n",
      " [1.50690240e+18 2.39765667e+01]\n",
      " [1.50698880e+18 2.39890553e+01]\n",
      " [1.50707520e+18 2.40017103e+01]\n",
      " [1.50716160e+18 2.40145301e+01]\n",
      " [1.50724800e+18 2.40275126e+01]\n",
      " [1.50733440e+18 2.40406560e+01]\n",
      " [1.50742080e+18 2.40539581e+01]\n",
      " [1.50750720e+18 2.40674161e+01]\n",
      " [1.50759360e+18 2.40810271e+01]\n",
      " [1.50768000e+18 2.40947880e+01]\n",
      " [1.50776640e+18 2.41086952e+01]\n",
      " [1.50785280e+18 2.41227457e+01]\n",
      " [1.50793920e+18 2.41369359e+01]\n",
      " [1.50802560e+18 2.41512625e+01]\n",
      " [1.50811200e+18 2.41657217e+01]\n",
      " [1.50819840e+18 2.41803096e+01]\n",
      " [1.50828480e+18 2.41950229e+01]\n",
      " [1.50837120e+18 2.42098581e+01]\n",
      " [1.50845760e+18 2.42248118e+01]\n",
      " [1.50854400e+18 2.42398807e+01]\n",
      " [1.50863040e+18 2.42550610e+01]\n",
      " [1.50871680e+18 2.42703487e+01]\n",
      " [1.50880320e+18 2.42857399e+01]\n",
      " [1.50888960e+18 2.43012306e+01]\n",
      " [1.50897600e+18 2.43168164e+01]\n",
      " [1.50906240e+18 2.43324931e+01]\n",
      " [1.50914880e+18 2.43482564e+01]\n",
      " [1.50923520e+18 2.43641018e+01]\n",
      " [1.50932160e+18 2.43800250e+01]\n",
      " [1.50940800e+18 2.43960223e+01]\n",
      " [1.50949440e+18 2.44120895e+01]\n",
      " [1.50958080e+18 2.44282230e+01]\n",
      " [1.50966720e+18 2.44444190e+01]\n",
      " [1.50975360e+18 2.44606738e+01]\n",
      " [1.50984000e+18 2.44769841e+01]\n",
      " [1.50992640e+18 2.44933468e+01]\n",
      " [1.51001280e+18 2.45097591e+01]\n",
      " [1.51009920e+18 2.45262187e+01]\n",
      " [1.51018560e+18 2.45427232e+01]\n",
      " [1.51027200e+18 2.45592705e+01]\n",
      " [1.51035840e+18 2.45758591e+01]\n",
      " [1.51044480e+18 2.45924874e+01]\n",
      " [1.51053120e+18 2.46091538e+01]\n",
      " [1.51061760e+18 2.46258567e+01]\n",
      " [1.51070400e+18 2.46425949e+01]\n",
      " [1.51079040e+18 2.46593672e+01]\n",
      " [1.51087680e+18 2.46761723e+01]\n",
      " [1.51096320e+18 2.46930089e+01]\n",
      " [1.51104960e+18 2.47098753e+01]\n",
      " [1.51113600e+18 2.47267697e+01]\n",
      " [1.51122240e+18 2.47436902e+01]\n",
      " [1.51130880e+18 2.47606348e+01]\n",
      " [1.51139520e+18 2.47776011e+01]\n",
      " [1.51148160e+18 2.47945870e+01]\n",
      " [1.51156800e+18 2.48115908e+01]\n",
      " [1.51165440e+18 2.48286110e+01]\n",
      " [1.51174080e+18 2.48456460e+01]\n",
      " [1.51182720e+18 2.48626945e+01]\n",
      " [1.51191360e+18 2.48797550e+01]\n",
      " [1.51200000e+18 2.48968260e+01]\n",
      " [1.51208640e+18 2.49139056e+01]\n",
      " [1.51217280e+18 2.49309925e+01]\n",
      " [1.51225920e+18 2.49480856e+01]\n",
      " [1.51234560e+18 2.49651842e+01]\n",
      " [1.51243200e+18 2.49822876e+01]\n",
      " [1.51251840e+18 2.49993946e+01]\n",
      " [1.51260480e+18 2.50165038e+01]\n",
      " [1.51269120e+18 2.50336138e+01]\n",
      " [1.51277760e+18 2.50507231e+01]\n",
      " [1.51286400e+18 2.50678306e+01]\n",
      " [1.51295040e+18 2.50849354e+01]\n",
      " [1.51303680e+18 2.51020364e+01]\n",
      " [1.51312320e+18 2.51191327e+01]\n",
      " [1.51320960e+18 2.51362237e+01]\n",
      " [1.51329600e+18 2.51533088e+01]\n",
      " [1.51338240e+18 2.51703875e+01]\n",
      " [1.51346880e+18 2.51874598e+01]\n",
      " [1.51355520e+18 2.52045252e+01]\n",
      " [1.51364160e+18 2.52215835e+01]\n",
      " [1.51372800e+18 2.52386347e+01]\n",
      " [1.51381440e+18 2.52556788e+01]\n",
      " [1.51390080e+18 2.52727160e+01]\n",
      " [1.51398720e+18 2.52897462e+01]\n",
      " [1.51407360e+18 2.53067693e+01]\n",
      " [1.51416000e+18 2.53237852e+01]\n",
      " [1.51424640e+18 2.53407935e+01]\n",
      " [1.51433280e+18 2.53577938e+01]\n",
      " [1.51441920e+18 2.53747859e+01]\n",
      " [1.51450560e+18 2.53917698e+01]\n",
      " [1.51459200e+18 2.54087460e+01]\n",
      " [1.51467840e+18 2.54257145e+01]]\n"
     ]
    },
    {
     "data": {
      "image/png": "[encoded data removed]",
      "text/plain": [
       "<Figure size 720x504 with 1 Axes>"
      ]
     },
     "metadata": {},
     "output_type": "display_data"
    }
   ],
   "source": [
    "plot_weather_feature_time_series(project_name, s, f)"
   ]
  },
  {
   "cell_type": "markdown",
   "metadata": {
    "collapsed": true
   },
   "source": [
    "#### NOAA Weather Boxplots"
   ]
  },
  {
   "cell_type": "code",
   "execution_count": 22,
   "metadata": {
    "collapsed": true
   },
   "outputs": [],
   "source": [
    "all_weather_df = pickle.load(open(\"C:/Users/Jonas/Desktop/GE_Capstone/Data/all_weather_df.pickle\", \"rb\"))\n",
    "all_weather_df = all_weather_df.reset_index()\n",
    "all_weather_df[\"project_station\"] = all_weather_df[\"project\"] + all_weather_df[\"station\"]\n",
    "project_dict = pickle.load(open(\"./data/project_dict.pickle\", \"rb\"))"
   ]
  },
  {
   "cell_type": "code",
   "execution_count": 23,
   "metadata": {},
   "outputs": [
    {
     "name": "stdout",
     "output_type": "stream",
     "text": [
      "Unique Projects: 396\n",
      "Unique Stations: 277\n",
      "Unique Project Stations: 766\n"
     ]
    }
   ],
   "source": [
    "print(\"Unique Projects:\", len(all_weather_df[\"project\"].unique()))\n",
    "print(\"Unique Stations:\", len(all_weather_df[\"station\"].unique()))\n",
    "print(\"Unique Project Stations:\", len(all_weather_df[\"project_station\"].unique()))"
   ]
  },
  {
   "cell_type": "code",
   "execution_count": 24,
   "metadata": {
    "collapsed": true
   },
   "outputs": [],
   "source": [
    "feature = \"AWND\"\n",
    "sample_size = 10\n",
    "random_sample_stations_array = np.empty(shape=(0,2))\n",
    "random_sample_stations_list = []"
   ]
  },
  {
   "cell_type": "code",
   "execution_count": 25,
   "metadata": {
    "collapsed": true
   },
   "outputs": [],
   "source": [
    "base_directory = \"./data/weather/projects/\"\n",
    "while len(random_sample_stations_list) < sample_size:\n",
    "    rand_project = random.choice(list(project_dict.keys()))\n",
    "    rand_station = random.choice(project_dict[rand_project])\n",
    "    if (feature + \"_2017-01-01_2017-12-31.csv\" in os.listdir(base_directory + rand_project + \"/\" + rand_station + \"/\")) and \\\n",
    "    (rand_station not in list(random_sample_stations_array[:,1])):\n",
    "        random_sample_stations_array = np.append(random_sample_stations_array, np.array([[rand_project, rand_station]]), axis=0)\n",
    "        random_sample_stations_list.append(rand_project + rand_station)"
   ]
  },
  {
   "cell_type": "code",
   "execution_count": 26,
   "metadata": {
    "scrolled": true
   },
   "outputs": [
    {
     "name": "stdout",
     "output_type": "stream",
     "text": [
      "[['Balko Wind' 'GHCND_USW00003030']\n",
      " ['Golden Acorn Casino' 'GHCND_USW00003178']\n",
      " ['Fossil Gulch Wind Park (Hagerman)' 'GHCND_USW00094178']\n",
      " ['Cumberland Rose' 'GHCND_USW00014933']\n",
      " ['Oliver III' 'GHCND_USW00024011']\n",
      " ['Tuscola Bay Wind' 'GHCND_USW00014845']\n",
      " ['Pilgrim Stage Station' 'GHCND_USW00004110']\n",
      " ['Whitewater Hill' 'GHCND_USW00093138']\n",
      " ['Hereford 1' 'GHCND_USW00023047']\n",
      " ['Wake' 'GHCND_USW00023042']]\n"
     ]
    }
   ],
   "source": [
    "print(random_sample_stations_array)"
   ]
  },
  {
   "cell_type": "code",
   "execution_count": 27,
   "metadata": {},
   "outputs": [
    {
     "name": "stdout",
     "output_type": "stream",
     "text": [
      "<class 'pandas.core.frame.DataFrame'>\n",
      "Int64Index: 3640 entries, 59252 to 1084111\n",
      "Data columns (total 15 columns):\n",
      "index                   3640 non-null int64\n",
      "attributes              3640 non-null object\n",
      "datatype                3640 non-null object\n",
      "date                    3640 non-null object\n",
      "station                 3640 non-null object\n",
      "value                   3640 non-null float64\n",
      "project                 3640 non-null object\n",
      "location                3640 non-null object\n",
      "station_lat             3640 non-null float64\n",
      "station_long            3640 non-null float64\n",
      "project_lat_mean        3640 non-null float64\n",
      "project_long_mean       3640 non-null float64\n",
      "distance_from_center    3640 non-null float64\n",
      "square_diagonal         3640 non-null float64\n",
      "project_station         3640 non-null object\n",
      "dtypes: float64(7), int64(1), object(7)\n",
      "memory usage: 455.0+ KB\n",
      "None\n"
     ]
    }
   ],
   "source": [
    "sampled_stations_df = all_weather_df[all_weather_df[\"project_station\"].isin(random_sample_stations_list)]\n",
    "sampled_stations_df = sampled_stations_df[sampled_stations_df[\"datatype\"] == feature]                               \n",
    "print(sampled_stations_df.info())"
   ]
  },
  {
   "cell_type": "code",
   "execution_count": 28,
   "metadata": {},
   "outputs": [
    {
     "data": {
      "text/plain": [
       "0                          AMARILLO AIRPORT, TX US\n",
       "5             LUBBOCK INTERNATIONAL AIRPORT, TX US\n",
       "3                  GUYMON MUNICIPAL AIRPORT, OK US\n",
       "9    TWIN FALLS SUN VALLEY REGIONAL AIRPORT, ID US\n",
       "2          DES MOINES INTERNATIONAL AIRPORT, IA US\n",
       "7         SAGINAW MBS INTERNATIONAL AIRPORT, MI US\n",
       "4                         JEROME CO AIRPORT, ID US\n",
       "1                BISMARCK MUNICIPAL AIRPORT, ND US\n",
       "6                         PALM SPRINGS ASOS, CA US\n",
       "8                     SAN DIEGO BROWN FIELD, CA US\n",
       "Name: location, dtype: object"
      ]
     },
     "execution_count": 28,
     "metadata": {},
     "output_type": "execute_result"
    }
   ],
   "source": [
    "median_by_location = sampled_stations_df.groupby(\"location\")[\"value\"].median().reset_index()\n",
    "median_by_location = median_by_location.sort_values(\"value\", ascending=False)\n",
    "median_by_location[\"location\"]"
   ]
  },
  {
   "cell_type": "code",
   "execution_count": 34,
   "metadata": {},
   "outputs": [
    {
     "data": {
      "text/plain": [
       "Text(0.5,1,'Location by AWND')"
      ]
     },
     "execution_count": 34,
     "metadata": {},
     "output_type": "execute_result"
    },
    {
     "data": {
      "image/png": "[encoded data removed]",
      "text/plain": [
       "<Figure size 720x504 with 1 Axes>"
      ]
     },
     "metadata": {},
     "output_type": "display_data"
    }
   ],
   "source": [
    "fig = plt.figure(figsize=(10,7))\n",
    "ax = sns.boxplot(x=\"value\", y=\"location\", data=sampled_stations_df, order=median_by_location[\"location\"])\n",
    "ax.set_title(\"Location by \" + feature)"
   ]
  },
  {
   "cell_type": "code",
   "execution_count": null,
   "metadata": {
    "collapsed": true
   },
   "outputs": [],
   "source": []
  }
 ],
 "metadata": {
  "kernelspec": {
   "display_name": "Python 3",
   "language": "python",
   "name": "python3"
  },
  "language_info": {
   "codemirror_mode": {
    "name": "ipython",
    "version": 3
   },
   "file_extension": ".py",
   "mimetype": "text/x-python",
   "name": "python",
   "nbconvert_exporter": "python",
   "pygments_lexer": "ipython3",
   "version": "3.6.1"
  }
 },
 "nbformat": 4,
 "nbformat_minor": 2
}
