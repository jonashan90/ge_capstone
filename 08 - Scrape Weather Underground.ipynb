{
 "cells": [
  {
   "cell_type": "markdown",
   "metadata": {},
   "source": [
    "## Scraping Hourly Weather Data from Weather Underground to test the power readings models\n",
    "### *This notebook scrapes weather underground data, for initial test purposes*"
   ]
  },
  {
   "cell_type": "code",
   "execution_count": 60,
   "metadata": {},
   "outputs": [],
   "source": [
    "import requests\n",
    "import pandas as pd"
   ]
  },
  {
   "cell_type": "code",
   "execution_count": 61,
   "metadata": {},
   "outputs": [],
   "source": [
    "url = \"https://api.weather.com/v1/geocode/35.05916595/-118.15166473/observations/historical.json?apiKey=6532d6454b8aa370768e63d6ba5a832e&startDate=20160101&endDate=20160131&units=e\"\n",
    "r = requests.get(url).json()\n",
    "jan = pd.DataFrame(r['observations'])"
   ]
  },
  {
   "cell_type": "code",
   "execution_count": 62,
   "metadata": {},
   "outputs": [],
   "source": [
    "url = \"https://api.weather.com/v1/geocode/35.05916595/-118.15166473/observations/historical.json?apiKey=6532d6454b8aa370768e63d6ba5a832e&startDate=20160201&endDate=20160229&units=e\"\n",
    "r = requests.get(url).json()\n",
    "feb = pd.DataFrame(r['observations'])"
   ]
  },
  {
   "cell_type": "code",
   "execution_count": 63,
   "metadata": {},
   "outputs": [],
   "source": [
    "url = \"https://api.weather.com/v1/geocode/35.05916595/-118.15166473/observations/historical.json?apiKey=6532d6454b8aa370768e63d6ba5a832e&startDate=20160301&endDate=20160331&units=e\"\n",
    "r = requests.get(url).json()\n",
    "mar = pd.DataFrame(r['observations'])"
   ]
  },
  {
   "cell_type": "code",
   "execution_count": 64,
   "metadata": {},
   "outputs": [],
   "source": [
    "url = \"https://api.weather.com/v1/geocode/35.05916595/-118.15166473/observations/historical.json?apiKey=6532d6454b8aa370768e63d6ba5a832e&startDate=20160401&endDate=20160430&units=e\"\n",
    "r = requests.get(url).json()\n",
    "apr = pd.DataFrame(r['observations'])"
   ]
  },
  {
   "cell_type": "code",
   "execution_count": 65,
   "metadata": {},
   "outputs": [],
   "source": [
    "url = \"https://api.weather.com/v1/geocode/35.05916595/-118.15166473/observations/historical.json?apiKey=6532d6454b8aa370768e63d6ba5a832e&startDate=20160501&endDate=20160531&units=e\"\n",
    "r = requests.get(url).json()\n",
    "may = pd.DataFrame(r['observations'])"
   ]
  },
  {
   "cell_type": "code",
   "execution_count": 66,
   "metadata": {},
   "outputs": [],
   "source": [
    "url = \"https://api.weather.com/v1/geocode/35.05916595/-118.15166473/observations/historical.json?apiKey=6532d6454b8aa370768e63d6ba5a832e&startDate=20160601&endDate=20160630&units=e\"\n",
    "r = requests.get(url).json()\n",
    "jun = pd.DataFrame(r['observations'])"
   ]
  },
  {
   "cell_type": "code",
   "execution_count": 67,
   "metadata": {},
   "outputs": [
    {
     "name": "stdout",
     "output_type": "stream",
     "text": [
      "Jan:  (2230, 45)\n",
      "Feb:  (1057, 45)\n",
      "Mar:  (1231, 45)\n",
      "Apr:  (1257, 45)\n",
      "May:  (1192, 45)\n",
      "Jun:  (2052, 45)\n"
     ]
    }
   ],
   "source": [
    "print('Jan: ', jan.shape)\n",
    "print('Feb: ', feb.shape)\n",
    "print('Mar: ', mar.shape)\n",
    "print('Apr: ', apr.shape)\n",
    "print('May: ', may.shape)\n",
    "print('Jun: ', jun.shape)"
   ]
  },
  {
   "cell_type": "code",
   "execution_count": 70,
   "metadata": {},
   "outputs": [],
   "source": [
    "total_output = pd.concat([jan, feb, mar, apr, may, jun])\n",
    "total_output.to_csv('hourly_weather_data.csv', index = False)"
   ]
  },
  {
   "cell_type": "code",
   "execution_count": null,
   "metadata": {},
   "outputs": [],
   "source": []
  }
 ],
 "metadata": {
  "kernelspec": {
   "display_name": "Python 3",
   "language": "python",
   "name": "python3"
  },
  "language_info": {
   "codemirror_mode": {
    "name": "ipython",
    "version": 3
   },
   "file_extension": ".py",
   "mimetype": "text/x-python",
   "name": "python",
   "nbconvert_exporter": "python",
   "pygments_lexer": "ipython3",
   "version": "3.6.5"
  }
 },
 "nbformat": 4,
 "nbformat_minor": 2
}
