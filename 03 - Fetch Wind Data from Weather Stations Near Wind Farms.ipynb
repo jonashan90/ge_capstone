{
 "cells": [
  {
   "cell_type": "markdown",
   "metadata": {},
   "source": [
    "## Fetch Weather Data: From Stations Around the Wind Farms\n",
    "### *This notebook downloads wind data from the NOAA API from the list of stations found in 02 - Fetch Weather Data.ipynb*"
   ]
  },
  {
   "cell_type": "code",
   "execution_count": 12,
   "metadata": {},
   "outputs": [],
   "source": [
    "import requests\n",
    "import json\n",
    "import pandas as pd\n",
    "from pyproj import Proj\n",
    "from shapely.geometry import shape\n",
    "headers = {\"token\": \"xVEIkLnfHyheHhvoheZSxesUerlyrxGN\"}"
   ]
  },
  {
   "cell_type": "markdown",
   "metadata": {},
   "source": [
    "#### Stations\n",
    "* Stations are where the data comes from (for most datasets) and can be considered the smallest granual of location data. \n",
    "* If the desired station is known, all of its data can quickly be viewed."
   ]
  },
  {
   "cell_type": "code",
   "execution_count": 13,
   "metadata": {},
   "outputs": [
    {
     "data": {
      "text/html": [
       "<div>\n",
       "<style scoped>\n",
       "    .dataframe tbody tr th:only-of-type {\n",
       "        vertical-align: middle;\n",
       "    }\n",
       "\n",
       "    .dataframe tbody tr th {\n",
       "        vertical-align: top;\n",
       "    }\n",
       "\n",
       "    .dataframe thead th {\n",
       "        text-align: right;\n",
       "    }\n",
       "</style>\n",
       "<table border=\"1\" class=\"dataframe\">\n",
       "  <thead>\n",
       "    <tr style=\"text-align: right;\">\n",
       "      <th></th>\n",
       "      <th>index</th>\n",
       "      <th>datacoverage</th>\n",
       "      <th>elevation</th>\n",
       "      <th>elevationUnit</th>\n",
       "      <th>id</th>\n",
       "      <th>latitude</th>\n",
       "      <th>longitude</th>\n",
       "      <th>maxdate</th>\n",
       "      <th>mindate</th>\n",
       "      <th>name</th>\n",
       "      <th>square_diagonal</th>\n",
       "      <th>query_count</th>\n",
       "      <th>final_area</th>\n",
       "      <th>query_long</th>\n",
       "      <th>query_lat</th>\n",
       "      <th>dist_from_center</th>\n",
       "      <th>p_name</th>\n",
       "    </tr>\n",
       "  </thead>\n",
       "  <tbody>\n",
       "    <tr>\n",
       "      <th>0</th>\n",
       "      <td>3</td>\n",
       "      <td>0.9995</td>\n",
       "      <td>304.8</td>\n",
       "      <td>METERS</td>\n",
       "      <td>GHCND:USW00013969</td>\n",
       "      <td>36.73667</td>\n",
       "      <td>-97.10194</td>\n",
       "      <td>2018-10-10</td>\n",
       "      <td>1948-01-01</td>\n",
       "      <td>PONCA CITY MUNICIPAL AIRPORT, OK US</td>\n",
       "      <td>2.139864</td>\n",
       "      <td>14</td>\n",
       "      <td>2.274177e+10</td>\n",
       "      <td>-97.306297</td>\n",
       "      <td>36.572365</td>\n",
       "      <td>0.262218</td>\n",
       "      <td>Thunder Ranch</td>\n",
       "    </tr>\n",
       "    <tr>\n",
       "      <th>1</th>\n",
       "      <td>1</td>\n",
       "      <td>0.9871</td>\n",
       "      <td>299.9</td>\n",
       "      <td>METERS</td>\n",
       "      <td>GHCND:USW00003965</td>\n",
       "      <td>36.16240</td>\n",
       "      <td>-97.08940</td>\n",
       "      <td>2018-10-10</td>\n",
       "      <td>1996-11-01</td>\n",
       "      <td>STILLWATER REGIONAL AIRPORT, OK US</td>\n",
       "      <td>2.139864</td>\n",
       "      <td>14</td>\n",
       "      <td>2.274177e+10</td>\n",
       "      <td>-97.306297</td>\n",
       "      <td>36.572365</td>\n",
       "      <td>0.463805</td>\n",
       "      <td>Thunder Ranch</td>\n",
       "    </tr>\n",
       "    <tr>\n",
       "      <th>2</th>\n",
       "      <td>0</td>\n",
       "      <td>0.9675</td>\n",
       "      <td>272.8</td>\n",
       "      <td>METERS</td>\n",
       "      <td>GHCND:USC00348501</td>\n",
       "      <td>36.11750</td>\n",
       "      <td>-97.09500</td>\n",
       "      <td>2018-10-11</td>\n",
       "      <td>1893-01-01</td>\n",
       "      <td>STILLWATER 2 W, OK US</td>\n",
       "      <td>2.139864</td>\n",
       "      <td>14</td>\n",
       "      <td>2.274177e+10</td>\n",
       "      <td>-97.306297</td>\n",
       "      <td>36.572365</td>\n",
       "      <td>0.501546</td>\n",
       "      <td>Thunder Ranch</td>\n",
       "    </tr>\n",
       "  </tbody>\n",
       "</table>\n",
       "</div>"
      ],
      "text/plain": [
       "   index  datacoverage  elevation elevationUnit                 id  latitude  \\\n",
       "0      3        0.9995      304.8        METERS  GHCND:USW00013969  36.73667   \n",
       "1      1        0.9871      299.9        METERS  GHCND:USW00003965  36.16240   \n",
       "2      0        0.9675      272.8        METERS  GHCND:USC00348501  36.11750   \n",
       "\n",
       "   longitude     maxdate     mindate                                 name  \\\n",
       "0  -97.10194  2018-10-10  1948-01-01  PONCA CITY MUNICIPAL AIRPORT, OK US   \n",
       "1  -97.08940  2018-10-10  1996-11-01   STILLWATER REGIONAL AIRPORT, OK US   \n",
       "2  -97.09500  2018-10-11  1893-01-01                STILLWATER 2 W, OK US   \n",
       "\n",
       "   square_diagonal  query_count    final_area  query_long  query_lat  \\\n",
       "0         2.139864           14  2.274177e+10  -97.306297  36.572365   \n",
       "1         2.139864           14  2.274177e+10  -97.306297  36.572365   \n",
       "2         2.139864           14  2.274177e+10  -97.306297  36.572365   \n",
       "\n",
       "   dist_from_center         p_name  \n",
       "0          0.262218  Thunder Ranch  \n",
       "1          0.463805  Thunder Ranch  \n",
       "2          0.501546  Thunder Ranch  "
      ]
     },
     "execution_count": 13,
     "metadata": {},
     "output_type": "execute_result"
    }
   ],
   "source": [
    "# read all project stations fetched from the NOAA API\n",
    "all_project_stations = pd.read_csv('./data/01_all_project_stations.csv')\n",
    "all_project_stations.head()"
   ]
  },
  {
   "cell_type": "markdown",
   "metadata": {},
   "source": [
    "#### Get the dataypes for wind which we will be downloading the wind data"
   ]
  },
  {
   "cell_type": "code",
   "execution_count": 36,
   "metadata": {},
   "outputs": [],
   "source": [
    "url = \"https://www.ncdc.noaa.gov/cdo-web/api/v2/datatypes?datacategoryid=WIND&limit=56\"\n",
    "response = requests.get(url=url, headers=headers)\n",
    "noaa_wind_data_types_json = response.json()\n",
    "noaa_wind_data_types_df = pd.DataFrame(noaa_wind_data_types_json['results'])\n",
    "wind_data_types = noaa_wind_data_types_df.id"
   ]
  },
  {
   "cell_type": "code",
   "execution_count": 37,
   "metadata": {},
   "outputs": [
    {
     "data": {
      "text/plain": [
       "27"
      ]
     },
     "execution_count": 37,
     "metadata": {},
     "output_type": "execute_result"
    }
   ],
   "source": [
    "len(wind_data_types)"
   ]
  },
  {
   "cell_type": "code",
   "execution_count": 16,
   "metadata": {},
   "outputs": [],
   "source": [
    "#parameters for weather query\n",
    "datasetid='GHCND'\n",
    "datatypeid=\"AWND\"\n",
    "stationid='GHCND:USW00013969'\n",
    "units='standard'\n",
    "startdate='2017-01-01'\n",
    "enddate='2017-12-31'\n",
    "limit = 365"
   ]
  },
  {
   "cell_type": "code",
   "execution_count": 17,
   "metadata": {},
   "outputs": [],
   "source": [
    "def get_wind_data_daily_summary(stationid, datatypeid, units = 'standard', startdate = '2017-01-01', enddate='2017-12-31', limit =365, offset = 25):\n",
    "    url = \"https://www.ncdc.noaa.gov/cdo-web/api/v2/data?datasetid=GHCND&datatypeid=\" +\\\n",
    "    datatypeid + \"&stationid=\" + stationid + \"&units=\" + units + \"&startdate=\" + startdate +\\\n",
    "    \"&enddate=\" + enddate + \"&limit=\" + str(limit)\n",
    "    response = requests.get(url=url, headers=headers)\n",
    "    station_weather_report_json = response.json()\n",
    "    station_weather_report_df = pd.DataFrame(station_weather_report_json['results'])\n",
    "    return(station_weather_report_df)"
   ]
  },
  {
   "cell_type": "code",
   "execution_count": 39,
   "metadata": {},
   "outputs": [
    {
     "data": {
      "text/html": [
       "<div>\n",
       "<style scoped>\n",
       "    .dataframe tbody tr th:only-of-type {\n",
       "        vertical-align: middle;\n",
       "    }\n",
       "\n",
       "    .dataframe tbody tr th {\n",
       "        vertical-align: top;\n",
       "    }\n",
       "\n",
       "    .dataframe thead th {\n",
       "        text-align: right;\n",
       "    }\n",
       "</style>\n",
       "<table border=\"1\" class=\"dataframe\">\n",
       "  <thead>\n",
       "    <tr style=\"text-align: right;\">\n",
       "      <th></th>\n",
       "      <th>index</th>\n",
       "      <th>datacoverage</th>\n",
       "      <th>elevation</th>\n",
       "      <th>elevationUnit</th>\n",
       "      <th>id</th>\n",
       "      <th>latitude</th>\n",
       "      <th>longitude</th>\n",
       "      <th>maxdate</th>\n",
       "      <th>mindate</th>\n",
       "      <th>name</th>\n",
       "      <th>square_diagonal</th>\n",
       "      <th>query_count</th>\n",
       "      <th>final_area</th>\n",
       "      <th>query_long</th>\n",
       "      <th>query_lat</th>\n",
       "      <th>dist_from_center</th>\n",
       "      <th>p_name</th>\n",
       "    </tr>\n",
       "  </thead>\n",
       "  <tbody>\n",
       "    <tr>\n",
       "      <th>0</th>\n",
       "      <td>3</td>\n",
       "      <td>0.9995</td>\n",
       "      <td>304.8</td>\n",
       "      <td>METERS</td>\n",
       "      <td>GHCND:USW00013969</td>\n",
       "      <td>36.73667</td>\n",
       "      <td>-97.10194</td>\n",
       "      <td>2018-10-10</td>\n",
       "      <td>1948-01-01</td>\n",
       "      <td>PONCA CITY MUNICIPAL AIRPORT, OK US</td>\n",
       "      <td>2.139864</td>\n",
       "      <td>14</td>\n",
       "      <td>2.274177e+10</td>\n",
       "      <td>-97.306297</td>\n",
       "      <td>36.572365</td>\n",
       "      <td>0.262218</td>\n",
       "      <td>Thunder Ranch</td>\n",
       "    </tr>\n",
       "    <tr>\n",
       "      <th>1</th>\n",
       "      <td>1</td>\n",
       "      <td>0.9871</td>\n",
       "      <td>299.9</td>\n",
       "      <td>METERS</td>\n",
       "      <td>GHCND:USW00003965</td>\n",
       "      <td>36.16240</td>\n",
       "      <td>-97.08940</td>\n",
       "      <td>2018-10-10</td>\n",
       "      <td>1996-11-01</td>\n",
       "      <td>STILLWATER REGIONAL AIRPORT, OK US</td>\n",
       "      <td>2.139864</td>\n",
       "      <td>14</td>\n",
       "      <td>2.274177e+10</td>\n",
       "      <td>-97.306297</td>\n",
       "      <td>36.572365</td>\n",
       "      <td>0.463805</td>\n",
       "      <td>Thunder Ranch</td>\n",
       "    </tr>\n",
       "    <tr>\n",
       "      <th>2</th>\n",
       "      <td>0</td>\n",
       "      <td>0.9675</td>\n",
       "      <td>272.8</td>\n",
       "      <td>METERS</td>\n",
       "      <td>GHCND:USC00348501</td>\n",
       "      <td>36.11750</td>\n",
       "      <td>-97.09500</td>\n",
       "      <td>2018-10-11</td>\n",
       "      <td>1893-01-01</td>\n",
       "      <td>STILLWATER 2 W, OK US</td>\n",
       "      <td>2.139864</td>\n",
       "      <td>14</td>\n",
       "      <td>2.274177e+10</td>\n",
       "      <td>-97.306297</td>\n",
       "      <td>36.572365</td>\n",
       "      <td>0.501546</td>\n",
       "      <td>Thunder Ranch</td>\n",
       "    </tr>\n",
       "  </tbody>\n",
       "</table>\n",
       "</div>"
      ],
      "text/plain": [
       "   index  datacoverage  elevation elevationUnit                 id  latitude  \\\n",
       "0      3        0.9995      304.8        METERS  GHCND:USW00013969  36.73667   \n",
       "1      1        0.9871      299.9        METERS  GHCND:USW00003965  36.16240   \n",
       "2      0        0.9675      272.8        METERS  GHCND:USC00348501  36.11750   \n",
       "\n",
       "   longitude     maxdate     mindate                                 name  \\\n",
       "0  -97.10194  2018-10-10  1948-01-01  PONCA CITY MUNICIPAL AIRPORT, OK US   \n",
       "1  -97.08940  2018-10-10  1996-11-01   STILLWATER REGIONAL AIRPORT, OK US   \n",
       "2  -97.09500  2018-10-11  1893-01-01                STILLWATER 2 W, OK US   \n",
       "\n",
       "   square_diagonal  query_count    final_area  query_long  query_lat  \\\n",
       "0         2.139864           14  2.274177e+10  -97.306297  36.572365   \n",
       "1         2.139864           14  2.274177e+10  -97.306297  36.572365   \n",
       "2         2.139864           14  2.274177e+10  -97.306297  36.572365   \n",
       "\n",
       "   dist_from_center         p_name  \n",
       "0          0.262218  Thunder Ranch  \n",
       "1          0.463805  Thunder Ranch  \n",
       "2          0.501546  Thunder Ranch  "
      ]
     },
     "execution_count": 39,
     "metadata": {},
     "output_type": "execute_result"
    }
   ],
   "source": [
    "all_project_stations.head()"
   ]
  },
  {
   "cell_type": "code",
   "execution_count": null,
   "metadata": {},
   "outputs": [],
   "source": [
    "import os\n",
    "for index, row in all_project_stations.iterrows():\n",
    "    stationid = row['id']\n",
    "    stationid_dir_name = stationid.replace(\":\", \"_\")\n",
    "    os.mkdir('./data/weather/2017/' + stationid_dir_name)\n",
    "    failed_datatypes = []\n",
    "    for w in wind_data_types:\n",
    "        try:\n",
    "            downloaded_data = get_wind_data_daily_summary(stationid, w, units = 'standard', startdate = '2017-01-01', enddate='2017-12-31', limit =365)\n",
    "            file_path = './data/weather/2017/' + stationid_dir_name + '/' + w\n",
    "            downloaded_data.to_csv(file_path, index=False)\n",
    "        except:\n",
    "            failed_datatypes.append(w)\n",
    "    break"
   ]
  },
  {
   "cell_type": "code",
   "execution_count": 8,
   "metadata": {},
   "outputs": [],
   "source": [
    "failed_datatypes = []\n",
    "for w in wind_data_types:\n",
    "    try:\n",
    "        downloaded_data = get_wind_data_daily_summary(stationid, w, units = 'standard', startdate = '2017-01-01', enddate='2017-12-31', limit =365)\n",
    "        file_path = './data/weather/2017/' + w\n",
    "        downloaded_data.to_csv(file_path, index=False)\n",
    "    except:\n",
    "        failed_datatypes.append(w)"
   ]
  },
  {
   "cell_type": "code",
   "execution_count": 9,
   "metadata": {},
   "outputs": [
    {
     "data": {
      "text/plain": [
       "['DAWM',\n",
       " 'FMTM',\n",
       " 'HLY-WIND-1STDIR',\n",
       " 'HLY-WIND-1STPCT',\n",
       " 'HLY-WIND-2NDDIR',\n",
       " 'HLY-WIND-2NDPCT',\n",
       " 'HLY-WIND-AVGSPD',\n",
       " 'HLY-WIND-PCTCLM',\n",
       " 'HLY-WIND-VCTDIR',\n",
       " 'HLY-WIND-VCTSPD',\n",
       " 'MDWM',\n",
       " 'TWND',\n",
       " 'WDF1',\n",
       " 'WDFG',\n",
       " 'WDFI',\n",
       " 'WDFM',\n",
       " 'WDMV',\n",
       " 'WSF1',\n",
       " 'WSFG',\n",
       " 'WSFI',\n",
       " 'WSFM']"
      ]
     },
     "execution_count": 9,
     "metadata": {},
     "output_type": "execute_result"
    }
   ],
   "source": [
    "failed_datatypes"
   ]
  },
  {
   "cell_type": "code",
   "execution_count": 18,
   "metadata": {},
   "outputs": [
    {
     "ename": "KeyError",
     "evalue": "'results'",
     "output_type": "error",
     "traceback": [
      "\u001b[0;31m---------------------------------------------------------------------------\u001b[0m",
      "\u001b[0;31mKeyError\u001b[0m                                  Traceback (most recent call last)",
      "\u001b[0;32m<ipython-input-18-99dd12573887>\u001b[0m in \u001b[0;36m<module>\u001b[0;34m()\u001b[0m\n\u001b[1;32m      1\u001b[0m \u001b[0mw\u001b[0m \u001b[0;34m=\u001b[0m \u001b[0;34m'DAWM'\u001b[0m\u001b[0;34m\u001b[0m\u001b[0m\n\u001b[0;32m----> 2\u001b[0;31m \u001b[0mdownloaded_data\u001b[0m \u001b[0;34m=\u001b[0m \u001b[0mget_wind_data_daily_summary\u001b[0m\u001b[0;34m(\u001b[0m\u001b[0mstationid\u001b[0m\u001b[0;34m,\u001b[0m \u001b[0mw\u001b[0m\u001b[0;34m,\u001b[0m \u001b[0munits\u001b[0m \u001b[0;34m=\u001b[0m \u001b[0;34m'standard'\u001b[0m\u001b[0;34m,\u001b[0m \u001b[0mstartdate\u001b[0m \u001b[0;34m=\u001b[0m \u001b[0;34m'2017-01-01'\u001b[0m\u001b[0;34m,\u001b[0m \u001b[0menddate\u001b[0m\u001b[0;34m=\u001b[0m\u001b[0;34m'2017-12-31'\u001b[0m\u001b[0;34m,\u001b[0m \u001b[0mlimit\u001b[0m \u001b[0;34m=\u001b[0m\u001b[0;36m365\u001b[0m\u001b[0;34m)\u001b[0m\u001b[0;34m\u001b[0m\u001b[0m\n\u001b[0m",
      "\u001b[0;32m<ipython-input-17-0e872a759bfd>\u001b[0m in \u001b[0;36mget_wind_data_daily_summary\u001b[0;34m(stationid, datatypeid, units, startdate, enddate, limit, offset)\u001b[0m\n\u001b[1;32m      3\u001b[0m     \u001b[0mresponse\u001b[0m \u001b[0;34m=\u001b[0m \u001b[0mrequests\u001b[0m\u001b[0;34m.\u001b[0m\u001b[0mget\u001b[0m\u001b[0;34m(\u001b[0m\u001b[0murl\u001b[0m\u001b[0;34m=\u001b[0m\u001b[0murl\u001b[0m\u001b[0;34m,\u001b[0m \u001b[0mheaders\u001b[0m\u001b[0;34m=\u001b[0m\u001b[0mheaders\u001b[0m\u001b[0;34m)\u001b[0m\u001b[0;34m\u001b[0m\u001b[0m\n\u001b[1;32m      4\u001b[0m     \u001b[0mstation_weather_report_json\u001b[0m \u001b[0;34m=\u001b[0m \u001b[0mresponse\u001b[0m\u001b[0;34m.\u001b[0m\u001b[0mjson\u001b[0m\u001b[0;34m(\u001b[0m\u001b[0;34m)\u001b[0m\u001b[0;34m\u001b[0m\u001b[0m\n\u001b[0;32m----> 5\u001b[0;31m     \u001b[0mstation_weather_report_df\u001b[0m \u001b[0;34m=\u001b[0m \u001b[0mpd\u001b[0m\u001b[0;34m.\u001b[0m\u001b[0mDataFrame\u001b[0m\u001b[0;34m(\u001b[0m\u001b[0mstation_weather_report_json\u001b[0m\u001b[0;34m[\u001b[0m\u001b[0;34m'results'\u001b[0m\u001b[0;34m]\u001b[0m\u001b[0;34m)\u001b[0m\u001b[0;34m\u001b[0m\u001b[0m\n\u001b[0m\u001b[1;32m      6\u001b[0m     \u001b[0;32mreturn\u001b[0m\u001b[0;34m(\u001b[0m\u001b[0mstation_weather_report_df\u001b[0m\u001b[0;34m)\u001b[0m\u001b[0;34m\u001b[0m\u001b[0m\n",
      "\u001b[0;31mKeyError\u001b[0m: 'results'"
     ]
    }
   ],
   "source": [
    "datasetid = 'DAWM'\n",
    "downloaded_data = get_wind_data_daily_summary(stationid, w, units = 'standard', startdate = '2017-01-01', enddate='2017-12-31', limit =365)"
   ]
  },
  {
   "cell_type": "code",
   "execution_count": 34,
   "metadata": {},
   "outputs": [],
   "source": [
    "url = \"https://www.ncdc.noaa.gov/cdo-web/api/v2/data?datasetid=GHCND&datatypeid=\" +\\\n",
    "\"HLY-WIND-1STDIR\" + \"&stationid=\" + stationid + \"&units=\" + units + \"&startdate=\" + startdate +\\\n",
    "\"&enddate=\" + enddate + \"&limit=\" + str(limit)\n",
    "response = requests.get(url=url, headers=headers)\n",
    "station_weather_report_json = response.json()\n",
    "# station_weather_report_df = pd.DataFrame(station_weather_report_json['results'])"
   ]
  },
  {
   "cell_type": "code",
   "execution_count": 35,
   "metadata": {},
   "outputs": [
    {
     "data": {
      "text/plain": [
       "{}"
      ]
     },
     "execution_count": 35,
     "metadata": {},
     "output_type": "execute_result"
    }
   ],
   "source": [
    "station_weather_report_json"
   ]
  },
  {
   "cell_type": "code",
   "execution_count": null,
   "metadata": {},
   "outputs": [],
   "source": []
  }
 ],
 "metadata": {
  "kernelspec": {
   "display_name": "Python 3",
   "language": "python",
   "name": "python3"
  },
  "language_info": {
   "codemirror_mode": {
    "name": "ipython",
    "version": 3
   },
   "file_extension": ".py",
   "mimetype": "text/x-python",
   "name": "python",
   "nbconvert_exporter": "python",
   "pygments_lexer": "ipython3",
   "version": "3.6.5"
  }
 },
 "nbformat": 4,
 "nbformat_minor": 2
}
