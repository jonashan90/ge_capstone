{
 "cells": [
  {
   "cell_type": "markdown",
   "metadata": {},
   "source": [
    "## Fetch Weather Data: API Exploration\n",
    "### *This notebook fetches weather data from two sources: NOAA and Open Weather*"
   ]
  },
  {
   "cell_type": "markdown",
   "metadata": {},
   "source": [
    "#### NOAA API\n",
    "The documentation for the web API for NOAA climate data can be found [here](https://www.ncdc.noaa.gov/cdo-web/webservices/v2)."
   ]
  },
  {
   "cell_type": "code",
   "execution_count": null,
   "metadata": {
    "collapsed": true
   },
   "outputs": [],
   "source": [
    "import requests\n",
    "import json\n",
    "import pandas as pd\n",
    "from pyproj import Proj\n",
    "from shapely.geometry import shape\n",
    "headers = {\"token\": \"xVEIkLnfHyheHhvoheZSxesUerlyrxGN\"}"
   ]
  },
  {
   "cell_type": "markdown",
   "metadata": {},
   "source": [
    "#### All Available Datasets"
   ]
  },
  {
   "cell_type": "code",
   "execution_count": null,
   "metadata": {
    "collapsed": true
   },
   "outputs": [],
   "source": [
    "url = \"https://www.ncdc.noaa.gov/cdo-web/api/v2/datasets\"\n",
    "response = requests.get(url=url, headers=headers)\n",
    "noaa_all_datasets_json = response.json()\n",
    "print(noaa_all_datasets_json[\"metadata\"])\n",
    "noaa_all_datasets_df = pd.DataFrame(noaa_all_datasets_json['results'])\n",
    "noaa_all_datasets_df"
   ]
  },
  {
   "cell_type": "markdown",
   "metadata": {},
   "source": [
    "#### Daily Summaries Dataset"
   ]
  },
  {
   "cell_type": "markdown",
   "metadata": {},
   "source": [
    "* For our purposes, we will be working with daily summaries data.\n",
    "* Fetch all information about the GHCND, Daily Summaries dataset specifically."
   ]
  },
  {
   "cell_type": "code",
   "execution_count": null,
   "metadata": {
    "collapsed": true
   },
   "outputs": [],
   "source": [
    "url = \"https://www.ncdc.noaa.gov/cdo-web/api/v2/datasets/GHCND\"\n",
    "response = requests.get(url=url, headers=headers)\n",
    "noaa_daily_summaries_json = response.json()"
   ]
  },
  {
   "cell_type": "code",
   "execution_count": null,
   "metadata": {
    "collapsed": true
   },
   "outputs": [],
   "source": [
    "print(noaa_daily_summaries_json)"
   ]
  },
  {
   "cell_type": "markdown",
   "metadata": {},
   "source": [
    "#### Datatype Filter"
   ]
  },
  {
   "cell_type": "code",
   "execution_count": null,
   "metadata": {
    "collapsed": true
   },
   "outputs": [],
   "source": [
    "url = \"https://www.ncdc.noaa.gov/cdo-web/api/v2/datasets?datatypeid=TOBS\"\n",
    "response = requests.get(url=url, headers=headers)\n",
    "noaa_tobs_json = response.json()"
   ]
  },
  {
   "cell_type": "code",
   "execution_count": null,
   "metadata": {
    "collapsed": true
   },
   "outputs": [],
   "source": [
    "noaa_tobs_json"
   ]
  },
  {
   "cell_type": "markdown",
   "metadata": {},
   "source": [
    "#### Set of Stations"
   ]
  },
  {
   "cell_type": "code",
   "execution_count": null,
   "metadata": {
    "collapsed": true
   },
   "outputs": [],
   "source": [
    "url = \"https://www.ncdc.noaa.gov/cdo-web/api/v2/datasets?stationid=COOP:310090&stationid=COOP:310184&stationid=COOP:310212\"\n",
    "response = requests.get(url=url, headers=headers)\n",
    "noaa_stations_json = response.json()\n",
    "print(noaa_stations_json)"
   ]
  },
  {
   "cell_type": "markdown",
   "metadata": {},
   "source": [
    "Note: The above example is not working as there is no data available at the given list of stations at this moment."
   ]
  },
  {
   "cell_type": "markdown",
   "metadata": {},
   "source": [
    "#### Data Categories"
   ]
  },
  {
   "cell_type": "code",
   "execution_count": null,
   "metadata": {
    "collapsed": true
   },
   "outputs": [],
   "source": [
    "url = \"https://www.ncdc.noaa.gov/cdo-web/api/v2/datacategories?limit=100\"\n",
    "response = requests.get(url=url, headers=headers)\n",
    "noaa_data_categories_json = response.json()\n",
    "print(noaa_data_categories_json[\"metadata\"])\n",
    "noaa_data_categories_df = pd.DataFrame(noaa_data_categories_json['results'])\n",
    "print(noaa_data_categories_df.shape)\n",
    "noaa_data_categories_df"
   ]
  },
  {
   "cell_type": "markdown",
   "metadata": {},
   "source": [
    "#### WIND Datacategory"
   ]
  },
  {
   "cell_type": "markdown",
   "metadata": {},
   "source": [
    "* We will be taking the WIND data category for our analysis in the preliminary phase.\n",
    "* Fetch all information about the Wind dataset specifically"
   ]
  },
  {
   "cell_type": "code",
   "execution_count": null,
   "metadata": {
    "collapsed": true
   },
   "outputs": [],
   "source": [
    "url = \"https://www.ncdc.noaa.gov/cdo-web/api/v2/datacategories/WIND\"\n",
    "response = requests.get(url=url, headers=headers)\n",
    "noaa_wind_json = response.json()"
   ]
  },
  {
   "cell_type": "code",
   "execution_count": null,
   "metadata": {
    "collapsed": true
   },
   "outputs": [],
   "source": [
    "print(noaa_wind_json)"
   ]
  },
  {
   "cell_type": "markdown",
   "metadata": {},
   "source": [
    "#### Datatypes"
   ]
  },
  {
   "cell_type": "code",
   "execution_count": null,
   "metadata": {
    "collapsed": true
   },
   "outputs": [],
   "source": [
    "url = \"https://www.ncdc.noaa.gov/cdo-web/api/v2/datatypes\"\n",
    "response = requests.get(url=url, headers=headers)\n",
    "noaa_data_types_json = response.json()\n",
    "print(noaa_data_types_json[\"metadata\"])\n",
    "noaa_data_types_df = pd.DataFrame(noaa_data_types_json['results'])\n",
    "print(noaa_data_types_df.shape)\n",
    "noaa_data_types_df"
   ]
  },
  {
   "cell_type": "markdown",
   "metadata": {},
   "source": [
    "#### Datatype in Wind Category"
   ]
  },
  {
   "cell_type": "code",
   "execution_count": null,
   "metadata": {
    "collapsed": true
   },
   "outputs": [],
   "source": [
    "url = \"https://www.ncdc.noaa.gov/cdo-web/api/v2/datatypes?datacategoryid=WIND&limit=56\"\n",
    "response = requests.get(url=url, headers=headers)\n",
    "noaa_wind_data_types_json = response.json()\n",
    "print(noaa_wind_data_types_json[\"metadata\"])\n",
    "noaa_wind_data_types_df = pd.DataFrame(noaa_wind_data_types_json['results'])\n",
    "print(noaa_wind_data_types_df.shape)\n",
    "noaa_wind_data_types_df"
   ]
  },
  {
   "cell_type": "markdown",
   "metadata": {},
   "source": [
    "#### Locations"
   ]
  },
  {
   "cell_type": "code",
   "execution_count": null,
   "metadata": {
    "collapsed": true
   },
   "outputs": [],
   "source": [
    "url = \"https://www.ncdc.noaa.gov/cdo-web/api/v2/locationcategories\"\n",
    "response = requests.get(url=url, headers=headers)\n",
    "noaa_location_categories_json = response.json()\n",
    "print(noaa_location_categories_json[\"metadata\"])\n",
    "noaa_location_categories_df = pd.DataFrame(noaa_location_categories_json['results'])\n",
    "print(noaa_location_categories_df.shape)\n",
    "noaa_location_categories_df"
   ]
  },
  {
   "cell_type": "markdown",
   "metadata": {},
   "source": [
    "#### Location Category: County Level Information"
   ]
  },
  {
   "cell_type": "code",
   "execution_count": null,
   "metadata": {
    "collapsed": true
   },
   "outputs": [],
   "source": [
    "url = \"https://www.ncdc.noaa.gov/cdo-web/api/v2/locationcategories/CNTY\"\n",
    "response = requests.get(url=url, headers=headers)\n",
    "noaa_cnty_json = response.json()"
   ]
  },
  {
   "cell_type": "code",
   "execution_count": null,
   "metadata": {
    "collapsed": true
   },
   "outputs": [],
   "source": [
    "print(noaa_cnty_json)"
   ]
  },
  {
   "cell_type": "markdown",
   "metadata": {},
   "source": [
    "#### Available Locations for Daily Summaries Data"
   ]
  },
  {
   "cell_type": "code",
   "execution_count": null,
   "metadata": {
    "collapsed": true,
    "scrolled": true
   },
   "outputs": [],
   "source": [
    "url = \"https://www.ncdc.noaa.gov/cdo-web/api/v2/locations?datasetid=GHCND\"\n",
    "response = requests.get(url=url, headers=headers)\n",
    "noaa_daily_summaries_locations_json = response.json()\n",
    "print(noaa_daily_summaries_locations_json[\"metadata\"])\n",
    "noaa_daily_summaries_locations_df = pd.DataFrame(noaa_daily_summaries_locations_json['results'])\n",
    "print(noaa_daily_summaries_locations_df.shape)\n",
    "noaa_daily_summaries_locations_df"
   ]
  },
  {
   "cell_type": "markdown",
   "metadata": {},
   "source": [
    "#### Available Stations"
   ]
  },
  {
   "cell_type": "code",
   "execution_count": null,
   "metadata": {
    "collapsed": true
   },
   "outputs": [],
   "source": [
    "#url = \"https://www.ncdc.noaa.gov/cdo-web/api/v2/locations?datasetid=GHCND\"\n",
    "url = \"https://www.ncdc.noaa.gov/cdo-web/api/v2/stations?datasetid=GHCND&datacategoryid=WIND&limit=1000&startdate=2000-01-01&extent=44.3506,-122.3201,46.492,-122.1787\"\n",
    "response = requests.get(url=url, headers=headers)\n",
    "noaa_daily_summaries_locations_json = response.json()\n",
    "print(noaa_daily_summaries_locations_json[\"metadata\"])\n",
    "noaa_daily_summaries_locations_df = pd.DataFrame(noaa_daily_summaries_locations_json['results'])\n",
    "print(noaa_daily_summaries_locations_df.shape)\n",
    "noaa_daily_summaries_locations_df"
   ]
  },
  {
   "cell_type": "markdown",
   "metadata": {},
   "source": [
    "#### Getting Stations for General Electric Project"
   ]
  },
  {
   "cell_type": "code",
   "execution_count": null,
   "metadata": {
    "collapsed": true
   },
   "outputs": [],
   "source": [
    "import numpy as np\n",
    "import time"
   ]
  },
  {
   "cell_type": "code",
   "execution_count": null,
   "metadata": {
    "collapsed": true
   },
   "outputs": [],
   "source": [
    "def get_weather_stations(lat_center, long_center, square_diagonal, top_n = 5):\n",
    "    flag = True\n",
    "    count = 0\n",
    "    while flag:\n",
    "        count += 1\n",
    "        base_url = \"https://www.ncdc.noaa.gov/cdo-web/api/v2/stations?datasetid=GHCND&datacategoryid=WIND&limit=1000&startdate=2000-01-01&extent=\"\n",
    "        epsilon = round(square_diagonal/np.sqrt(2)/2,4)\n",
    "        a = [long_center+epsilon, lat_center+epsilon]\n",
    "        b = [long_center+epsilon, lat_center-epsilon]\n",
    "        c = [long_center-epsilon, lat_center-epsilon]\n",
    "        d = [long_center-epsilon, lat_center+epsilon]\n",
    "        w = (long_center+epsilon, lat_center+epsilon)\n",
    "        x = (long_center+epsilon, lat_center-epsilon)\n",
    "        y = (long_center-epsilon, lat_center-epsilon)\n",
    "        z = (long_center-epsilon, lat_center+epsilon)\n",
    "        url_a = round(lat_center-epsilon,4)\n",
    "        url_b = round(long_center-epsilon,4)\n",
    "        url_c = round(lat_center+epsilon,4)\n",
    "        url_d = round(long_center+epsilon,4)\n",
    "        url = base_url + str(url_a) + \",\" + str(url_b) + \",\" + str(url_c) + \",\" + str(url_d)\n",
    "        response = requests.get(url=url, headers=headers)\n",
    "        all_stations = response.json()\n",
    "        try:\n",
    "            all_stations_results = pd.DataFrame(all_stations['results'])\n",
    "        except:\n",
    "            all_stations_results = pd.DataFrame()\n",
    "        try:\n",
    "            all_stations_meta = all_stations['metadata']\n",
    "        except:\n",
    "            all_stations_meta = None\n",
    "        n_stations = all_stations_results.shape[0]\n",
    "        if n_stations >= top_n:\n",
    "            print('Summary of Request: ')\n",
    "            print(all_stations_meta)\n",
    "            print('- . - . - . -')\n",
    "            n_stations = all_stations_results.shape[0]\n",
    "            {\"type\": \"Polygon\", \n",
    "             \"coordinates\": [[\n",
    "               a, b, c, d\n",
    "             ]]}\n",
    "            co = {\"type\": \"Polygon\", \"coordinates\": [\n",
    "                [w, x, y, z]]}\n",
    "            lon, lat = zip(*co['coordinates'][0])\n",
    "            pa = Proj(\"+proj=aea +lat_1=37.0 +lat_2=41.0 +lat_0=39.0 +lon_0=-106.55\")\n",
    "            x, y = pa(lon, lat)\n",
    "            cop = {\"type\": \"Polygon\", \"coordinates\": [zip(x, y)]}\n",
    "            final_area = shape(cop).area  # 268952044107.43506 square meters\n",
    "            #print('Square Meters Area Queried: ')\n",
    "            #print(final_area)\n",
    "            #print('- . - . - . -')\n",
    "            flag = False\n",
    "            #print('Gathered Sufficient Stations')\n",
    "        else:\n",
    "            #print(square_diagonal)\n",
    "            square_diagonal = square_diagonal*1.2\n",
    "            #print('Increasing Search Area...')\n",
    "        time.sleep(0.25)\n",
    "    all_stations_results['square_diagonal'] = square_diagonal\n",
    "    all_stations_results['query_count'] = count\n",
    "    all_stations_results['final_area'] = final_area\n",
    "    return all_stations_results"
   ]
  },
  {
   "cell_type": "code",
   "execution_count": null,
   "metadata": {
    "collapsed": true
   },
   "outputs": [],
   "source": [
    "#get_weather_stations(lat_center, long_center, square_diagonal = 0.2, top_n = 5)"
   ]
  },
  {
   "cell_type": "markdown",
   "metadata": {},
   "source": [
    "#### Query Stations for GE Projects"
   ]
  },
  {
   "cell_type": "markdown",
   "metadata": {},
   "source": [
    "* This block fetches the center latitudes and longitudes of the projects for General Electric."
   ]
  },
  {
   "cell_type": "code",
   "execution_count": null,
   "metadata": {
    "collapsed": true
   },
   "outputs": [],
   "source": [
    "usgs_data = pd.read_csv('./uswtdbCSV/uswtdb_v1_1_20180710.csv')\n",
    "usgs_ge_data = usgs_data[usgs_data[\"t_manu\"] == \"GE Wind\"]\n",
    "ge_projects_df = pd.pivot_table(usgs_ge_data, values=[\"xlong\", \"ylat\"], columns=\"p_name\", aggfunc=\"mean\").transpose()\n",
    "ge_projects_df.reset_index(inplace=True)\n",
    "ge_projects_df.columns = ['p_name', 'center_long', 'center_lat']\n",
    "ge_projects_df.head()"
   ]
  },
  {
   "cell_type": "markdown",
   "metadata": {},
   "source": [
    "* All GE Projects: Range of the turbine locations"
   ]
  },
  {
   "cell_type": "code",
   "execution_count": null,
   "metadata": {
    "collapsed": true
   },
   "outputs": [],
   "source": [
    "usgs_data = pd.read_csv('./uswtdbCSV/uswtdb_v1_1_20180710.csv')\n",
    "usgs_ge_data = usgs_data[usgs_data[\"t_manu\"] == \"GE Wind\"]\n",
    "usgs_ge_data = usgs_ge_data[(usgs_ge_data[\"case_id\"] != 3064510) & (usgs_ge_data[\"case_id\"] != 3064731)]\n",
    "ge_by_project_df = usgs_ge_data.groupby(\"p_name\")[[\"xlong\", \"ylat\"]].agg([\"min\", \"max\", \"mean\"])\n",
    "ge_by_project_df.reset_index(inplace=True)\n",
    "ge_by_project_df.columns = [\"p_name\", \"long_min\", \"long_max\", \"long_mean\", \"lat_min\", \"lat_max\", \"lat_mean\"]\n",
    "ge_by_project_df[\"long_range\"] = ge_by_project_df[\"long_max\"] - ge_by_project_df[\"long_min\"]\n",
    "ge_by_project_df[\"lat_range\"] = ge_by_project_df[\"lat_max\"] - ge_by_project_df[\"lat_min\"]\n",
    "ge_by_project_df.sort_values(by=\"long_range\", axis=0, ascending=False, inplace=True)\n",
    "ge_by_project_df.head()"
   ]
  },
  {
   "cell_type": "markdown",
   "metadata": {},
   "source": [
    "#### Fetch the weather stations for the GE Project"
   ]
  },
  {
   "cell_type": "code",
   "execution_count": null,
   "metadata": {
    "collapsed": true
   },
   "outputs": [],
   "source": [
    "all_project_stations = pd.DataFrame()"
   ]
  },
  {
   "cell_type": "code",
   "execution_count": null,
   "metadata": {
    "collapsed": true
   },
   "outputs": [],
   "source": [
    "count = 0\n",
    "for index, row in ge_by_project_df.iterrows():\n",
    "    count += 1\n",
    "#     if count < 231:\n",
    "#         continue\n",
    "    try:\n",
    "        print(count)\n",
    "        print(row['p_name'])\n",
    "        lat_center = row['lat_mean']\n",
    "        long_center = row['long_mean']\n",
    "        project_stations = get_weather_stations(lat_center, long_center, square_diagonal = 0.2, top_n = 5)\n",
    "        project_stations['query_long'] = long_center\n",
    "        project_stations['query_lat'] = lat_center\n",
    "        #print(project_stations)\n",
    "        project_stations['dist_from_center'] = np.sqrt((project_stations['query_lat'] - project_stations['latitude'])**2 + (project_stations['query_long'] - project_stations['longitude'])**2)\n",
    "        project_stations = project_stations.sort_values('dist_from_center').reset_index()\n",
    "        project_stations = project_stations.loc[0:2]\n",
    "        project_stations['p_name'] = row['p_name']\n",
    "        all_project_stations = all_project_stations.append(project_stations)\n",
    "    except:\n",
    "        print('JSON Decode Error!')"
   ]
  },
  {
   "cell_type": "code",
   "execution_count": null,
   "metadata": {
    "collapsed": true
   },
   "outputs": [],
   "source": [
    "all_project_stations.to_csv('./data/01_all_project_stations.csv')"
   ]
  },
  {
   "cell_type": "code",
   "execution_count": null,
   "metadata": {
    "collapsed": true
   },
   "outputs": [],
   "source": []
  }
 ],
 "metadata": {
  "kernelspec": {
   "display_name": "Python 3",
   "language": "python",
   "name": "python3"
  },
  "language_info": {
   "codemirror_mode": {
    "name": "ipython",
    "version": 3
   },
   "file_extension": ".py",
   "mimetype": "text/x-python",
   "name": "python",
   "nbconvert_exporter": "python",
   "pygments_lexer": "ipython3",
   "version": "3.6.1"
  }
 },
 "nbformat": 4,
 "nbformat_minor": 2
}
