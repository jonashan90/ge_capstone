{
 "cells": [
  {
   "cell_type": "markdown",
   "metadata": {},
   "source": [
    "## Fetch Weather Data: API Exploration\n",
    "### *This notebook fetches weather data from two sources: NOAA and Open Weather*"
   ]
  },
  {
   "cell_type": "markdown",
   "metadata": {},
   "source": [
    "#### NOAA API\n",
    "The documentation for the web API for NOAA climate data can be found [here](https://www.ncdc.noaa.gov/cdo-web/webservices/v2)."
   ]
  },
  {
   "cell_type": "code",
   "execution_count": 1,
   "metadata": {},
   "outputs": [],
   "source": [
    "import requests\n",
    "import json\n",
    "import pandas as pd\n",
    "from pyproj import Proj\n",
    "from shapely.geometry import shape\n",
    "headers = {\"token\": \"xVEIkLnfHyheHhvoheZSxesUerlyrxGN\"}"
   ]
  },
  {
   "cell_type": "markdown",
   "metadata": {},
   "source": [
    "#### All Available Datasets"
   ]
  },
  {
   "cell_type": "code",
   "execution_count": 2,
   "metadata": {},
   "outputs": [
    {
     "name": "stdout",
     "output_type": "stream",
     "text": [
      "{'resultset': {'offset': 1, 'count': 11, 'limit': 25}}\n"
     ]
    },
    {
     "data": {
      "text/html": [
       "<div>\n",
       "<style scoped>\n",
       "    .dataframe tbody tr th:only-of-type {\n",
       "        vertical-align: middle;\n",
       "    }\n",
       "\n",
       "    .dataframe tbody tr th {\n",
       "        vertical-align: top;\n",
       "    }\n",
       "\n",
       "    .dataframe thead th {\n",
       "        text-align: right;\n",
       "    }\n",
       "</style>\n",
       "<table border=\"1\" class=\"dataframe\">\n",
       "  <thead>\n",
       "    <tr style=\"text-align: right;\">\n",
       "      <th></th>\n",
       "      <th>datacoverage</th>\n",
       "      <th>id</th>\n",
       "      <th>maxdate</th>\n",
       "      <th>mindate</th>\n",
       "      <th>name</th>\n",
       "      <th>uid</th>\n",
       "    </tr>\n",
       "  </thead>\n",
       "  <tbody>\n",
       "    <tr>\n",
       "      <th>0</th>\n",
       "      <td>1.00</td>\n",
       "      <td>GHCND</td>\n",
       "      <td>2018-10-15</td>\n",
       "      <td>1763-01-01</td>\n",
       "      <td>Daily Summaries</td>\n",
       "      <td>gov.noaa.ncdc:C00861</td>\n",
       "    </tr>\n",
       "    <tr>\n",
       "      <th>1</th>\n",
       "      <td>1.00</td>\n",
       "      <td>GSOM</td>\n",
       "      <td>2018-09-01</td>\n",
       "      <td>1763-01-01</td>\n",
       "      <td>Global Summary of the Month</td>\n",
       "      <td>gov.noaa.ncdc:C00946</td>\n",
       "    </tr>\n",
       "    <tr>\n",
       "      <th>2</th>\n",
       "      <td>1.00</td>\n",
       "      <td>GSOY</td>\n",
       "      <td>2018-01-01</td>\n",
       "      <td>1763-01-01</td>\n",
       "      <td>Global Summary of the Year</td>\n",
       "      <td>gov.noaa.ncdc:C00947</td>\n",
       "    </tr>\n",
       "    <tr>\n",
       "      <th>3</th>\n",
       "      <td>0.95</td>\n",
       "      <td>NEXRAD2</td>\n",
       "      <td>2018-10-15</td>\n",
       "      <td>1991-06-05</td>\n",
       "      <td>Weather Radar (Level II)</td>\n",
       "      <td>gov.noaa.ncdc:C00345</td>\n",
       "    </tr>\n",
       "    <tr>\n",
       "      <th>4</th>\n",
       "      <td>0.95</td>\n",
       "      <td>NEXRAD3</td>\n",
       "      <td>2018-10-13</td>\n",
       "      <td>1994-05-20</td>\n",
       "      <td>Weather Radar (Level III)</td>\n",
       "      <td>gov.noaa.ncdc:C00708</td>\n",
       "    </tr>\n",
       "    <tr>\n",
       "      <th>5</th>\n",
       "      <td>1.00</td>\n",
       "      <td>NORMAL_ANN</td>\n",
       "      <td>2010-01-01</td>\n",
       "      <td>2010-01-01</td>\n",
       "      <td>Normals Annual/Seasonal</td>\n",
       "      <td>gov.noaa.ncdc:C00821</td>\n",
       "    </tr>\n",
       "    <tr>\n",
       "      <th>6</th>\n",
       "      <td>1.00</td>\n",
       "      <td>NORMAL_DLY</td>\n",
       "      <td>2010-12-31</td>\n",
       "      <td>2010-01-01</td>\n",
       "      <td>Normals Daily</td>\n",
       "      <td>gov.noaa.ncdc:C00823</td>\n",
       "    </tr>\n",
       "    <tr>\n",
       "      <th>7</th>\n",
       "      <td>1.00</td>\n",
       "      <td>NORMAL_HLY</td>\n",
       "      <td>2010-12-31</td>\n",
       "      <td>2010-01-01</td>\n",
       "      <td>Normals Hourly</td>\n",
       "      <td>gov.noaa.ncdc:C00824</td>\n",
       "    </tr>\n",
       "    <tr>\n",
       "      <th>8</th>\n",
       "      <td>1.00</td>\n",
       "      <td>NORMAL_MLY</td>\n",
       "      <td>2010-12-01</td>\n",
       "      <td>2010-01-01</td>\n",
       "      <td>Normals Monthly</td>\n",
       "      <td>gov.noaa.ncdc:C00822</td>\n",
       "    </tr>\n",
       "    <tr>\n",
       "      <th>9</th>\n",
       "      <td>0.25</td>\n",
       "      <td>PRECIP_15</td>\n",
       "      <td>2014-01-01</td>\n",
       "      <td>1970-05-12</td>\n",
       "      <td>Precipitation 15 Minute</td>\n",
       "      <td>gov.noaa.ncdc:C00505</td>\n",
       "    </tr>\n",
       "    <tr>\n",
       "      <th>10</th>\n",
       "      <td>1.00</td>\n",
       "      <td>PRECIP_HLY</td>\n",
       "      <td>2014-01-01</td>\n",
       "      <td>1900-01-01</td>\n",
       "      <td>Precipitation Hourly</td>\n",
       "      <td>gov.noaa.ncdc:C00313</td>\n",
       "    </tr>\n",
       "  </tbody>\n",
       "</table>\n",
       "</div>"
      ],
      "text/plain": [
       "    datacoverage          id     maxdate     mindate  \\\n",
       "0           1.00       GHCND  2018-10-15  1763-01-01   \n",
       "1           1.00        GSOM  2018-09-01  1763-01-01   \n",
       "2           1.00        GSOY  2018-01-01  1763-01-01   \n",
       "3           0.95     NEXRAD2  2018-10-15  1991-06-05   \n",
       "4           0.95     NEXRAD3  2018-10-13  1994-05-20   \n",
       "5           1.00  NORMAL_ANN  2010-01-01  2010-01-01   \n",
       "6           1.00  NORMAL_DLY  2010-12-31  2010-01-01   \n",
       "7           1.00  NORMAL_HLY  2010-12-31  2010-01-01   \n",
       "8           1.00  NORMAL_MLY  2010-12-01  2010-01-01   \n",
       "9           0.25   PRECIP_15  2014-01-01  1970-05-12   \n",
       "10          1.00  PRECIP_HLY  2014-01-01  1900-01-01   \n",
       "\n",
       "                           name                   uid  \n",
       "0               Daily Summaries  gov.noaa.ncdc:C00861  \n",
       "1   Global Summary of the Month  gov.noaa.ncdc:C00946  \n",
       "2    Global Summary of the Year  gov.noaa.ncdc:C00947  \n",
       "3      Weather Radar (Level II)  gov.noaa.ncdc:C00345  \n",
       "4     Weather Radar (Level III)  gov.noaa.ncdc:C00708  \n",
       "5       Normals Annual/Seasonal  gov.noaa.ncdc:C00821  \n",
       "6                 Normals Daily  gov.noaa.ncdc:C00823  \n",
       "7                Normals Hourly  gov.noaa.ncdc:C00824  \n",
       "8               Normals Monthly  gov.noaa.ncdc:C00822  \n",
       "9       Precipitation 15 Minute  gov.noaa.ncdc:C00505  \n",
       "10         Precipitation Hourly  gov.noaa.ncdc:C00313  "
      ]
     },
     "execution_count": 2,
     "metadata": {},
     "output_type": "execute_result"
    }
   ],
   "source": [
    "url = \"https://www.ncdc.noaa.gov/cdo-web/api/v2/datasets\"\n",
    "response = requests.get(url=url, headers=headers)\n",
    "noaa_all_datasets_json = response.json()\n",
    "print(noaa_all_datasets_json[\"metadata\"])\n",
    "noaa_all_datasets_df = pd.DataFrame(noaa_all_datasets_json['results'])\n",
    "noaa_all_datasets_df"
   ]
  },
  {
   "cell_type": "markdown",
   "metadata": {},
   "source": [
    "#### Daily Summaries Dataset"
   ]
  },
  {
   "cell_type": "markdown",
   "metadata": {},
   "source": [
    "* For our purposes, we will be working with daily summaries data.\n",
    "* Fetch all information about the GHCND, Daily Summaries dataset specifically."
   ]
  },
  {
   "cell_type": "code",
   "execution_count": null,
   "metadata": {},
   "outputs": [],
   "source": [
    "url = \"https://www.ncdc.noaa.gov/cdo-web/api/v2/datasets/GHCND\"\n",
    "response = requests.get(url=url, headers=headers)\n",
    "noaa_daily_summaries_json = response.json()"
   ]
  },
  {
   "cell_type": "code",
   "execution_count": null,
   "metadata": {},
   "outputs": [],
   "source": [
    "print(noaa_daily_summaries_json)"
   ]
  },
  {
   "cell_type": "markdown",
   "metadata": {},
   "source": [
    "#### Datatype Filter"
   ]
  },
  {
   "cell_type": "code",
   "execution_count": null,
   "metadata": {},
   "outputs": [],
   "source": [
    "url = \"https://www.ncdc.noaa.gov/cdo-web/api/v2/datasets?datatypeid=TOBS\"\n",
    "response = requests.get(url=url, headers=headers)\n",
    "noaa_tobs_json = response.json()"
   ]
  },
  {
   "cell_type": "code",
   "execution_count": null,
   "metadata": {},
   "outputs": [],
   "source": [
    "noaa_tobs_json"
   ]
  },
  {
   "cell_type": "markdown",
   "metadata": {},
   "source": [
    "#### Set of Stations"
   ]
  },
  {
   "cell_type": "code",
   "execution_count": null,
   "metadata": {},
   "outputs": [],
   "source": [
    "url = \"https://www.ncdc.noaa.gov/cdo-web/api/v2/datasets?stationid=COOP:310090&stationid=COOP:310184&stationid=COOP:310212\"\n",
    "response = requests.get(url=url, headers=headers)\n",
    "noaa_stations_json = response.json()\n",
    "print(noaa_stations_json)"
   ]
  },
  {
   "cell_type": "markdown",
   "metadata": {},
   "source": [
    "Note: The above example is not working as there is no data available at the given list of stations at this moment."
   ]
  },
  {
   "cell_type": "markdown",
   "metadata": {},
   "source": [
    "#### Data Categories"
   ]
  },
  {
   "cell_type": "code",
   "execution_count": null,
   "metadata": {},
   "outputs": [],
   "source": [
    "url = \"https://www.ncdc.noaa.gov/cdo-web/api/v2/datacategories?limit=100\"\n",
    "response = requests.get(url=url, headers=headers)\n",
    "noaa_data_categories_json = response.json()\n",
    "print(noaa_data_categories_json[\"metadata\"])\n",
    "noaa_data_categories_df = pd.DataFrame(noaa_data_categories_json['results'])\n",
    "print(noaa_data_categories_df.shape)\n",
    "noaa_data_categories_df"
   ]
  },
  {
   "cell_type": "markdown",
   "metadata": {},
   "source": [
    "#### WIND Datacategory"
   ]
  },
  {
   "cell_type": "markdown",
   "metadata": {},
   "source": [
    "* We will be taking the WIND data category for our analysis in the preliminary phase.\n",
    "* Fetch all information about the Wind dataset specifically"
   ]
  },
  {
   "cell_type": "code",
   "execution_count": null,
   "metadata": {},
   "outputs": [],
   "source": [
    "url = \"https://www.ncdc.noaa.gov/cdo-web/api/v2/datacategories/WIND\"\n",
    "response = requests.get(url=url, headers=headers)\n",
    "noaa_wind_json = response.json()"
   ]
  },
  {
   "cell_type": "code",
   "execution_count": null,
   "metadata": {},
   "outputs": [],
   "source": [
    "print(noaa_wind_json)"
   ]
  },
  {
   "cell_type": "markdown",
   "metadata": {},
   "source": [
    "#### Datatypes"
   ]
  },
  {
   "cell_type": "code",
   "execution_count": null,
   "metadata": {},
   "outputs": [],
   "source": [
    "url = \"https://www.ncdc.noaa.gov/cdo-web/api/v2/datatypes\"\n",
    "response = requests.get(url=url, headers=headers)\n",
    "noaa_data_types_json = response.json()\n",
    "print(noaa_data_types_json[\"metadata\"])\n",
    "noaa_data_types_df = pd.DataFrame(noaa_data_types_json['results'])\n",
    "print(noaa_data_types_df.shape)\n",
    "noaa_data_types_df"
   ]
  },
  {
   "cell_type": "markdown",
   "metadata": {},
   "source": [
    "#### Datatype in Wind Category"
   ]
  },
  {
   "cell_type": "code",
   "execution_count": null,
   "metadata": {},
   "outputs": [],
   "source": [
    "url = \"https://www.ncdc.noaa.gov/cdo-web/api/v2/datatypes?datacategoryid=WIND&limit=56\"\n",
    "response = requests.get(url=url, headers=headers)\n",
    "noaa_wind_data_types_json = response.json()\n",
    "print(noaa_wind_data_types_json[\"metadata\"])\n",
    "noaa_wind_data_types_df = pd.DataFrame(noaa_wind_data_types_json['results'])\n",
    "print(noaa_wind_data_types_df.shape)\n",
    "noaa_wind_data_types_df"
   ]
  },
  {
   "cell_type": "markdown",
   "metadata": {},
   "source": [
    "#### Locations"
   ]
  },
  {
   "cell_type": "code",
   "execution_count": null,
   "metadata": {},
   "outputs": [],
   "source": [
    "url = \"https://www.ncdc.noaa.gov/cdo-web/api/v2/locationcategories\"\n",
    "response = requests.get(url=url, headers=headers)\n",
    "noaa_location_categories_json = response.json()\n",
    "print(noaa_location_categories_json[\"metadata\"])\n",
    "noaa_location_categories_df = pd.DataFrame(noaa_location_categories_json['results'])\n",
    "print(noaa_location_categories_df.shape)\n",
    "noaa_location_categories_df"
   ]
  },
  {
   "cell_type": "markdown",
   "metadata": {},
   "source": [
    "#### Location Category: County Level Information"
   ]
  },
  {
   "cell_type": "code",
   "execution_count": null,
   "metadata": {},
   "outputs": [],
   "source": [
    "url = \"https://www.ncdc.noaa.gov/cdo-web/api/v2/locationcategories/CNTY\"\n",
    "response = requests.get(url=url, headers=headers)\n",
    "noaa_cnty_json = response.json()"
   ]
  },
  {
   "cell_type": "code",
   "execution_count": null,
   "metadata": {},
   "outputs": [],
   "source": [
    "print(noaa_cnty_json)"
   ]
  },
  {
   "cell_type": "markdown",
   "metadata": {},
   "source": [
    "#### Available Locations for Daily Summaries Data"
   ]
  },
  {
   "cell_type": "code",
   "execution_count": null,
   "metadata": {
    "scrolled": true
   },
   "outputs": [],
   "source": [
    "url = \"https://www.ncdc.noaa.gov/cdo-web/api/v2/locations?datasetid=GHCND\"\n",
    "response = requests.get(url=url, headers=headers)\n",
    "noaa_daily_summaries_locations_json = response.json()\n",
    "print(noaa_daily_summaries_locations_json[\"metadata\"])\n",
    "noaa_daily_summaries_locations_df = pd.DataFrame(noaa_daily_summaries_locations_json['results'])\n",
    "print(noaa_daily_summaries_locations_df.shape)\n",
    "noaa_daily_summaries_locations_df"
   ]
  },
  {
   "cell_type": "markdown",
   "metadata": {},
   "source": [
    "#### Available Stations"
   ]
  },
  {
   "cell_type": "code",
   "execution_count": null,
   "metadata": {},
   "outputs": [],
   "source": [
    "#url = \"https://www.ncdc.noaa.gov/cdo-web/api/v2/locations?datasetid=GHCND\"\n",
    "url = \"https://www.ncdc.noaa.gov/cdo-web/api/v2/stations?datasetid=GHCND&datacategoryid=WIND&limit=1000&startdate=2000-01-01&extent=44.3506,-122.3201,46.492,-122.1787\"\n",
    "response = requests.get(url=url, headers=headers)\n",
    "noaa_daily_summaries_locations_json = response.json()\n",
    "print(noaa_daily_summaries_locations_json[\"metadata\"])\n",
    "noaa_daily_summaries_locations_df = pd.DataFrame(noaa_daily_summaries_locations_json['results'])\n",
    "print(noaa_daily_summaries_locations_df.shape)\n",
    "noaa_daily_summaries_locations_df"
   ]
  },
  {
   "cell_type": "markdown",
   "metadata": {},
   "source": [
    "#### Getting Stations for General Electric Project"
   ]
  },
  {
   "cell_type": "code",
   "execution_count": 3,
   "metadata": {},
   "outputs": [],
   "source": [
    "import numpy as np\n",
    "import time"
   ]
  },
  {
   "cell_type": "code",
   "execution_count": 4,
   "metadata": {},
   "outputs": [],
   "source": [
    "def get_weather_stations(lat_center, long_center, square_diagonal, top_n = 5):\n",
    "    flag = True\n",
    "    count = 0\n",
    "    while flag:\n",
    "        count += 1\n",
    "        base_url = \"https://www.ncdc.noaa.gov/cdo-web/api/v2/stations?datasetid=GHCND&datacategoryid=WIND&limit=1000&startdate=2000-01-01&extent=\"\n",
    "        epsilon = round(square_diagonal/np.sqrt(2)/2,4)\n",
    "        a = [long_center+epsilon, lat_center+epsilon]\n",
    "        b = [long_center+epsilon, lat_center-epsilon]\n",
    "        c = [long_center-epsilon, lat_center-epsilon]\n",
    "        d = [long_center-epsilon, lat_center+epsilon]\n",
    "        w = (long_center+epsilon, lat_center+epsilon)\n",
    "        x = (long_center+epsilon, lat_center-epsilon)\n",
    "        y = (long_center-epsilon, lat_center-epsilon)\n",
    "        z = (long_center-epsilon, lat_center+epsilon)\n",
    "        url_a = round(lat_center-epsilon,4)\n",
    "        url_b = round(long_center-epsilon,4)\n",
    "        url_c = round(lat_center+epsilon,4)\n",
    "        url_d = round(long_center+epsilon,4)\n",
    "        url = base_url + str(url_a) + \",\" + str(url_b) + \",\" + str(url_c) + \",\" + str(url_d)\n",
    "        response = requests.get(url=url, headers=headers)\n",
    "        all_stations = response.json()\n",
    "        try:\n",
    "            all_stations_results = pd.DataFrame(all_stations['results'])\n",
    "        except:\n",
    "            all_stations_results = pd.DataFrame()\n",
    "        try:\n",
    "            all_stations_meta = all_stations['metadata']\n",
    "        except:\n",
    "            all_stations_meta = None\n",
    "        n_stations = all_stations_results.shape[0]\n",
    "        if n_stations >= top_n:\n",
    "            print('Summary of Request: ')\n",
    "            print(all_stations_meta)\n",
    "            print('- . - . - . -')\n",
    "            n_stations = all_stations_results.shape[0]\n",
    "            {\"type\": \"Polygon\", \n",
    "             \"coordinates\": [[\n",
    "               a, b, c, d\n",
    "             ]]}\n",
    "            co = {\"type\": \"Polygon\", \"coordinates\": [\n",
    "                [w, x, y, z]]}\n",
    "            lon, lat = zip(*co['coordinates'][0])\n",
    "            pa = Proj(\"+proj=aea +lat_1=37.0 +lat_2=41.0 +lat_0=39.0 +lon_0=-106.55\")\n",
    "            x, y = pa(lon, lat)\n",
    "            cop = {\"type\": \"Polygon\", \"coordinates\": [zip(x, y)]}\n",
    "            final_area = shape(cop).area  # 268952044107.43506 square meters\n",
    "            #print('Square Meters Area Queried: ')\n",
    "            #print(final_area)\n",
    "            #print('- . - . - . -')\n",
    "            flag = False\n",
    "            #print('Gathered Sufficient Stations')\n",
    "        else:\n",
    "            #print(square_diagonal)\n",
    "            square_diagonal = square_diagonal*1.2\n",
    "            #print('Increasing Search Area...')\n",
    "        time.sleep(0.25)\n",
    "    all_stations_results['square_diagonal'] = square_diagonal\n",
    "    all_stations_results['query_count'] = count\n",
    "    all_stations_results['final_area'] = final_area\n",
    "    return all_stations_results"
   ]
  },
  {
   "cell_type": "code",
   "execution_count": 5,
   "metadata": {},
   "outputs": [],
   "source": [
    "#get_weather_stations(lat_center, long_center, square_diagonal = 0.2, top_n = 5)"
   ]
  },
  {
   "cell_type": "markdown",
   "metadata": {},
   "source": [
    "#### Query Stations for GE Projects"
   ]
  },
  {
   "cell_type": "markdown",
   "metadata": {},
   "source": [
    "* This block fetches the center latitudes and longitudes of the projects for General Electric."
   ]
  },
  {
   "cell_type": "code",
   "execution_count": 6,
   "metadata": {},
   "outputs": [
    {
     "data": {
      "text/html": [
       "<div>\n",
       "<style scoped>\n",
       "    .dataframe tbody tr th:only-of-type {\n",
       "        vertical-align: middle;\n",
       "    }\n",
       "\n",
       "    .dataframe tbody tr th {\n",
       "        vertical-align: top;\n",
       "    }\n",
       "\n",
       "    .dataframe thead th {\n",
       "        text-align: right;\n",
       "    }\n",
       "</style>\n",
       "<table border=\"1\" class=\"dataframe\">\n",
       "  <thead>\n",
       "    <tr style=\"text-align: right;\">\n",
       "      <th></th>\n",
       "      <th>p_name</th>\n",
       "      <th>center_long</th>\n",
       "      <th>center_lat</th>\n",
       "    </tr>\n",
       "  </thead>\n",
       "  <tbody>\n",
       "    <tr>\n",
       "      <th>0</th>\n",
       "      <td>6th Space Warning Squadron</td>\n",
       "      <td>-70.543552</td>\n",
       "      <td>41.753341</td>\n",
       "    </tr>\n",
       "    <tr>\n",
       "      <th>1</th>\n",
       "      <td>AFCEE MMR Turbines</td>\n",
       "      <td>-70.546550</td>\n",
       "      <td>41.758590</td>\n",
       "    </tr>\n",
       "    <tr>\n",
       "      <th>2</th>\n",
       "      <td>AG Land 1</td>\n",
       "      <td>-93.325691</td>\n",
       "      <td>42.206390</td>\n",
       "    </tr>\n",
       "    <tr>\n",
       "      <th>3</th>\n",
       "      <td>AG Land 2</td>\n",
       "      <td>-93.428093</td>\n",
       "      <td>42.146091</td>\n",
       "    </tr>\n",
       "    <tr>\n",
       "      <th>4</th>\n",
       "      <td>AG Land 3</td>\n",
       "      <td>-93.431992</td>\n",
       "      <td>42.145592</td>\n",
       "    </tr>\n",
       "  </tbody>\n",
       "</table>\n",
       "</div>"
      ],
      "text/plain": [
       "                       p_name  center_long  center_lat\n",
       "0  6th Space Warning Squadron   -70.543552   41.753341\n",
       "1          AFCEE MMR Turbines   -70.546550   41.758590\n",
       "2                   AG Land 1   -93.325691   42.206390\n",
       "3                   AG Land 2   -93.428093   42.146091\n",
       "4                   AG Land 3   -93.431992   42.145592"
      ]
     },
     "execution_count": 6,
     "metadata": {},
     "output_type": "execute_result"
    }
   ],
   "source": [
    "usgs_data = pd.read_csv('./uswtdbCSV/uswtdb_v1_1_20180710.csv')\n",
    "usgs_ge_data = usgs_data[usgs_data[\"t_manu\"] == \"GE Wind\"]\n",
    "ge_projects_df = pd.pivot_table(usgs_ge_data, values=[\"xlong\", \"ylat\"], columns=\"p_name\", aggfunc=\"mean\").transpose()\n",
    "ge_projects_df.reset_index(inplace=True)\n",
    "ge_projects_df.columns = ['p_name', 'center_long', 'center_lat']\n",
    "ge_projects_df.head()"
   ]
  },
  {
   "cell_type": "markdown",
   "metadata": {},
   "source": [
    "* All GE Projects: Range of the turbine locations"
   ]
  },
  {
   "cell_type": "code",
   "execution_count": 7,
   "metadata": {},
   "outputs": [
    {
     "data": {
      "text/html": [
       "<div>\n",
       "<style scoped>\n",
       "    .dataframe tbody tr th:only-of-type {\n",
       "        vertical-align: middle;\n",
       "    }\n",
       "\n",
       "    .dataframe tbody tr th {\n",
       "        vertical-align: top;\n",
       "    }\n",
       "\n",
       "    .dataframe thead th {\n",
       "        text-align: right;\n",
       "    }\n",
       "</style>\n",
       "<table border=\"1\" class=\"dataframe\">\n",
       "  <thead>\n",
       "    <tr style=\"text-align: right;\">\n",
       "      <th></th>\n",
       "      <th>p_name</th>\n",
       "      <th>long_min</th>\n",
       "      <th>long_max</th>\n",
       "      <th>long_mean</th>\n",
       "      <th>lat_min</th>\n",
       "      <th>lat_max</th>\n",
       "      <th>lat_mean</th>\n",
       "      <th>long_range</th>\n",
       "      <th>lat_range</th>\n",
       "    </tr>\n",
       "  </thead>\n",
       "  <tbody>\n",
       "    <tr>\n",
       "      <th>373</th>\n",
       "      <td>Thunder Ranch</td>\n",
       "      <td>-97.495476</td>\n",
       "      <td>-97.091446</td>\n",
       "      <td>-97.306297</td>\n",
       "      <td>36.527344</td>\n",
       "      <td>36.632317</td>\n",
       "      <td>36.572365</td>\n",
       "      <td>0.404030</td>\n",
       "      <td>0.104973</td>\n",
       "    </tr>\n",
       "    <tr>\n",
       "      <th>287</th>\n",
       "      <td>Peetz Table</td>\n",
       "      <td>-103.529190</td>\n",
       "      <td>-103.137192</td>\n",
       "      <td>-103.322228</td>\n",
       "      <td>40.896992</td>\n",
       "      <td>40.998993</td>\n",
       "      <td>40.961955</td>\n",
       "      <td>0.391998</td>\n",
       "      <td>0.102001</td>\n",
       "    </tr>\n",
       "    <tr>\n",
       "      <th>164</th>\n",
       "      <td>Horse Hollow</td>\n",
       "      <td>-100.327034</td>\n",
       "      <td>-99.958275</td>\n",
       "      <td>-100.173965</td>\n",
       "      <td>32.180569</td>\n",
       "      <td>32.305607</td>\n",
       "      <td>32.253115</td>\n",
       "      <td>0.368759</td>\n",
       "      <td>0.125038</td>\n",
       "    </tr>\n",
       "    <tr>\n",
       "      <th>39</th>\n",
       "      <td>Brady Wind I</td>\n",
       "      <td>-102.953804</td>\n",
       "      <td>-102.605217</td>\n",
       "      <td>-102.756389</td>\n",
       "      <td>46.632294</td>\n",
       "      <td>46.719784</td>\n",
       "      <td>46.656348</td>\n",
       "      <td>0.348587</td>\n",
       "      <td>0.087490</td>\n",
       "    </tr>\n",
       "    <tr>\n",
       "      <th>126</th>\n",
       "      <td>Flat Ridge 2</td>\n",
       "      <td>-98.425491</td>\n",
       "      <td>-98.078690</td>\n",
       "      <td>-98.252666</td>\n",
       "      <td>37.323296</td>\n",
       "      <td>37.410694</td>\n",
       "      <td>37.371157</td>\n",
       "      <td>0.346801</td>\n",
       "      <td>0.087398</td>\n",
       "    </tr>\n",
       "  </tbody>\n",
       "</table>\n",
       "</div>"
      ],
      "text/plain": [
       "            p_name    long_min    long_max   long_mean    lat_min    lat_max  \\\n",
       "373  Thunder Ranch  -97.495476  -97.091446  -97.306297  36.527344  36.632317   \n",
       "287    Peetz Table -103.529190 -103.137192 -103.322228  40.896992  40.998993   \n",
       "164   Horse Hollow -100.327034  -99.958275 -100.173965  32.180569  32.305607   \n",
       "39    Brady Wind I -102.953804 -102.605217 -102.756389  46.632294  46.719784   \n",
       "126   Flat Ridge 2  -98.425491  -98.078690  -98.252666  37.323296  37.410694   \n",
       "\n",
       "      lat_mean  long_range  lat_range  \n",
       "373  36.572365    0.404030   0.104973  \n",
       "287  40.961955    0.391998   0.102001  \n",
       "164  32.253115    0.368759   0.125038  \n",
       "39   46.656348    0.348587   0.087490  \n",
       "126  37.371157    0.346801   0.087398  "
      ]
     },
     "execution_count": 7,
     "metadata": {},
     "output_type": "execute_result"
    }
   ],
   "source": [
    "usgs_data = pd.read_csv('./uswtdbCSV/uswtdb_v1_1_20180710.csv')\n",
    "usgs_ge_data = usgs_data[usgs_data[\"t_manu\"] == \"GE Wind\"]\n",
    "usgs_ge_data = usgs_ge_data[(usgs_ge_data[\"case_id\"] != 3064510) & (usgs_ge_data[\"case_id\"] != 3064731)]\n",
    "ge_by_project_df = usgs_ge_data.groupby(\"p_name\")[[\"xlong\", \"ylat\"]].agg([\"min\", \"max\", \"mean\"])\n",
    "ge_by_project_df.reset_index(inplace=True)\n",
    "ge_by_project_df.columns = [\"p_name\", \"long_min\", \"long_max\", \"long_mean\", \"lat_min\", \"lat_max\", \"lat_mean\"]\n",
    "ge_by_project_df[\"long_range\"] = ge_by_project_df[\"long_max\"] - ge_by_project_df[\"long_min\"]\n",
    "ge_by_project_df[\"lat_range\"] = ge_by_project_df[\"lat_max\"] - ge_by_project_df[\"lat_min\"]\n",
    "ge_by_project_df.sort_values(by=\"long_range\", axis=0, ascending=False, inplace=True)\n",
    "ge_by_project_df.head()"
   ]
  },
  {
   "cell_type": "markdown",
   "metadata": {},
   "source": [
    "#### Fetch the weather stations for the GE Project"
   ]
  },
  {
   "cell_type": "code",
   "execution_count": 8,
   "metadata": {},
   "outputs": [],
   "source": [
    "all_project_stations = pd.DataFrame()"
   ]
  },
  {
   "cell_type": "code",
   "execution_count": null,
   "metadata": {},
   "outputs": [
    {
     "name": "stdout",
     "output_type": "stream",
     "text": [
      "1\n",
      "Thunder Ranch\n",
      "Summary of Request: \n",
      "{'resultset': {'offset': 1, 'count': 6, 'limit': 1000}}\n",
      "- . - . - . -\n",
      "2\n",
      "Peetz Table\n",
      "Summary of Request: \n",
      "{'resultset': {'offset': 1, 'count': 5, 'limit': 1000}}\n",
      "- . - . - . -\n",
      "3\n",
      "Horse Hollow\n",
      "Summary of Request: \n",
      "{'resultset': {'offset': 1, 'count': 6, 'limit': 1000}}\n",
      "- . - . - . -\n",
      "4\n",
      "Brady Wind I\n",
      "Summary of Request: \n",
      "{'resultset': {'offset': 1, 'count': 5, 'limit': 1000}}\n",
      "- . - . - . -\n",
      "5\n",
      "Flat Ridge 2\n",
      "Summary of Request: \n",
      "{'resultset': {'offset': 1, 'count': 5, 'limit': 1000}}\n",
      "- . - . - . -\n",
      "6\n",
      "Prairie Breeze\n",
      "Summary of Request: \n",
      "{'resultset': {'offset': 1, 'count': 5, 'limit': 1000}}\n",
      "- . - . - . -\n",
      "7\n",
      "Panhandle Wind 1\n",
      "Summary of Request: \n",
      "{'resultset': {'offset': 1, 'count': 7, 'limit': 1000}}\n",
      "- . - . - . -\n",
      "8\n",
      "Rush Springs Wind Energy Center\n",
      "Summary of Request: \n",
      "{'resultset': {'offset': 1, 'count': 5, 'limit': 1000}}\n",
      "- . - . - . -\n",
      "9\n",
      "Flat Ridge 2 Expansion\n",
      "Summary of Request: \n",
      "{'resultset': {'offset': 1, 'count': 5, 'limit': 1000}}\n",
      "- . - . - . -\n",
      "10\n",
      "Chisholm View\n",
      "Summary of Request: \n",
      "{'resultset': {'offset': 1, 'count': 5, 'limit': 1000}}\n",
      "- . - . - . -\n",
      "11\n",
      "Kingman Wind Energy Center\n",
      "Summary of Request: \n",
      "{'resultset': {'offset': 1, 'count': 5, 'limit': 1000}}\n",
      "- . - . - . -\n",
      "12\n",
      "Capricorn Ridge\n",
      "Summary of Request: \n",
      "{'resultset': {'offset': 1, 'count': 7, 'limit': 1000}}\n",
      "- . - . - . -\n",
      "13\n",
      "Brady Wind II\n",
      "Summary of Request: \n",
      "{'resultset': {'offset': 1, 'count': 5, 'limit': 1000}}\n",
      "- . - . - . -\n"
     ]
    }
   ],
   "source": [
    "count = 0\n",
    "for index, row in ge_by_project_df.iterrows():\n",
    "    count += 1\n",
    "#     if count < 231:\n",
    "#         continue\n",
    "    try:\n",
    "        print(count)\n",
    "        print(row['p_name'])\n",
    "        lat_center = row['lat_mean']\n",
    "        long_center = row['long_mean']\n",
    "        project_stations = get_weather_stations(lat_center, long_center, square_diagonal = 0.2, top_n = 5)\n",
    "        project_stations['query_long'] = long_center\n",
    "        project_stations['query_lat'] = lat_center\n",
    "        #print(project_stations)\n",
    "        project_stations['dist_from_center'] = np.sqrt((project_stations['query_lat'] - project_stations['latitude'])**2 + (project_stations['query_long'] - project_stations['longitude'])**2)\n",
    "        project_stations = project_stations.sort_values('dist_from_center').reset_index()\n",
    "        project_stations = project_stations.loc[0:2]\n",
    "        project_stations['p_name'] = row['p_name']\n",
    "        all_project_stations = all_project_stations.append(project_stations)\n",
    "    except:\n",
    "        print('JSON Decode Error!')"
   ]
  },
  {
   "cell_type": "code",
   "execution_count": null,
   "metadata": {},
   "outputs": [],
   "source": [
    "all_project_stations.to_csv('./data/01_all_project_stations.csv')"
   ]
  },
  {
   "cell_type": "code",
   "execution_count": null,
   "metadata": {},
   "outputs": [],
   "source": []
  }
 ],
 "metadata": {
  "kernelspec": {
   "display_name": "Python 3",
   "language": "python",
   "name": "python3"
  },
  "language_info": {
   "codemirror_mode": {
    "name": "ipython",
    "version": 3
   },
   "file_extension": ".py",
   "mimetype": "text/x-python",
   "name": "python",
   "nbconvert_exporter": "python",
   "pygments_lexer": "ipython3",
   "version": "3.6.5"
  }
 },
 "nbformat": 4,
 "nbformat_minor": 2
}
