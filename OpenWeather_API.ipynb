{
 "cells": [
  {
   "cell_type": "code",
   "execution_count": 1,
   "metadata": {
    "collapsed": true
   },
   "outputs": [],
   "source": [
    "import openweather\n",
    "from datetime import datetime"
   ]
  },
  {
   "cell_type": "code",
   "execution_count": 2,
   "metadata": {
    "collapsed": true
   },
   "outputs": [],
   "source": [
    "ow = openweather.OpenWeather()"
   ]
  },
  {
   "cell_type": "code",
   "execution_count": 3,
   "metadata": {},
   "outputs": [
    {
     "name": "stdout",
     "output_type": "stream",
     "text": [
      "2013-09-10 00:00:00\n",
      "2013-09-15 00:00:00\n"
     ]
    },
    {
     "name": "stderr",
     "output_type": "stream",
     "text": [
      "OpenWeather.do_request() got unknown exception: <class 'AttributeError'> (1. attempt)\n",
      "OpenWeather.do_request() got unknown exception: <class 'AttributeError'> (2. attempt)\n",
      "OpenWeather.do_request() got unknown exception: <class 'AttributeError'> (3. attempt)\n"
     ]
    },
    {
     "name": "stdout",
     "output_type": "stream",
     "text": [
      "None\n"
     ]
    },
    {
     "name": "stderr",
     "output_type": "stream",
     "text": [
      "OpenWeather.do_request() got unknown exception: <class 'AttributeError'> (1. attempt)\n",
      "OpenWeather.do_request() got unknown exception: <class 'AttributeError'> (2. attempt)\n",
      "OpenWeather.do_request() got unknown exception: <class 'AttributeError'> (3. attempt)\n"
     ]
    },
    {
     "name": "stdout",
     "output_type": "stream",
     "text": [
      "None\n"
     ]
    }
   ],
   "source": [
    "# historic weather\n",
    "start_date = datetime(2013, 9, 10)\n",
    "end_date = datetime(2013, 9, 15)\n",
    "\n",
    "print(start_date)\n",
    "print(end_date)\n",
    "\n",
    "# default: hourly interval\n",
    "print(ow.get_historic_weather(4885, start_date, end_date))\n",
    "\n",
    "# daily aggregates\n",
    "print(ow.get_historic_weather(4885, start_date, end_date, \"day\"))"
   ]
  },
  {
   "cell_type": "code",
   "execution_count": null,
   "metadata": {
    "collapsed": true
   },
   "outputs": [],
   "source": []
  }
 ],
 "metadata": {
  "kernelspec": {
   "display_name": "Python 3",
   "language": "python",
   "name": "python3"
  },
  "language_info": {
   "codemirror_mode": {
    "name": "ipython",
    "version": 3
   },
   "file_extension": ".py",
   "mimetype": "text/x-python",
   "name": "python",
   "nbconvert_exporter": "python",
   "pygments_lexer": "ipython3",
   "version": "3.6.1"
  }
 },
 "nbformat": 4,
 "nbformat_minor": 2
}
